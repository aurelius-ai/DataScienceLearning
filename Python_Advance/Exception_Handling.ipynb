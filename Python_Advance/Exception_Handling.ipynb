{
 "cells": [
  {
   "cell_type": "code",
   "execution_count": 1,
   "metadata": {
    "collapsed": false
   },
   "outputs": [
    {
     "name": "stdout",
     "output_type": "stream",
     "text": [
      "Please enter a number: 11.7\n"
     ]
    },
    {
     "ename": "ValueError",
     "evalue": "invalid literal for int() with base 10: '11.7'",
     "output_type": "error",
     "traceback": [
      "\u001b[0;31m---------------------------------------------------------------------------\u001b[0m",
      "\u001b[0;31mValueError\u001b[0m                                Traceback (most recent call last)",
      "\u001b[0;32m<ipython-input-1-a2c4228fcc20>\u001b[0m in \u001b[0;36m<module>\u001b[0;34m()\u001b[0m\n\u001b[0;32m----> 1\u001b[0;31m \u001b[0mnum\u001b[0m \u001b[1;33m=\u001b[0m \u001b[0mint\u001b[0m\u001b[1;33m(\u001b[0m\u001b[0minput\u001b[0m\u001b[1;33m(\u001b[0m\u001b[1;34m\"Please enter a number: \"\u001b[0m\u001b[1;33m)\u001b[0m\u001b[1;33m)\u001b[0m\u001b[1;33m\u001b[0m\u001b[0m\n\u001b[0m\u001b[1;32m      2\u001b[0m \u001b[1;31m#Please enter a number: 11.7 #without exception handling\u001b[0m\u001b[1;33m\u001b[0m\u001b[1;33m\u001b[0m\u001b[0m\n",
      "\u001b[0;31mValueError\u001b[0m: invalid literal for int() with base 10: '11.7'"
     ]
    }
   ],
   "source": [
    "num = int(input(\"Please enter a number: \"))\n",
    "#without exception handling. It only takes integer values"
   ]
  },
  {
   "cell_type": "code",
   "execution_count": 2,
   "metadata": {
    "collapsed": false
   },
   "outputs": [
    {
     "name": "stdout",
     "output_type": "stream",
     "text": [
      "Please enter an integer: 12.2\n",
      "Not a valid integer! Please try again ...\n",
      "Please enter an integer: 11\n",
      "Great, you have successfully entered an integer!\n"
     ]
    }
   ],
   "source": [
    "#With exception handling\n",
    "while True:\n",
    "    try:\n",
    "        num = input(\"Please enter an integer: \")\n",
    "        num = int(num)\n",
    "        break\n",
    "    except ValueError:\n",
    "        print(\"Not a valid integer! Please try again ...\")\n",
    "print(\"Great, you have successfully entered an integer!\")"
   ]
  },
  {
   "cell_type": "code",
   "execution_count": 5,
   "metadata": {
    "collapsed": false
   },
   "outputs": [
    {
     "ename": "FileNotFoundError",
     "evalue": "[Errno 2] No such file or directory: 'samplefile'",
     "output_type": "error",
     "traceback": [
      "\u001b[0;31m---------------------------------------------------------------------------\u001b[0m",
      "\u001b[0;31mFileNotFoundError\u001b[0m                         Traceback (most recent call last)",
      "\u001b[0;32m<ipython-input-5-1b4574dce357>\u001b[0m in \u001b[0;36m<module>\u001b[0;34m()\u001b[0m\n\u001b[0;32m----> 1\u001b[0;31m \u001b[0mfh\u001b[0m \u001b[1;33m=\u001b[0m \u001b[0mopen\u001b[0m\u001b[1;33m(\u001b[0m\u001b[1;34m\"samplefile\"\u001b[0m\u001b[1;33m,\u001b[0m \u001b[1;34m\"r\"\u001b[0m\u001b[1;33m)\u001b[0m\u001b[1;33m\u001b[0m\u001b[0m\n\u001b[0m\u001b[1;32m      2\u001b[0m \u001b[0mfh\u001b[0m\u001b[1;33m.\u001b[0m\u001b[0mwrite\u001b[0m\u001b[1;33m(\u001b[0m\u001b[1;34m\"Test file for exception handling!!\"\u001b[0m\u001b[1;33m)\u001b[0m\u001b[1;33m\u001b[0m\u001b[0m\n\u001b[1;32m      3\u001b[0m \u001b[0mfh\u001b[0m\u001b[1;33m.\u001b[0m\u001b[0mclose\u001b[0m\u001b[1;33m(\u001b[0m\u001b[1;33m)\u001b[0m \u001b[1;31m#without exception handling\u001b[0m\u001b[1;33m\u001b[0m\u001b[0m\n",
      "\u001b[0;31mFileNotFoundError\u001b[0m: [Errno 2] No such file or directory: 'samplefile'"
     ]
    }
   ],
   "source": [
    "fh = open(\"samplefile\", \"r\")\n",
    "fh.write(\"Test file for exception handling!!\")\n",
    "fh.close() #without exception handling"
   ]
  },
  {
   "cell_type": "code",
   "execution_count": 6,
   "metadata": {
    "collapsed": false
   },
   "outputs": [
    {
     "name": "stdout",
     "output_type": "stream",
     "text": [
      "Error: can't find file or read data\n"
     ]
    }
   ],
   "source": [
    "try:\n",
    "    fh = open(\"testfile2\", \"r\")\n",
    "    fh.write(\"This is my test file for exception handling!!\")\n",
    "except IOError:\n",
    "    print(\"Error: can\\'t find file or read data\")\n",
    "else:\n",
    "    print(\"Written content in the file successfully\")  #IOError"
   ]
  },
  {
   "cell_type": "code",
   "execution_count": 7,
   "metadata": {
    "collapsed": false
   },
   "outputs": [
    {
     "name": "stdout",
     "output_type": "stream",
     "text": [
      "x: 20\n",
      "b: 10\n",
      "x/y =  2.0\n"
     ]
    }
   ],
   "source": [
    "x = int(input('x: ')) \n",
    "y = int(input('b: '))\n",
    "try:\n",
    "     print (\"x/y = \", x/y)\n",
    "except ZeroDivisionError:\n",
    "     print (\"division is not possible for these numbers\")"
   ]
  },
  {
   "cell_type": "code",
   "execution_count": 9,
   "metadata": {
    "collapsed": false
   },
   "outputs": [
    {
     "name": "stdout",
     "output_type": "stream",
     "text": [
      "x: 20\n",
      "b: 0\n",
      "division is not possible for these numbers\n"
     ]
    }
   ],
   "source": [
    "x = int(input('x: ')) \n",
    "y = int(input('b: '))\n",
    "try:\n",
    "     print (\"x/y = \", x/y)\n",
    "except ZeroDivisionError:\n",
    "     print (\"division is not possible for these numbers\") # ZeroDivisonError"
   ]
  },
  {
   "cell_type": "code",
   "execution_count": 15,
   "metadata": {
    "collapsed": false
   },
   "outputs": [
    {
     "name": "stdout",
     "output_type": "stream",
     "text": [
      "Enter your height: 9.2\n",
      "exceptional height\n"
     ]
    }
   ],
   "source": [
    "# defining height function\n",
    "def height(h):\n",
    "    if h < 0:\n",
    "        raise ValueError(\"Only positive numbers are allowed\") \n",
    "    if h > 9:\n",
    "        print(\"exceptional height\")\n",
    "    else:\n",
    "        print(\"height is appropriate\")  \n",
    "try:\n",
    "    num = float(input(\"Enter your height: \")) \n",
    "    height(num)\n",
    "except ValueError:\n",
    "    print(\"Only positive integers are allowed\")"
   ]
  },
  {
   "cell_type": "code",
   "execution_count": 17,
   "metadata": {
    "collapsed": false
   },
   "outputs": [
    {
     "name": "stdout",
     "output_type": "stream",
     "text": [
      "Enter your height: -2.2\n",
      "Only positive integers are allowed\n"
     ]
    }
   ],
   "source": [
    "# defining height function\n",
    "def height(h):\n",
    "    if h < 0:\n",
    "        raise ValueError(\"Only positive numbers are allowed\") \n",
    "    if h > 9:\n",
    "        print(\"exceptional height\")\n",
    "    else:\n",
    "        print(\"height is appropriate\")  \n",
    "try:\n",
    "    num = float(input(\"Enter your height: \")) \n",
    "    height(num)\n",
    "except ValueError:\n",
    "    print(\"Only positive integers are allowed\")  # ValueError Example"
   ]
  }
 ],
 "metadata": {
  "kernelspec": {
   "display_name": "Python 3",
   "language": "python",
   "name": "python3"
  },
  "language_info": {
   "codemirror_mode": {
    "name": "ipython",
    "version": 3
   },
   "file_extension": ".py",
   "mimetype": "text/x-python",
   "name": "python",
   "nbconvert_exporter": "python",
   "pygments_lexer": "ipython3",
   "version": "3.6.0"
  }
 },
 "nbformat": 4,
 "nbformat_minor": 2
}
