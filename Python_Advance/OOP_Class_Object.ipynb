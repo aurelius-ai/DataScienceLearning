{
 "cells": [
  {
   "cell_type": "markdown",
   "metadata": {},
   "source": [
    "# Class\n",
    "\n",
    "A class is a collection of similar objects"
   ]
  },
  {
   "cell_type": "code",
   "execution_count": 1,
   "metadata": {
    "collapsed": true
   },
   "outputs": [],
   "source": [
    "# Creating a class\n",
    "class my_class:\n",
    "    my_int = 10\n",
    "    def my_funct(self):\n",
    "        print(\"This is my function\")"
   ]
  },
  {
   "cell_type": "code",
   "execution_count": 2,
   "metadata": {
    "collapsed": true
   },
   "outputs": [],
   "source": [
    "#Creating an object\n",
    "obj1 = my_class()             # Memory is allocated now"
   ]
  },
  {
   "cell_type": "code",
   "execution_count": 3,
   "metadata": {
    "collapsed": false
   },
   "outputs": [
    {
     "data": {
      "text/plain": [
       "10"
      ]
     },
     "execution_count": 3,
     "metadata": {},
     "output_type": "execute_result"
    }
   ],
   "source": [
    "#Access properties of class\n",
    "obj1.my_int"
   ]
  },
  {
   "cell_type": "code",
   "execution_count": 4,
   "metadata": {
    "collapsed": false
   },
   "outputs": [
    {
     "name": "stdout",
     "output_type": "stream",
     "text": [
      "This is my function\n"
     ]
    }
   ],
   "source": [
    "obj1.my_funct()"
   ]
  },
  {
   "cell_type": "code",
   "execution_count": 5,
   "metadata": {
    "collapsed": false
   },
   "outputs": [
    {
     "name": "stdout",
     "output_type": "stream",
     "text": [
      "20\n"
     ]
    }
   ],
   "source": [
    "obj2 = my_class()\n",
    "obj2.my_int2 = 20\n",
    "print(obj2.my_int2)"
   ]
  },
  {
   "cell_type": "code",
   "execution_count": 6,
   "metadata": {
    "collapsed": true
   },
   "outputs": [],
   "source": [
    "class country:\n",
    "    name = \"\"\n",
    "    kind = \"country\"\n",
    "    population = 10000\n",
    "    def description(self):\n",
    "        desc_str = \"%s is a %s with a population of %.f million\" % (self.name, self.kind, self.population)\n",
    "        return desc_str"
   ]
  },
  {
   "cell_type": "code",
   "execution_count": 7,
   "metadata": {
    "collapsed": false
   },
   "outputs": [
    {
     "name": "stdout",
     "output_type": "stream",
     "text": [
      "India is a country with a population of 1320 million\n"
     ]
    }
   ],
   "source": [
    "country1 = country()\n",
    "country1.name = 'India'\n",
    "country1.population = 1320\n",
    "\n",
    "print(country1.description())"
   ]
  },
  {
   "cell_type": "code",
   "execution_count": 8,
   "metadata": {
    "collapsed": false
   },
   "outputs": [
    {
     "name": "stdout",
     "output_type": "stream",
     "text": [
      "United States is a country with a population of 326 million\n"
     ]
    }
   ],
   "source": [
    "country2 = country()\n",
    "country2.name = 'United States'\n",
    "country2.population = 326\n",
    "\n",
    "print(country2.description())"
   ]
  },
  {
   "cell_type": "code",
   "execution_count": 9,
   "metadata": {
    "collapsed": true
   },
   "outputs": [],
   "source": [
    "# public class, anyone can access\n",
    "# private class, only child class can access\n",
    "# protected class, only you can access\n",
    "\n",
    "class calculator:\n",
    "    def my_add(self, x, y):\n",
    "        return (x + y)\n",
    "    def my_square(self, x):\n",
    "        return x*x"
   ]
  },
  {
   "cell_type": "code",
   "execution_count": 10,
   "metadata": {
    "collapsed": true
   },
   "outputs": [],
   "source": [
    "first_square = calculator()"
   ]
  },
  {
   "cell_type": "code",
   "execution_count": 11,
   "metadata": {
    "collapsed": false
   },
   "outputs": [
    {
     "data": {
      "text/plain": [
       "25"
      ]
     },
     "execution_count": 11,
     "metadata": {},
     "output_type": "execute_result"
    }
   ],
   "source": [
    "first_square.my_square(5)"
   ]
  },
  {
   "cell_type": "code",
   "execution_count": 12,
   "metadata": {
    "collapsed": true
   },
   "outputs": [],
   "source": [
    "#This is a child class inherit the properties from\n",
    "#parent class of \"calculator\"\n",
    "\n",
    "class child_class(calculator): \n",
    "    def my_mult(self, x, y):\n",
    "        return(x*y)"
   ]
  },
  {
   "cell_type": "code",
   "execution_count": 13,
   "metadata": {
    "collapsed": false
   },
   "outputs": [],
   "source": [
    "first_mult = child_class()"
   ]
  },
  {
   "cell_type": "code",
   "execution_count": 14,
   "metadata": {
    "collapsed": false
   },
   "outputs": [
    {
     "data": {
      "text/plain": [
       "200"
      ]
     },
     "execution_count": 14,
     "metadata": {},
     "output_type": "execute_result"
    }
   ],
   "source": [
    "first_mult.my_mult(10,20)"
   ]
  },
  {
   "cell_type": "code",
   "execution_count": 15,
   "metadata": {
    "collapsed": true
   },
   "outputs": [],
   "source": [
    "#Example of init class \"__init__ method called automatically  \n",
    "class job:\n",
    "    def __init__(self):\n",
    "        print(\"Please enter your first name\")\n",
    "    def calling_parent(self):\n",
    "        print(\"parent calling\")"
   ]
  },
  {
   "cell_type": "code",
   "execution_count": 16,
   "metadata": {
    "collapsed": false
   },
   "outputs": [],
   "source": [
    "# class and objects\n",
    "class form(job):\n",
    "    def calling_child(self):\n",
    "        print(\"child calling\")"
   ]
  },
  {
   "cell_type": "code",
   "execution_count": 17,
   "metadata": {
    "collapsed": false
   },
   "outputs": [
    {
     "name": "stdout",
     "output_type": "stream",
     "text": [
      "Please enter your first name\n"
     ]
    }
   ],
   "source": [
    "candidate1  =  job()"
   ]
  },
  {
   "cell_type": "code",
   "execution_count": 18,
   "metadata": {
    "collapsed": false
   },
   "outputs": [
    {
     "name": "stdout",
     "output_type": "stream",
     "text": [
      "Please enter your first name\n"
     ]
    }
   ],
   "source": [
    "candidate2 = job()"
   ]
  },
  {
   "cell_type": "code",
   "execution_count": 19,
   "metadata": {
    "collapsed": false
   },
   "outputs": [
    {
     "name": "stdout",
     "output_type": "stream",
     "text": [
      "Please enter your first name\n"
     ]
    }
   ],
   "source": [
    "candidate3 = form()"
   ]
  },
  {
   "cell_type": "code",
   "execution_count": 20,
   "metadata": {
    "collapsed": false
   },
   "outputs": [
    {
     "name": "stdout",
     "output_type": "stream",
     "text": [
      "parent calling\n"
     ]
    }
   ],
   "source": [
    "candidate3.calling_parent()"
   ]
  },
  {
   "cell_type": "code",
   "execution_count": 21,
   "metadata": {
    "collapsed": true
   },
   "outputs": [],
   "source": [
    "class Parent:        \n",
    "    parentAttr = 100\n",
    "    def __init__(self):\n",
    "        print(\"Calling parent constructor\")\n",
    "    def parentMethod(self):\n",
    "        print('Calling parent method')\n",
    "    \n",
    "    def setAttr(self, attr):\n",
    "        Parent.parentAttr = attr\n",
    "    \n",
    "    def getAttr(self):\n",
    "        print(\"Parent attribute :\", Parent.parentAttr)"
   ]
  },
  {
   "cell_type": "code",
   "execution_count": 22,
   "metadata": {
    "collapsed": true
   },
   "outputs": [],
   "source": [
    "class Child(Parent): \n",
    "    \n",
    "    def childMethod(self):\n",
    "        print('Calling child method')"
   ]
  },
  {
   "cell_type": "code",
   "execution_count": 23,
   "metadata": {
    "collapsed": false
   },
   "outputs": [
    {
     "name": "stdout",
     "output_type": "stream",
     "text": [
      "Calling parent constructor\n"
     ]
    }
   ],
   "source": [
    "d1 = Child()"
   ]
  },
  {
   "cell_type": "code",
   "execution_count": 24,
   "metadata": {
    "collapsed": false
   },
   "outputs": [
    {
     "name": "stdout",
     "output_type": "stream",
     "text": [
      "Calling parent constructor\n"
     ]
    }
   ],
   "source": [
    "d2 = Parent()"
   ]
  },
  {
   "cell_type": "code",
   "execution_count": 25,
   "metadata": {
    "collapsed": false
   },
   "outputs": [],
   "source": [
    "class  Child(Parent):\n",
    "    def  ___init__(self):\n",
    "            Parent.__init__(self) \n",
    "    def childMethod(self):\n",
    "        print('Calling child method')"
   ]
  },
  {
   "cell_type": "code",
   "execution_count": 26,
   "metadata": {
    "collapsed": true
   },
   "outputs": [],
   "source": [
    "class MyParentClass():\n",
    "    def __init__(self):\n",
    "        pass\n",
    "    def a_f(self, a,b):\n",
    "        return(a+b)\n",
    "\n",
    "class SubClass(MyParentClass):\n",
    "    def __init__(self):\n",
    "        super()"
   ]
  },
  {
   "cell_type": "code",
   "execution_count": 27,
   "metadata": {
    "collapsed": true
   },
   "outputs": [],
   "source": [
    "mp  = MyParentClass()"
   ]
  },
  {
   "cell_type": "code",
   "execution_count": 28,
   "metadata": {
    "collapsed": false
   },
   "outputs": [
    {
     "data": {
      "text/plain": [
       "7"
      ]
     },
     "execution_count": 28,
     "metadata": {},
     "output_type": "execute_result"
    }
   ],
   "source": [
    "mp.a_f(2,5)"
   ]
  },
  {
   "cell_type": "code",
   "execution_count": 29,
   "metadata": {
    "collapsed": true
   },
   "outputs": [],
   "source": [
    "mp1 = SubClass()"
   ]
  },
  {
   "cell_type": "code",
   "execution_count": 30,
   "metadata": {
    "collapsed": false
   },
   "outputs": [
    {
     "data": {
      "text/plain": [
       "140"
      ]
     },
     "execution_count": 30,
     "metadata": {},
     "output_type": "execute_result"
    }
   ],
   "source": [
    "mp1.a_f(55,85)"
   ]
  },
  {
   "cell_type": "code",
   "execution_count": 31,
   "metadata": {
    "collapsed": false
   },
   "outputs": [],
   "source": [
    "class bank:\n",
    "    # initializing the variables\n",
    "    bal_amt = 100\n",
    "    pin_entry = 123\n",
    "    withdraw = 0\n",
    "    rem_bal = bal_amt-withdraw\n",
    "\n",
    "    # defining constructor\n",
    "def __init__(self, person_name, person_age):\n",
    "    self.name = person_name\n",
    "    self.age = person_age"
   ]
  },
  {
   "cell_type": "code",
   "execution_count": 32,
   "metadata": {
    "collapsed": false
   },
   "outputs": [
    {
     "name": "stdout",
     "output_type": "stream",
     "text": [
      "Please enter your ATM Pin: 123\n",
      "Please select the amt you want to withdraw\n"
     ]
    }
   ],
   "source": [
    "class bank(object):\n",
    "    bal_amt = 100\n",
    "    pin_entry = 123\n",
    "    withdraw = 0\n",
    "    password = int(input('Please enter your ATM Pin: '))\n",
    "    if password == pin_entry:\n",
    "        print('Please select the amt you want to withdraw')\n",
    "    def __int__(self, pin, bal, withdraw):\n",
    "        self.pin = pin\n",
    "        self.bal = bal\n",
    "        self.withdraw = withdraw"
   ]
  },
  {
   "cell_type": "code",
   "execution_count": 33,
   "metadata": {
    "collapsed": false
   },
   "outputs": [
    {
     "name": "stdout",
     "output_type": "stream",
     "text": [
      "Please enter the amount of money you would like to withdraw: $ 98\n",
      "Foreward Balance  $  2.0\n"
     ]
    }
   ],
   "source": [
    "class atm(bank):\n",
    "    bal_amt = 100\n",
    "    pin_entry = 123\n",
    "    withdraw = 0\n",
    "    rem_bal = bal_amt-withdraw\n",
    "    withdraw=float(input(\"Please enter the amount of money you would like to withdraw: $ \"))\n",
    "    if withdraw > 0 and withdraw < bal_amt:\n",
    "        rem_bal=bal_amt-withdraw\n",
    "        print(\"Foreward Balance  $ \",rem_bal)\n",
    "    elif withdraw>bal_amt:\n",
    "        print('Insufficient fund, Your withdrawl amt exceeds the remaining bal')\n",
    "    else:\n",
    "        print(\"Transaction Cancelled\")\n",
    "    def __init__(self, pin, bal, withdraw, rem_bal):\n",
    "        self.rem_bal=bal_amt-withdraw\n",
    "        super().__init__(pin, bal, withdraw)"
   ]
  },
  {
   "cell_type": "code",
   "execution_count": 34,
   "metadata": {
    "collapsed": true
   },
   "outputs": [],
   "source": [
    "b1 = bank()"
   ]
  },
  {
   "cell_type": "code",
   "execution_count": 35,
   "metadata": {
    "collapsed": true
   },
   "outputs": [],
   "source": [
    "class game(object):\n",
    "    def __init__(self, teamgame):\n",
    "        print(teamgame, 'is a team game.')"
   ]
  },
  {
   "cell_type": "code",
   "execution_count": 36,
   "metadata": {
    "collapsed": true
   },
   "outputs": [],
   "source": [
    "class cricket(game):\n",
    "    def __init__(self):\n",
    "        print('cricket is a sport.')\n",
    "        super().__init__('cricket')"
   ]
  },
  {
   "cell_type": "code",
   "execution_count": 37,
   "metadata": {
    "collapsed": false
   },
   "outputs": [
    {
     "name": "stdout",
     "output_type": "stream",
     "text": [
      "cricket is a sport.\n",
      "cricket is a team game.\n"
     ]
    }
   ],
   "source": [
    "\n",
    "#In this example, called __init__ method of the game class from the cricket class\n",
    "sp = cricket()"
   ]
  },
  {
   "cell_type": "code",
   "execution_count": 38,
   "metadata": {
    "collapsed": true
   },
   "outputs": [],
   "source": [
    "class senior(object):\n",
    "    def __init__ (self, name, num):\n",
    "        self.name = name\n",
    "        self.num = num\n",
    "        \n",
    "class junior(senior):\n",
    "    def __init__(self, name, num):\n",
    "        super(). __init__ (name, num)"
   ]
  },
  {
   "cell_type": "code",
   "execution_count": 39,
   "metadata": {
    "collapsed": false
   },
   "outputs": [
    {
     "name": "stdout",
     "output_type": "stream",
     "text": [
      "My age is 18 and This result coming from senior class\n"
     ]
    }
   ],
   "source": [
    "\n",
    "j  =  junior(18,'This result coming from senior class' )\n",
    "print('My age is {} and {}'.format(j.name, j.num))"
   ]
  }
 ],
 "metadata": {
  "kernelspec": {
   "display_name": "Python 3",
   "language": "python",
   "name": "python3"
  },
  "language_info": {
   "codemirror_mode": {
    "name": "ipython",
    "version": 3
   },
   "file_extension": ".py",
   "mimetype": "text/x-python",
   "name": "python",
   "nbconvert_exporter": "python",
   "pygments_lexer": "ipython3",
   "version": "3.6.0"
  }
 },
 "nbformat": 4,
 "nbformat_minor": 2
}
