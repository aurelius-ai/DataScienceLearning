{
 "cells": [
  {
   "cell_type": "markdown",
   "metadata": {},
   "source": [
    " <h1><center>Ad Click Prediction</center></h1>\n",
    " \n",
    " # Data Science Project - [Kaggle](https://www.kaggle.com/fayomi/advertising)\n",
    " \n",
    " ### AUTHOR - Santosh Konchada\n",
    " \n",
    " ###### -----------------------------------------------------------------------------------------------------------------------------------------------------------------------------"
   ]
  },
  {
   "cell_type": "markdown",
   "metadata": {},
   "source": [
    "# Introduction\n",
    "\n",
    "The goal of the project is to __Predict who is likely going to click on the Ad__ on a website based on the features of a user. Following are the features involved in this dataset which is obtained from Kaggle.\n",
    "\n",
    "|           Feature               |                  Description                           |\n",
    "|---------------------------------|--------------------------------------------------------|\n",
    "|1. __Daily Time Spent on a Site__   | Time spent by the user on a site in minutes.        |\n",
    "|2. __Age__                          | Customer's age in terms of years.                   |\n",
    "|3. __Area Income__                  | Average income of geographical area of consumer.    |\n",
    "|4. __Daily Internet Usage__         | Avgerage minutes in a day consumer is on the internet.|\n",
    "|5. __Ad Topic Line__                | Headline of the advertisement.                      | \n",
    "|6. __City__                         | City of the consumer.                               |\n",
    "|7. __Male__                         | Whether or not a consumer was male.                 |\n",
    "|8. __Country__                      | Country of the consumer.                            |\n",
    "|9. __Timestamp__                    | Time at which user clicked on an Ad or the closed window.|\n",
    "|10. __Clicked on Ad__               | 0 or 1 is indicated clicking on an Ad.              |\n",
    "\n",
    "\n",
    "\n",
    "\n",
    "Let's consider that we are working for a marketing company. Firstly, we have to understand what constitutes a profit and a loss.\n",
    "\n",
    "\n",
    "__This notebook will contain Machine learning models part related to this project__. \n",
    "\n",
    "\n",
    "Steps involved in this Notebook\n",
    "\n",
    "- [Building a basic model](#Basic-model-building-based-on-the-actual-data)\n",
    "- [feature engineering](#Feature-Engineering)\n",
    "- [Building Logistic Regression Model](#Building-Logistic-Regression-Model )\n",
    "- [Random Forest Model](#Random-Forest-Model)\n",
    "- [Models Performances on Test Data](#Test-Models-Performance)\n",
    "- [Feature Importances](#Random Forest Feature Importances)\n",
    "\n",
    "\n",
    "__Note:__ The Data obtained is cleaned."
   ]
  },
  {
   "cell_type": "markdown",
   "metadata": {},
   "source": [
    "# Load Libraries"
   ]
  },
  {
   "cell_type": "code",
   "execution_count": 1,
   "metadata": {},
   "outputs": [],
   "source": [
    "import pandas as pd\n",
    "import matplotlib.pyplot as plt\n",
    "import seaborn as sns\n",
    "import numpy as np\n",
    "from sklearn.model_selection import cross_val_score\n",
    "from sklearn.metrics import roc_auc_score, accuracy_score, confusion_matrix \n",
    "import warnings\n",
    "warnings.filterwarnings('ignore')\n",
    "%matplotlib inline"
   ]
  },
  {
   "cell_type": "markdown",
   "metadata": {},
   "source": [
    "# Load Data"
   ]
  },
  {
   "cell_type": "code",
   "execution_count": 2,
   "metadata": {
    "code_folding": []
   },
   "outputs": [
    {
     "data": {
      "text/html": [
       "<div>\n",
       "<style scoped>\n",
       "    .dataframe tbody tr th:only-of-type {\n",
       "        vertical-align: middle;\n",
       "    }\n",
       "\n",
       "    .dataframe tbody tr th {\n",
       "        vertical-align: top;\n",
       "    }\n",
       "\n",
       "    .dataframe thead th {\n",
       "        text-align: right;\n",
       "    }\n",
       "</style>\n",
       "<table border=\"1\" class=\"dataframe\">\n",
       "  <thead>\n",
       "    <tr style=\"text-align: right;\">\n",
       "      <th></th>\n",
       "      <th>Daily Time Spent on Site</th>\n",
       "      <th>Age</th>\n",
       "      <th>Area Income</th>\n",
       "      <th>Daily Internet Usage</th>\n",
       "      <th>Ad Topic Line</th>\n",
       "      <th>City</th>\n",
       "      <th>Male</th>\n",
       "      <th>Country</th>\n",
       "      <th>Timestamp</th>\n",
       "      <th>Clicked on Ad</th>\n",
       "    </tr>\n",
       "  </thead>\n",
       "  <tbody>\n",
       "    <tr>\n",
       "      <th>0</th>\n",
       "      <td>68.95</td>\n",
       "      <td>35</td>\n",
       "      <td>61833.90</td>\n",
       "      <td>256.09</td>\n",
       "      <td>Cloned 5thgeneration orchestration</td>\n",
       "      <td>Wrightburgh</td>\n",
       "      <td>0</td>\n",
       "      <td>Tunisia</td>\n",
       "      <td>2016-03-27 00:53:11</td>\n",
       "      <td>0</td>\n",
       "    </tr>\n",
       "    <tr>\n",
       "      <th>1</th>\n",
       "      <td>80.23</td>\n",
       "      <td>31</td>\n",
       "      <td>68441.85</td>\n",
       "      <td>193.77</td>\n",
       "      <td>Monitored national standardization</td>\n",
       "      <td>West Jodi</td>\n",
       "      <td>1</td>\n",
       "      <td>Nauru</td>\n",
       "      <td>2016-04-04 01:39:02</td>\n",
       "      <td>0</td>\n",
       "    </tr>\n",
       "    <tr>\n",
       "      <th>2</th>\n",
       "      <td>69.47</td>\n",
       "      <td>26</td>\n",
       "      <td>59785.94</td>\n",
       "      <td>236.50</td>\n",
       "      <td>Organic bottom-line service-desk</td>\n",
       "      <td>Davidton</td>\n",
       "      <td>0</td>\n",
       "      <td>San Marino</td>\n",
       "      <td>2016-03-13 20:35:42</td>\n",
       "      <td>0</td>\n",
       "    </tr>\n",
       "    <tr>\n",
       "      <th>3</th>\n",
       "      <td>74.15</td>\n",
       "      <td>29</td>\n",
       "      <td>54806.18</td>\n",
       "      <td>245.89</td>\n",
       "      <td>Triple-buffered reciprocal time-frame</td>\n",
       "      <td>West Terrifurt</td>\n",
       "      <td>1</td>\n",
       "      <td>Italy</td>\n",
       "      <td>2016-01-10 02:31:19</td>\n",
       "      <td>0</td>\n",
       "    </tr>\n",
       "    <tr>\n",
       "      <th>4</th>\n",
       "      <td>68.37</td>\n",
       "      <td>35</td>\n",
       "      <td>73889.99</td>\n",
       "      <td>225.58</td>\n",
       "      <td>Robust logistical utilization</td>\n",
       "      <td>South Manuel</td>\n",
       "      <td>0</td>\n",
       "      <td>Iceland</td>\n",
       "      <td>2016-06-03 03:36:18</td>\n",
       "      <td>0</td>\n",
       "    </tr>\n",
       "  </tbody>\n",
       "</table>\n",
       "</div>"
      ],
      "text/plain": [
       "   Daily Time Spent on Site  Age  Area Income  Daily Internet Usage  \\\n",
       "0                     68.95   35     61833.90                256.09   \n",
       "1                     80.23   31     68441.85                193.77   \n",
       "2                     69.47   26     59785.94                236.50   \n",
       "3                     74.15   29     54806.18                245.89   \n",
       "4                     68.37   35     73889.99                225.58   \n",
       "\n",
       "                           Ad Topic Line            City  Male     Country  \\\n",
       "0     Cloned 5thgeneration orchestration     Wrightburgh     0     Tunisia   \n",
       "1     Monitored national standardization       West Jodi     1       Nauru   \n",
       "2       Organic bottom-line service-desk        Davidton     0  San Marino   \n",
       "3  Triple-buffered reciprocal time-frame  West Terrifurt     1       Italy   \n",
       "4          Robust logistical utilization    South Manuel     0     Iceland   \n",
       "\n",
       "             Timestamp  Clicked on Ad  \n",
       "0  2016-03-27 00:53:11              0  \n",
       "1  2016-04-04 01:39:02              0  \n",
       "2  2016-03-13 20:35:42              0  \n",
       "3  2016-01-10 02:31:19              0  \n",
       "4  2016-06-03 03:36:18              0  "
      ]
     },
     "execution_count": 2,
     "metadata": {},
     "output_type": "execute_result"
    }
   ],
   "source": [
    "# Read the files\n",
    "df = pd.read_csv('advertising.csv')\n",
    "df.head()"
   ]
  },
  {
   "cell_type": "markdown",
   "metadata": {},
   "source": [
    "# Basic model building based on the actual data"
   ]
  },
  {
   "cell_type": "code",
   "execution_count": 3,
   "metadata": {},
   "outputs": [],
   "source": [
    "# Importing train_test_split from sklearn.model_selection family\n",
    "from sklearn.model_selection import train_test_split"
   ]
  },
  {
   "cell_type": "code",
   "execution_count": 4,
   "metadata": {
    "code_folding": []
   },
   "outputs": [],
   "source": [
    "# Assigning Numerical columns to X & y only as model can only take numbers\n",
    "X = df[['Daily Time Spent on Site', 'Age', 'Area Income', 'Daily Internet Usage', 'Male']]\n",
    "y = df['Clicked on Ad']"
   ]
  },
  {
   "cell_type": "code",
   "execution_count": 5,
   "metadata": {
    "code_folding": []
   },
   "outputs": [
    {
     "name": "stdout",
     "output_type": "stream",
     "text": [
      "(670, 5) (670,)\n",
      "(330, 5) (330,)\n"
     ]
    }
   ],
   "source": [
    "# Splitting the data into train & test sets \n",
    "# test_size is % of data that we want to allocate & random_state ensures a specific set of random splits on our data because \n",
    "#this train test split is going to occur randomly\n",
    "X_train, X_test, y_train, y_test = train_test_split(X, y, test_size=0.33, random_state=42) \n",
    "# We dont have to use stratify method in train_tst_split to handle class distribution as its not imbalanced and does contain equal number of classes i.e 1's and 0's\n",
    "print(X_train.shape, y_train.shape)\n",
    "print(X_test.shape, y_test.shape)"
   ]
  },
  {
   "cell_type": "markdown",
   "metadata": {},
   "source": [
    "# Building a Basic Model"
   ]
  },
  {
   "cell_type": "code",
   "execution_count": 6,
   "metadata": {},
   "outputs": [],
   "source": [
    "# Import LogisticRegression from sklearn.linear_model family\n",
    "from sklearn.linear_model import LogisticRegression"
   ]
  },
  {
   "cell_type": "code",
   "execution_count": 7,
   "metadata": {},
   "outputs": [
    {
     "data": {
      "text/plain": [
       "LogisticRegression(C=1.0, class_weight=None, dual=False, fit_intercept=True,\n",
       "          intercept_scaling=1, max_iter=100, multi_class='ovr', n_jobs=1,\n",
       "          penalty='l2', random_state=None, solver='liblinear', tol=0.0001,\n",
       "          verbose=0, warm_start=False)"
      ]
     },
     "execution_count": 7,
     "metadata": {},
     "output_type": "execute_result"
    }
   ],
   "source": [
    "# Instantiate an instance of the linear regression model (Creating a linear regression object)\n",
    "logreg = LogisticRegression()\n",
    "# Fit the model on training data using a fit method\n",
    "model = logreg.fit(X_train,y_train)\n",
    "model"
   ]
  },
  {
   "cell_type": "markdown",
   "metadata": {},
   "source": [
    "## Predictions"
   ]
  },
  {
   "cell_type": "code",
   "execution_count": 8,
   "metadata": {
    "code_folding": []
   },
   "outputs": [
    {
     "data": {
      "text/plain": [
       "array([1, 1, 1, 1, 0, 0, 0, 1, 0, 1, 0, 1, 1, 0, 1, 1, 1, 1, 0, 1],\n",
       "      dtype=int64)"
      ]
     },
     "execution_count": 8,
     "metadata": {},
     "output_type": "execute_result"
    }
   ],
   "source": [
    "# The predict method just takes X_test as a parameter, which means it just takes the features to draw predictions\n",
    "predictions = logreg.predict(X_test)\n",
    "# Below are the results of predicted click on Ads\n",
    "predictions[0:20]"
   ]
  },
  {
   "cell_type": "markdown",
   "metadata": {},
   "source": [
    "## Performance Metrics"
   ]
  },
  {
   "cell_type": "markdown",
   "metadata": {},
   "source": [
    "Now we need to see how far our predictions met the actual test data (y_test) by performing evaluations using classification report & confusion matrix on the target variable and the predictions.\n",
    "\n",
    "**confusion matrix** is used to evaluate the model behavior from a matrix. Below is how a confusion matrix looks like:\n",
    "\n",
    "                    Predicted No   Predicted Yes\n",
    "    Actual No          TN                 FP \n",
    "\n",
    "    Actual Yes         FN                 TP   \n",
    "\n",
    "TP- True Positive \tTN- True Negative \n",
    "FP- False Positive \tFN- False Negative \n",
    "\n",
    "True Positive is the proportion of positives that are correctly identified. Similarly, True Negative is the proportion of negatives that are correctly identified. False Positive is the condition where we predict a result that is actually doesn't fulfill. Similarly, False Negative is the condition where the prediction failed, when it was actually successful.\n",
    "\n",
    "If we want to calculate any specific value, we can do it from confusion matrix directly.\n",
    "\n",
    "**classification_report** will basically tell us the precision, recall value's accuracy, f1 score & support. This way we don't have to read it ourself from a confusion matrix.\n",
    "\n",
    "**precision** is the fraction of retrieved values that are relevant to the data. The precision is the ratio of tp / (tp + fp).\n",
    "\n",
    "**recall** is the fraction of successfully retrieved values that are relevant to the data. The recall is the ratio of          tp / (tp + fn). \n",
    "\n",
    "**f1-score** is the harmonic mean of precision and recall. Where an fscore reaches its best value at 1 and worst score at 0.\n",
    "\n",
    "**support** is the number of occurrences of each class in y_test."
   ]
  },
  {
   "cell_type": "code",
   "execution_count": 9,
   "metadata": {},
   "outputs": [
    {
     "name": "stdout",
     "output_type": "stream",
     "text": [
      "             precision    recall  f1-score   support\n",
      "\n",
      "          0       0.87      0.96      0.91       162\n",
      "          1       0.96      0.86      0.91       168\n",
      "\n",
      "avg / total       0.91      0.91      0.91       330\n",
      "\n"
     ]
    }
   ],
   "source": [
    "# Importing classification_report from sklearn.metrics family\n",
    "from sklearn.metrics import classification_report\n",
    "\n",
    "# Printing classification_report to see the results\n",
    "print(classification_report(y_test, predictions))"
   ]
  },
  {
   "cell_type": "code",
   "execution_count": 10,
   "metadata": {},
   "outputs": [
    {
     "name": "stdout",
     "output_type": "stream",
     "text": [
      "[[156   6]\n",
      " [ 24 144]]\n"
     ]
    }
   ],
   "source": [
    "# Importing a pure confusion matrix from sklearn.metrics family\n",
    "from sklearn.metrics import confusion_matrix\n",
    "\n",
    "# Printing the confusion_matrix\n",
    "print(confusion_matrix(y_test, predictions))"
   ]
  },
  {
   "cell_type": "markdown",
   "metadata": {},
   "source": [
    "## Results for Basic Model"
   ]
  },
  {
   "cell_type": "markdown",
   "metadata": {},
   "source": [
    "The results from evaluation are as follows:\n",
    "\n",
    "**Confusion Matrix:** \n",
    "\n",
    "The users that are predicted to click on commercials and the actually clicked users were 144, the people who were predicted not to click on the commercials and actually did not click on them were 156.\n",
    "\n",
    "The people who were predicted to click on commercial and actually did not click on them are 6, and the users who were not predicted to click on the commercials and actually clicked on them are 24.\n",
    "\n",
    "We have only a few mislabelled points which is not bad from the given size of the dataset.\n",
    "\n",
    "**Classification Report:**\n",
    "\n",
    "From the report obtained, the precision & recall are 0.91 which depicts the predicted values are 91% accurate. Hence the probability that the user can click on the commercial is 0.91 which is a good precision value to get a good model.  "
   ]
  },
  {
   "cell_type": "markdown",
   "metadata": {},
   "source": [
    "# Feature Engineering"
   ]
  },
  {
   "cell_type": "code",
   "execution_count": 11,
   "metadata": {},
   "outputs": [],
   "source": [
    "new_df = df.copy() # just to keep the original dataframe unchanged"
   ]
  },
  {
   "cell_type": "code",
   "execution_count": 12,
   "metadata": {},
   "outputs": [
    {
     "data": {
      "text/html": [
       "<div>\n",
       "<style scoped>\n",
       "    .dataframe tbody tr th:only-of-type {\n",
       "        vertical-align: middle;\n",
       "    }\n",
       "\n",
       "    .dataframe tbody tr th {\n",
       "        vertical-align: top;\n",
       "    }\n",
       "\n",
       "    .dataframe thead th {\n",
       "        text-align: right;\n",
       "    }\n",
       "</style>\n",
       "<table border=\"1\" class=\"dataframe\">\n",
       "  <thead>\n",
       "    <tr style=\"text-align: right;\">\n",
       "      <th></th>\n",
       "      <th>Daily Time Spent on Site</th>\n",
       "      <th>Age</th>\n",
       "      <th>Area Income</th>\n",
       "      <th>Daily Internet Usage</th>\n",
       "      <th>Ad Topic Line</th>\n",
       "      <th>City</th>\n",
       "      <th>Male</th>\n",
       "      <th>Country</th>\n",
       "      <th>Timestamp</th>\n",
       "      <th>Clicked on Ad</th>\n",
       "      <th>Month</th>\n",
       "      <th>Day</th>\n",
       "      <th>Hour</th>\n",
       "      <th>Weekday</th>\n",
       "    </tr>\n",
       "  </thead>\n",
       "  <tbody>\n",
       "    <tr>\n",
       "      <th>0</th>\n",
       "      <td>68.95</td>\n",
       "      <td>35</td>\n",
       "      <td>61833.90</td>\n",
       "      <td>256.09</td>\n",
       "      <td>Cloned 5thgeneration orchestration</td>\n",
       "      <td>Wrightburgh</td>\n",
       "      <td>0</td>\n",
       "      <td>Tunisia</td>\n",
       "      <td>2016-03-27 00:53:11</td>\n",
       "      <td>0</td>\n",
       "      <td>3</td>\n",
       "      <td>27</td>\n",
       "      <td>0</td>\n",
       "      <td>6</td>\n",
       "    </tr>\n",
       "    <tr>\n",
       "      <th>1</th>\n",
       "      <td>80.23</td>\n",
       "      <td>31</td>\n",
       "      <td>68441.85</td>\n",
       "      <td>193.77</td>\n",
       "      <td>Monitored national standardization</td>\n",
       "      <td>West Jodi</td>\n",
       "      <td>1</td>\n",
       "      <td>Nauru</td>\n",
       "      <td>2016-04-04 01:39:02</td>\n",
       "      <td>0</td>\n",
       "      <td>4</td>\n",
       "      <td>4</td>\n",
       "      <td>1</td>\n",
       "      <td>0</td>\n",
       "    </tr>\n",
       "    <tr>\n",
       "      <th>2</th>\n",
       "      <td>69.47</td>\n",
       "      <td>26</td>\n",
       "      <td>59785.94</td>\n",
       "      <td>236.50</td>\n",
       "      <td>Organic bottom-line service-desk</td>\n",
       "      <td>Davidton</td>\n",
       "      <td>0</td>\n",
       "      <td>San Marino</td>\n",
       "      <td>2016-03-13 20:35:42</td>\n",
       "      <td>0</td>\n",
       "      <td>3</td>\n",
       "      <td>13</td>\n",
       "      <td>20</td>\n",
       "      <td>6</td>\n",
       "    </tr>\n",
       "    <tr>\n",
       "      <th>3</th>\n",
       "      <td>74.15</td>\n",
       "      <td>29</td>\n",
       "      <td>54806.18</td>\n",
       "      <td>245.89</td>\n",
       "      <td>Triple-buffered reciprocal time-frame</td>\n",
       "      <td>West Terrifurt</td>\n",
       "      <td>1</td>\n",
       "      <td>Italy</td>\n",
       "      <td>2016-01-10 02:31:19</td>\n",
       "      <td>0</td>\n",
       "      <td>1</td>\n",
       "      <td>10</td>\n",
       "      <td>2</td>\n",
       "      <td>6</td>\n",
       "    </tr>\n",
       "    <tr>\n",
       "      <th>4</th>\n",
       "      <td>68.37</td>\n",
       "      <td>35</td>\n",
       "      <td>73889.99</td>\n",
       "      <td>225.58</td>\n",
       "      <td>Robust logistical utilization</td>\n",
       "      <td>South Manuel</td>\n",
       "      <td>0</td>\n",
       "      <td>Iceland</td>\n",
       "      <td>2016-06-03 03:36:18</td>\n",
       "      <td>0</td>\n",
       "      <td>6</td>\n",
       "      <td>3</td>\n",
       "      <td>3</td>\n",
       "      <td>4</td>\n",
       "    </tr>\n",
       "  </tbody>\n",
       "</table>\n",
       "</div>"
      ],
      "text/plain": [
       "   Daily Time Spent on Site  Age  Area Income  Daily Internet Usage  \\\n",
       "0                     68.95   35     61833.90                256.09   \n",
       "1                     80.23   31     68441.85                193.77   \n",
       "2                     69.47   26     59785.94                236.50   \n",
       "3                     74.15   29     54806.18                245.89   \n",
       "4                     68.37   35     73889.99                225.58   \n",
       "\n",
       "                           Ad Topic Line            City  Male     Country  \\\n",
       "0     Cloned 5thgeneration orchestration     Wrightburgh     0     Tunisia   \n",
       "1     Monitored national standardization       West Jodi     1       Nauru   \n",
       "2       Organic bottom-line service-desk        Davidton     0  San Marino   \n",
       "3  Triple-buffered reciprocal time-frame  West Terrifurt     1       Italy   \n",
       "4          Robust logistical utilization    South Manuel     0     Iceland   \n",
       "\n",
       "            Timestamp  Clicked on Ad  Month  Day  Hour  Weekday  \n",
       "0 2016-03-27 00:53:11              0      3   27     0        6  \n",
       "1 2016-04-04 01:39:02              0      4    4     1        0  \n",
       "2 2016-03-13 20:35:42              0      3   13    20        6  \n",
       "3 2016-01-10 02:31:19              0      1   10     2        6  \n",
       "4 2016-06-03 03:36:18              0      6    3     3        4  "
      ]
     },
     "execution_count": 12,
     "metadata": {},
     "output_type": "execute_result"
    }
   ],
   "source": [
    "# Feature engineering on time variable\n",
    "new_df['Timestamp'] = pd.to_datetime(new_df['Timestamp'])\n",
    "new_df['Month'] = new_df['Timestamp'].dt.month\n",
    "new_df['Day'] = new_df['Timestamp'].dt.day\n",
    "new_df['Hour'] = new_df['Timestamp'].dt.hour\n",
    "new_df[\"Weekday\"] = new_df['Timestamp'].dt.dayofweek\n",
    "new_df.head()"
   ]
  },
  {
   "cell_type": "code",
   "execution_count": 13,
   "metadata": {},
   "outputs": [
    {
     "data": {
      "image/png": "[encoded data removed]",
      "text/plain": [
       "<Figure size 796.25x720 with 20 Axes>"
      ]
     },
     "metadata": {},
     "output_type": "display_data"
    }
   ],
   "source": [
    "# Creating pairplot to check effect of datetime variables on target variable\n",
    "pp = sns.pairplot(new_df, hue= 'Clicked on Ad', vars = ['Month', 'Day', 'Hour', 'Weekday'], palette= 'husl')"
   ]
  },
  {
   "cell_type": "markdown",
   "metadata": {},
   "source": [
    "There dont seems to be any effect of month, day, weekday and hour on the target variable. "
   ]
  },
  {
   "cell_type": "code",
   "execution_count": 14,
   "metadata": {},
   "outputs": [],
   "source": [
    "# Dummy encoding on Month column\n",
    "new_df = pd.concat([new_df, pd.get_dummies(new_df['Month'], prefix='Month')], axis=1) \n",
    "# Dummy encoding on weekday column\n",
    "new_df = pd.concat([new_df, pd.get_dummies(new_df['Weekday'], prefix='Weekday')], axis=1)"
   ]
  },
  {
   "cell_type": "code",
   "execution_count": 15,
   "metadata": {},
   "outputs": [],
   "source": [
    "# Creating buckets for hour columns based on EDA part\n",
    "new_df['Hour_bins'] = pd.cut(new_df['Hour'], bins = [0, 5, 11, 17, 23], \n",
    "                        labels = ['Hour_0-5', 'Hour_6-11', 'Hour_12-17', 'Hour_18-23'], include_lowest= True)"
   ]
  },
  {
   "cell_type": "code",
   "execution_count": 16,
   "metadata": {},
   "outputs": [],
   "source": [
    "# Dummy encoding on Hour_bins column\n",
    "new_df = pd.concat([new_df, pd.get_dummies(new_df['Hour_bins'], prefix='Hour')], axis=1)"
   ]
  },
  {
   "cell_type": "code",
   "execution_count": 17,
   "metadata": {},
   "outputs": [
    {
     "data": {
      "text/plain": [
       "(array([ 0,  1,  2,  3,  4,  5,  6,  7,  8,  9, 10, 11, 12, 13, 14, 15, 16,\n",
       "        17, 18, 19, 20, 21, 22, 23, 24, 25, 26, 27, 28, 29, 30, 31, 32, 33,\n",
       "        34, 35, 36, 37, 38, 39, 40, 41, 42]),\n",
       " <a list of 43 Text xticklabel objects>)"
      ]
     },
     "execution_count": 17,
     "metadata": {},
     "output_type": "execute_result"
    },
    {
     "data": {
      "image/png": "[encoded data removed]",
      "text/plain": [
       "<Figure size 1800x720 with 1 Axes>"
      ]
     },
     "metadata": {},
     "output_type": "display_data"
    }
   ],
   "source": [
    "# Feature engineering on Age column\n",
    "plt.figure(figsize=(25,10))\n",
    "sns.barplot(new_df['Age'],df['Clicked on Ad'], ci=None)\n",
    "plt.xticks(rotation=90)"
   ]
  },
  {
   "cell_type": "code",
   "execution_count": 18,
   "metadata": {
    "code_folding": [],
    "scrolled": true
   },
   "outputs": [
    {
     "data": {
      "text/plain": [
       "(array([ 0,  1,  2,  3,  4,  5,  6,  7,  8,  9, 10, 11, 12, 13, 14, 15, 16,\n",
       "        17, 18, 19, 20, 21, 22, 23, 24, 25, 26, 27, 28, 29, 30, 31, 32, 33,\n",
       "        34, 35, 36, 37, 38, 39, 40, 41, 42]),\n",
       " <a list of 43 Text xticklabel objects>)"
      ]
     },
     "execution_count": 18,
     "metadata": {},
     "output_type": "execute_result"
    },
    {
     "data": {
      "image/png": "[encoded data removed]",
      "text/plain": [
       "<Figure size 1080x720 with 1 Axes>"
      ]
     },
     "metadata": {},
     "output_type": "display_data"
    }
   ],
   "source": [
    "# checking bins\n",
    "limit_1 = 18\n",
    "limit_2 = 35\n",
    "\n",
    "x_limit_1 = np.size(df[df['Age'] < limit_1]['Age'].unique())\n",
    "x_limit_2 = np.size(df[df['Age'] < limit_2]['Age'].unique())\n",
    "\n",
    "plt.figure(figsize=(15,10))\n",
    "#sns.barplot(df['age'],df['survival_7_years'], ci=None)\n",
    "sns.countplot('Age',hue='Clicked on Ad',data=df)\n",
    "plt.axvspan(-1, x_limit_1, alpha=0.25, color='green')\n",
    "plt.axvspan(x_limit_1, x_limit_2, alpha=0.25, color='red')\n",
    "plt.axvspan(x_limit_2, 50, alpha=0.25, color='yellow')\n",
    "\n",
    "plt.xticks(rotation=90)"
   ]
  },
  {
   "cell_type": "code",
   "execution_count": 19,
   "metadata": {
    "code_folding": []
   },
   "outputs": [],
   "source": [
    "# Creating Bins on Age column based on above plots\n",
    "new_df['Age_bins'] = pd.cut(new_df['Age'], bins=[0, 18, 30, 45, 70], labels=['Young','Adult','Mid', 'Elder'])"
   ]
  },
  {
   "cell_type": "code",
   "execution_count": 20,
   "metadata": {},
   "outputs": [
    {
     "data": {
      "text/plain": [
       "<matplotlib.axes._subplots.AxesSubplot at 0xfc82c50>"
      ]
     },
     "execution_count": 20,
     "metadata": {},
     "output_type": "execute_result"
    },
    {
     "data": {
      "image/png": "[encoded data removed]",
      "text/plain": [
       "<Figure size 432x288 with 1 Axes>"
      ]
     },
     "metadata": {},
     "output_type": "display_data"
    }
   ],
   "source": [
    "sns.countplot('Age_bins',hue='Clicked on Ad',data= new_df) # Verifying the bins by checking the count"
   ]
  },
  {
   "cell_type": "code",
   "execution_count": 21,
   "metadata": {},
   "outputs": [],
   "source": [
    "# Dummy encoding on Age column\n",
    "new_df = pd.concat([new_df, pd.get_dummies(new_df['Age_bins'], prefix='Age')], axis=1) "
   ]
  },
  {
   "cell_type": "code",
   "execution_count": 22,
   "metadata": {},
   "outputs": [],
   "source": [
    "# Dummy encoding on Column column based on EDA\n",
    "new_df = pd.concat([new_df, pd.get_dummies(new_df['Country'], prefix='Country')], axis=1)"
   ]
  },
  {
   "cell_type": "code",
   "execution_count": 23,
   "metadata": {},
   "outputs": [
    {
     "data": {
      "text/html": [
       "<div>\n",
       "<style scoped>\n",
       "    .dataframe tbody tr th:only-of-type {\n",
       "        vertical-align: middle;\n",
       "    }\n",
       "\n",
       "    .dataframe tbody tr th {\n",
       "        vertical-align: top;\n",
       "    }\n",
       "\n",
       "    .dataframe thead th {\n",
       "        text-align: right;\n",
       "    }\n",
       "</style>\n",
       "<table border=\"1\" class=\"dataframe\">\n",
       "  <thead>\n",
       "    <tr style=\"text-align: right;\">\n",
       "      <th></th>\n",
       "      <th>Daily Time Spent on Site</th>\n",
       "      <th>Area Income</th>\n",
       "      <th>Daily Internet Usage</th>\n",
       "      <th>Male</th>\n",
       "      <th>Clicked on Ad</th>\n",
       "      <th>Month_1</th>\n",
       "      <th>Month_2</th>\n",
       "      <th>Month_3</th>\n",
       "      <th>Month_4</th>\n",
       "      <th>Month_5</th>\n",
       "      <th>...</th>\n",
       "      <th>Country_Uruguay</th>\n",
       "      <th>Country_Uzbekistan</th>\n",
       "      <th>Country_Vanuatu</th>\n",
       "      <th>Country_Venezuela</th>\n",
       "      <th>Country_Vietnam</th>\n",
       "      <th>Country_Wallis and Futuna</th>\n",
       "      <th>Country_Western Sahara</th>\n",
       "      <th>Country_Yemen</th>\n",
       "      <th>Country_Zambia</th>\n",
       "      <th>Country_Zimbabwe</th>\n",
       "    </tr>\n",
       "  </thead>\n",
       "  <tbody>\n",
       "    <tr>\n",
       "      <th>0</th>\n",
       "      <td>68.95</td>\n",
       "      <td>61833.90</td>\n",
       "      <td>256.09</td>\n",
       "      <td>0</td>\n",
       "      <td>0</td>\n",
       "      <td>0</td>\n",
       "      <td>0</td>\n",
       "      <td>1</td>\n",
       "      <td>0</td>\n",
       "      <td>0</td>\n",
       "      <td>...</td>\n",
       "      <td>0</td>\n",
       "      <td>0</td>\n",
       "      <td>0</td>\n",
       "      <td>0</td>\n",
       "      <td>0</td>\n",
       "      <td>0</td>\n",
       "      <td>0</td>\n",
       "      <td>0</td>\n",
       "      <td>0</td>\n",
       "      <td>0</td>\n",
       "    </tr>\n",
       "    <tr>\n",
       "      <th>1</th>\n",
       "      <td>80.23</td>\n",
       "      <td>68441.85</td>\n",
       "      <td>193.77</td>\n",
       "      <td>1</td>\n",
       "      <td>0</td>\n",
       "      <td>0</td>\n",
       "      <td>0</td>\n",
       "      <td>0</td>\n",
       "      <td>1</td>\n",
       "      <td>0</td>\n",
       "      <td>...</td>\n",
       "      <td>0</td>\n",
       "      <td>0</td>\n",
       "      <td>0</td>\n",
       "      <td>0</td>\n",
       "      <td>0</td>\n",
       "      <td>0</td>\n",
       "      <td>0</td>\n",
       "      <td>0</td>\n",
       "      <td>0</td>\n",
       "      <td>0</td>\n",
       "    </tr>\n",
       "    <tr>\n",
       "      <th>2</th>\n",
       "      <td>69.47</td>\n",
       "      <td>59785.94</td>\n",
       "      <td>236.50</td>\n",
       "      <td>0</td>\n",
       "      <td>0</td>\n",
       "      <td>0</td>\n",
       "      <td>0</td>\n",
       "      <td>1</td>\n",
       "      <td>0</td>\n",
       "      <td>0</td>\n",
       "      <td>...</td>\n",
       "      <td>0</td>\n",
       "      <td>0</td>\n",
       "      <td>0</td>\n",
       "      <td>0</td>\n",
       "      <td>0</td>\n",
       "      <td>0</td>\n",
       "      <td>0</td>\n",
       "      <td>0</td>\n",
       "      <td>0</td>\n",
       "      <td>0</td>\n",
       "    </tr>\n",
       "    <tr>\n",
       "      <th>3</th>\n",
       "      <td>74.15</td>\n",
       "      <td>54806.18</td>\n",
       "      <td>245.89</td>\n",
       "      <td>1</td>\n",
       "      <td>0</td>\n",
       "      <td>1</td>\n",
       "      <td>0</td>\n",
       "      <td>0</td>\n",
       "      <td>0</td>\n",
       "      <td>0</td>\n",
       "      <td>...</td>\n",
       "      <td>0</td>\n",
       "      <td>0</td>\n",
       "      <td>0</td>\n",
       "      <td>0</td>\n",
       "      <td>0</td>\n",
       "      <td>0</td>\n",
       "      <td>0</td>\n",
       "      <td>0</td>\n",
       "      <td>0</td>\n",
       "      <td>0</td>\n",
       "    </tr>\n",
       "    <tr>\n",
       "      <th>4</th>\n",
       "      <td>68.37</td>\n",
       "      <td>73889.99</td>\n",
       "      <td>225.58</td>\n",
       "      <td>0</td>\n",
       "      <td>0</td>\n",
       "      <td>0</td>\n",
       "      <td>0</td>\n",
       "      <td>0</td>\n",
       "      <td>0</td>\n",
       "      <td>0</td>\n",
       "      <td>...</td>\n",
       "      <td>0</td>\n",
       "      <td>0</td>\n",
       "      <td>0</td>\n",
       "      <td>0</td>\n",
       "      <td>0</td>\n",
       "      <td>0</td>\n",
       "      <td>0</td>\n",
       "      <td>0</td>\n",
       "      <td>0</td>\n",
       "      <td>0</td>\n",
       "    </tr>\n",
       "  </tbody>\n",
       "</table>\n",
       "<p>5 rows × 264 columns</p>\n",
       "</div>"
      ],
      "text/plain": [
       "   Daily Time Spent on Site  Area Income  Daily Internet Usage  Male  \\\n",
       "0                     68.95     61833.90                256.09     0   \n",
       "1                     80.23     68441.85                193.77     1   \n",
       "2                     69.47     59785.94                236.50     0   \n",
       "3                     74.15     54806.18                245.89     1   \n",
       "4                     68.37     73889.99                225.58     0   \n",
       "\n",
       "   Clicked on Ad  Month_1  Month_2  Month_3  Month_4  Month_5  \\\n",
       "0              0        0        0        1        0        0   \n",
       "1              0        0        0        0        1        0   \n",
       "2              0        0        0        1        0        0   \n",
       "3              0        1        0        0        0        0   \n",
       "4              0        0        0        0        0        0   \n",
       "\n",
       "         ...         Country_Uruguay  Country_Uzbekistan  Country_Vanuatu  \\\n",
       "0        ...                       0                   0                0   \n",
       "1        ...                       0                   0                0   \n",
       "2        ...                       0                   0                0   \n",
       "3        ...                       0                   0                0   \n",
       "4        ...                       0                   0                0   \n",
       "\n",
       "   Country_Venezuela  Country_Vietnam  Country_Wallis and Futuna  \\\n",
       "0                  0                0                          0   \n",
       "1                  0                0                          0   \n",
       "2                  0                0                          0   \n",
       "3                  0                0                          0   \n",
       "4                  0                0                          0   \n",
       "\n",
       "   Country_Western Sahara  Country_Yemen  Country_Zambia  Country_Zimbabwe  \n",
       "0                       0              0               0                 0  \n",
       "1                       0              0               0                 0  \n",
       "2                       0              0               0                 0  \n",
       "3                       0              0               0                 0  \n",
       "4                       0              0               0                 0  \n",
       "\n",
       "[5 rows x 264 columns]"
      ]
     },
     "execution_count": 23,
     "metadata": {},
     "output_type": "execute_result"
    }
   ],
   "source": [
    "# Remove redundant and no predictive power features\n",
    "new_df.drop(['Country', 'Ad Topic Line', 'City', 'Timestamp', 'Day', 'Month', 'Weekday', \n",
    "             'Hour', 'Hour_bins', 'Age', 'Age_bins'], axis = 1, inplace = True)\n",
    "new_df.head() # Checking the final dataframe"
   ]
  },
  {
   "cell_type": "markdown",
   "metadata": {},
   "source": [
    "# Building Logistic Regression Model"
   ]
  },
  {
   "cell_type": "code",
   "execution_count": 24,
   "metadata": {},
   "outputs": [],
   "source": [
    "X = new_df.drop(['Clicked on Ad'],1)\n",
    "y = new_df['Clicked on Ad']\n",
    "X_train, X_test, y_train, y_test = train_test_split(X, y, test_size=0.20, random_state=42)"
   ]
  },
  {
   "cell_type": "code",
   "execution_count": 25,
   "metadata": {},
   "outputs": [
    {
     "name": "stdout",
     "output_type": "stream",
     "text": [
      "(800, 263) (800,)\n",
      "(200, 263) (200,)\n"
     ]
    }
   ],
   "source": [
    "# Standarizing the features\n",
    "from  sklearn.preprocessing  import StandardScaler\n",
    "stdsc = StandardScaler()\n",
    "X_train_std = stdsc.fit_transform(X_train)\n",
    "X_test_std = stdsc.transform(X_test)\n",
    "print(X_train.shape, y_train.shape)\n",
    "print(X_test.shape, y_test.shape)"
   ]
  },
  {
   "cell_type": "code",
   "execution_count": 26,
   "metadata": {},
   "outputs": [
    {
     "name": "stdout",
     "output_type": "stream",
     "text": [
      "                            OLS Regression Results                            \n",
      "==============================================================================\n",
      "Dep. Variable:          Clicked on Ad   R-squared:                       0.893\n",
      "Model:                            OLS   Adj. R-squared:                  0.843\n",
      "Method:                 Least Squares   F-statistic:                     17.75\n",
      "Date:                Sun, 05 Aug 2018   Prob (F-statistic):          8.68e-164\n",
      "Time:                        17:49:14   Log-Likelihood:                 314.62\n",
      "No. Observations:                 800   AIC:                            -115.2\n",
      "Df Residuals:                     543   BIC:                             1089.\n",
      "Df Model:                         256                                         \n",
      "Covariance Type:            nonrobust                                         \n",
      "==============================================================================\n",
      "                 coef    std err          t      P>|t|      [0.025      0.975]\n",
      "------------------------------------------------------------------------------\n",
      "const          0.4863      0.007     69.390      0.000       0.472       0.500\n",
      "x1            -0.1816      0.010    -17.728      0.000      -0.202      -0.161\n",
      "x2            -0.0932      0.009    -10.275      0.000      -0.111      -0.075\n",
      "x3            -0.2588      0.011    -24.497      0.000      -0.280      -0.238\n",
      "x4            -0.0166      0.008     -1.974      0.049      -0.033   -8.27e-05\n",
      "x5            -0.0059      0.007     -0.818      0.414      -0.020       0.008\n",
      "x6             0.0068      0.007      0.957      0.339      -0.007       0.021\n",
      "x7            -0.0134      0.007     -1.864      0.063      -0.027       0.001\n",
      "x8             0.0008      0.007      0.115      0.908      -0.013       0.015\n",
      "x9             0.0095      0.007      1.296      0.195      -0.005       0.024\n",
      "x10           -0.0092      0.007     -1.280      0.201      -0.023       0.005\n",
      "x11            0.0128      0.008      1.694      0.091      -0.002       0.028\n",
      "x12            0.0025      0.007      0.339      0.735      -0.012       0.017\n",
      "x13           -0.0040      0.007     -0.542      0.588      -0.018       0.010\n",
      "x14           -0.0028      0.007     -0.391      0.696      -0.017       0.011\n",
      "x15           -0.0011      0.007     -0.150      0.881      -0.015       0.013\n",
      "x16           -0.0045      0.007     -0.607      0.544      -0.019       0.010\n",
      "x17           -0.0007      0.008     -0.087      0.930      -0.016       0.014\n",
      "x18            0.0100      0.007      1.383      0.167      -0.004       0.024\n",
      "x19           -0.0002      0.006     -0.028      0.978      -0.013       0.013\n",
      "x20            0.0027      0.006      0.434      0.665      -0.010       0.015\n",
      "x21           -0.0084      0.006     -1.307      0.192      -0.021       0.004\n",
      "x22            0.0057      0.006      0.892      0.373      -0.007       0.018\n",
      "x23         1.326e-18    8.1e-18      0.164      0.870   -1.46e-17    1.72e-17\n",
      "x24           -0.0305      0.006     -5.329      0.000      -0.042      -0.019\n",
      "x25            0.0052      0.005      1.066      0.287      -0.004       0.015\n",
      "x26            0.0316      0.007      4.543      0.000       0.018       0.045\n",
      "x27           -0.0042      0.007     -0.599      0.550      -0.018       0.010\n",
      "x28            0.0036      0.007      0.506      0.613      -0.010       0.017\n",
      "x29            0.0055      0.007      0.775      0.438      -0.008       0.020\n",
      "x30            0.0010      0.007      0.138      0.891      -0.013       0.015\n",
      "x31            0.0132      0.007      1.848      0.065      -0.001       0.027\n",
      "x32           -0.0128      0.007     -1.802      0.072      -0.027       0.001\n",
      "x33            0.0025      0.007      0.346      0.729      -0.012       0.017\n",
      "x34           -0.0026      0.007     -0.359      0.720      -0.017       0.011\n",
      "x35            0.0036      0.007      0.512      0.609      -0.010       0.018\n",
      "x36           -0.0014      0.007     -0.194      0.846      -0.015       0.013\n",
      "x37           -0.0055      0.007     -0.771      0.441      -0.019       0.008\n",
      "x38           -0.0013      0.007     -0.188      0.851      -0.015       0.013\n",
      "x39            0.0195      0.007      2.745      0.006       0.006       0.033\n",
      "x40           -0.0066      0.007     -0.926      0.355      -0.021       0.007\n",
      "x41         -8.59e-05      0.007     -0.012      0.990      -0.014       0.014\n",
      "x42           -0.0008      0.007     -0.110      0.913      -0.015       0.013\n",
      "x43           -0.0020      0.007     -0.281      0.779      -0.016       0.012\n",
      "x44           -0.0056      0.007     -0.788      0.431      -0.020       0.008\n",
      "x45           -0.0031      0.007     -0.431      0.666      -0.017       0.011\n",
      "x46           -0.0059      0.007     -0.835      0.404      -0.020       0.008\n",
      "x47           -0.0078      0.007     -1.105      0.270      -0.022       0.006\n",
      "x48           -0.0033      0.007     -0.465      0.642      -0.017       0.011\n",
      "x49            0.0023      0.007      0.329      0.742      -0.012       0.016\n",
      "x50            0.0029      0.007      0.402      0.688      -0.011       0.017\n",
      "x51            0.0130      0.007      1.829      0.068      -0.001       0.027\n",
      "x52           -0.0084      0.007     -1.185      0.237      -0.022       0.006\n",
      "x53           -0.0021      0.007     -0.294      0.769      -0.016       0.012\n",
      "x54           -0.0111      0.007     -1.581      0.114      -0.025       0.003\n",
      "x55           -0.0004      0.007     -0.062      0.950      -0.015       0.014\n",
      "x56           -0.0058      0.007     -0.806      0.421      -0.020       0.008\n",
      "x57           -0.0036      0.007     -0.505      0.613      -0.018       0.010\n",
      "x58           -0.0042      0.007     -0.595      0.552      -0.018       0.010\n",
      "x59            0.0053      0.007      0.743      0.458      -0.009       0.019\n",
      "x60            0.0104      0.007      1.465      0.144      -0.004       0.024\n",
      "x61           -0.0079      0.007     -1.120      0.263      -0.022       0.006\n",
      "x62           -0.0031      0.007     -0.449      0.653      -0.017       0.011\n",
      "x63            0.0008      0.007      0.106      0.915      -0.013       0.015\n",
      "x64            0.0010      0.007      0.136      0.892      -0.013       0.015\n",
      "x65           -0.0065      0.007     -0.912      0.362      -0.020       0.007\n",
      "x66            0.0283      0.007      4.009      0.000       0.014       0.042\n",
      "x67         2.388e-18   7.73e-18      0.309      0.758   -1.28e-17    1.76e-17\n",
      "x68            0.0065      0.007      0.922      0.357      -0.007       0.020\n",
      "x69           -0.0039      0.007     -0.545      0.586      -0.018       0.010\n",
      "x70           -0.0082      0.007     -1.152      0.250      -0.022       0.006\n",
      "x71            0.0191      0.007      2.701      0.007       0.005       0.033\n",
      "x72           -0.0035      0.007     -0.488      0.625      -0.017       0.011\n",
      "x73           -0.0046      0.007     -0.639      0.523      -0.019       0.009\n",
      "x74            0.0002      0.007      0.024      0.981      -0.014       0.014\n",
      "x75           -0.0038      0.007     -0.533      0.594      -0.018       0.010\n",
      "x76           -0.0040      0.007     -0.563      0.573      -0.018       0.010\n",
      "x77           -0.0069      0.007     -0.971      0.332      -0.021       0.007\n",
      "x78           -0.0062      0.007     -0.866      0.387      -0.020       0.008\n",
      "x79            0.0230      0.007      3.188      0.002       0.009       0.037\n",
      "x80           -0.0169      0.007     -2.369      0.018      -0.031      -0.003\n",
      "x81           -0.0101      0.007     -1.428      0.154      -0.024       0.004\n",
      "x82            0.0014      0.007      0.196      0.845      -0.013       0.015\n",
      "x83           -0.0042      0.007     -0.586      0.558      -0.018       0.010\n",
      "x84            0.0055      0.007      0.783      0.434      -0.008       0.019\n",
      "x85            0.0030      0.007      0.425      0.671      -0.011       0.017\n",
      "x86           -0.0009      0.007     -0.124      0.901      -0.015       0.013\n",
      "x87            0.0045      0.007      0.635      0.526      -0.009       0.018\n",
      "x88            0.0069      0.007      0.978      0.329      -0.007       0.021\n",
      "x89           -0.0028      0.007     -0.391      0.696      -0.017       0.011\n",
      "x90           -0.0036      0.007     -0.506      0.613      -0.018       0.010\n",
      "x91           -0.0016      0.007     -0.228      0.820      -0.016       0.012\n",
      "x92            0.0021      0.007      0.298      0.766      -0.012       0.016\n",
      "x93            0.0028      0.007      0.390      0.696      -0.011       0.017\n",
      "x94            0.0003      0.007      0.046      0.963      -0.014       0.014\n",
      "x95           -0.0100      0.007     -1.406      0.160      -0.024       0.004\n",
      "x96            0.0002      0.007      0.029      0.977      -0.014       0.014\n",
      "x97           -0.0054      0.007     -0.762      0.446      -0.019       0.009\n",
      "x98            0.0004      0.007      0.050      0.961      -0.014       0.014\n",
      "x99           -0.0061      0.007     -0.863      0.389      -0.020       0.008\n",
      "x100          -0.0029      0.007     -0.403      0.687      -0.017       0.011\n",
      "x101          -0.0097      0.007     -1.370      0.171      -0.024       0.004\n",
      "x102           0.0054      0.007      0.755      0.451      -0.009       0.019\n",
      "x103          -0.0068      0.007     -0.956      0.339      -0.021       0.007\n",
      "x104           0.0195      0.007      2.712      0.007       0.005       0.034\n",
      "x105          -0.0189      0.007     -2.640      0.009      -0.033      -0.005\n",
      "x106          -0.0113      0.007     -1.585      0.113      -0.025       0.003\n",
      "x107          -0.0067      0.007     -0.947      0.344      -0.020       0.007\n",
      "x108          -0.0059      0.007     -0.828      0.408      -0.020       0.008\n",
      "x109          -0.0095      0.007     -1.346      0.179      -0.023       0.004\n",
      "x110           0.0089      0.007      1.242      0.215      -0.005       0.023\n",
      "x111          -0.0013      0.007     -0.189      0.850      -0.015       0.013\n",
      "x112           0.0138      0.007      1.949      0.052      -0.000       0.028\n",
      "x113          -0.0049      0.007     -0.687      0.492      -0.019       0.009\n",
      "x114          -0.0014      0.007     -0.200      0.841      -0.015       0.013\n",
      "x115           0.0070      0.007      0.980      0.327      -0.007       0.021\n",
      "x116          -0.0066      0.007     -0.934      0.351      -0.021       0.007\n",
      "x117           0.0085      0.007      1.203      0.230      -0.005       0.022\n",
      "x118        8.763e-07      0.007      0.000      1.000      -0.014       0.014\n",
      "x119           0.0015      0.007      0.217      0.828      -0.012       0.015\n",
      "x120          -0.0035      0.007     -0.498      0.619      -0.017       0.010\n",
      "x121          -0.0026      0.007     -0.367      0.713      -0.017       0.011\n",
      "x122           0.0230      0.007      3.212      0.001       0.009       0.037\n",
      "x123          -0.0062      0.007     -0.884      0.377      -0.020       0.008\n",
      "x124           0.0021      0.007      0.298      0.766      -0.012       0.016\n",
      "x125           0.0039      0.007      0.540      0.589      -0.010       0.018\n",
      "x126          -0.0010      0.007     -0.140      0.889      -0.015       0.013\n",
      "x127          -0.0068      0.007     -0.952      0.342      -0.021       0.007\n",
      "x128          -0.0020      0.007     -0.287      0.774      -0.016       0.012\n",
      "x129           0.0114      0.007      1.608      0.108      -0.003       0.025\n",
      "x130          -0.0041      0.007     -0.577      0.564      -0.018       0.010\n",
      "x131          -0.0012      0.007     -0.169      0.866      -0.015       0.013\n",
      "x132           0.0125      0.007      1.752      0.080      -0.002       0.027\n",
      "x133           0.0093      0.007      1.305      0.193      -0.005       0.023\n",
      "x134          -0.0093      0.007     -1.309      0.191      -0.023       0.005\n",
      "x135           0.0130      0.007      1.825      0.068      -0.001       0.027\n",
      "x136          -0.0032      0.007     -0.442      0.659      -0.017       0.011\n",
      "x137          -0.0025      0.007     -0.354      0.724      -0.017       0.011\n",
      "x138           0.0019      0.007      0.264      0.792      -0.012       0.016\n",
      "x139          -0.0128      0.007     -1.791      0.074      -0.027       0.001\n",
      "x140          -0.0030      0.007     -0.418      0.676      -0.017       0.011\n",
      "x141          -0.0035      0.007     -0.487      0.626      -0.017       0.010\n",
      "x142           0.0129      0.007      1.818      0.070      -0.001       0.027\n",
      "x143          -0.0015      0.007     -0.210      0.834      -0.015       0.012\n",
      "x144          -0.0044      0.007     -0.614      0.539      -0.018       0.010\n",
      "x145           0.0044      0.007      0.628      0.530      -0.009       0.018\n",
      "x146          -0.0028      0.007     -0.400      0.690      -0.017       0.011\n",
      "x147           0.0167      0.007      2.371      0.018       0.003       0.030\n",
      "x148          -0.0007      0.007     -0.104      0.917      -0.015       0.013\n",
      "x149           0.0078      0.007      1.087      0.277      -0.006       0.022\n",
      "x150          -0.0097      0.007     -1.364      0.173      -0.024       0.004\n",
      "x151           0.0008      0.007      0.110      0.912      -0.013       0.015\n",
      "x152          -0.0073      0.007     -1.037      0.300      -0.021       0.007\n",
      "x153          -0.0144      0.007     -1.990      0.047      -0.029      -0.000\n",
      "x154           0.0013      0.007      0.185      0.853      -0.013       0.015\n",
      "x155          -0.0004      0.007     -0.060      0.953      -0.014       0.014\n",
      "x156          -0.0036      0.007     -0.505      0.614      -0.018       0.010\n",
      "x157          -0.0017      0.007     -0.244      0.808      -0.016       0.012\n",
      "x158          -0.0043      0.007     -0.606      0.545      -0.018       0.010\n",
      "x159           0.0121      0.007      1.690      0.092      -0.002       0.026\n",
      "x160          -0.0046      0.007     -0.652      0.515      -0.019       0.009\n",
      "x161          -0.0013      0.007     -0.185      0.853      -0.015       0.013\n",
      "x162           0.0075      0.007      1.046      0.296      -0.007       0.021\n",
      "x163          -0.0036      0.007     -0.505      0.614      -0.018       0.010\n",
      "x164          -0.0029      0.007     -0.405      0.686      -0.017       0.011\n",
      "x165          -0.0034      0.007     -0.473      0.636      -0.017       0.011\n",
      "x166           0.0018      0.007      0.253      0.800      -0.012       0.016\n",
      "x167          -0.0042      0.007     -0.595      0.552      -0.018       0.010\n",
      "x168           0.0095      0.007      1.337      0.182      -0.004       0.024\n",
      "x169           0.0034      0.007      0.472      0.637      -0.011       0.017\n",
      "x170           0.0060      0.007      0.835      0.404      -0.008       0.020\n",
      "x171           0.0038      0.007      0.529      0.597      -0.010       0.018\n",
      "x172          -0.0067      0.007     -0.952      0.341      -0.021       0.007\n",
      "x173           0.0068      0.007      0.951      0.342      -0.007       0.021\n",
      "x174           0.0004      0.007      0.061      0.951      -0.013       0.014\n",
      "x175          -0.0026      0.007     -0.368      0.713      -0.017       0.011\n",
      "x176           0.0060      0.007      0.841      0.401      -0.008       0.020\n",
      "x177           0.0098      0.007      1.386      0.166      -0.004       0.024\n",
      "x178           0.0148      0.007      2.076      0.038       0.001       0.029\n",
      "x179          -0.0101      0.007     -1.424      0.155      -0.024       0.004\n",
      "x180          -0.0004      0.007     -0.062      0.951      -0.014       0.013\n",
      "x181          -0.0020      0.007     -0.274      0.784      -0.016       0.012\n",
      "x182          -0.0024      0.007     -0.338      0.736      -0.016       0.012\n",
      "x183          -0.0040      0.007     -0.569      0.569      -0.018       0.010\n",
      "x184           0.0015      0.007      0.212      0.832      -0.012       0.016\n",
      "x185          -0.0059      0.007     -0.828      0.408      -0.020       0.008\n",
      "x186          -0.0064      0.007     -0.903      0.367      -0.020       0.008\n",
      "x187          -0.0113      0.007     -1.595      0.111      -0.025       0.003\n",
      "x188          -0.0114      0.007     -1.588      0.113      -0.026       0.003\n",
      "x189          -0.0038      0.007     -0.538      0.591      -0.018       0.010\n",
      "x190          -0.0001      0.007     -0.018      0.986      -0.014       0.014\n",
      "x191           0.0018      0.007      0.253      0.800      -0.012       0.016\n",
      "x192           0.0032      0.007      0.454      0.650      -0.011       0.017\n",
      "x193           0.0068      0.007      0.962      0.336      -0.007       0.021\n",
      "x194           0.0003      0.007      0.041      0.967      -0.014       0.014\n",
      "x195           0.0026      0.007      0.368      0.713      -0.011       0.016\n",
      "x196           0.0010      0.007      0.142      0.887      -0.013       0.015\n",
      "x197           0.0011      0.007      0.161      0.872      -0.013       0.015\n",
      "x198          -0.0057      0.007     -0.801      0.424      -0.020       0.008\n",
      "x199          -0.0055      0.007     -0.765      0.444      -0.020       0.009\n",
      "x200           0.0011      0.007      0.157      0.876      -0.013       0.015\n",
      "x201           0.0013      0.007      0.184      0.854      -0.013       0.015\n",
      "x202          -0.0069      0.007     -0.969      0.333      -0.021       0.007\n",
      "x203           0.0050      0.007      0.697      0.486      -0.009       0.019\n",
      "x204           0.0117      0.007      1.641      0.101      -0.002       0.026\n",
      "x205           0.0236      0.007      3.309      0.001       0.010       0.038\n",
      "x206          -0.0012      0.007     -0.170      0.865      -0.015       0.013\n",
      "x207           0.0002      0.007      0.034      0.973      -0.014       0.014\n",
      "x208           0.0054      0.007      0.761      0.447      -0.009       0.019\n",
      "x209          -0.0046      0.007     -0.641      0.522      -0.019       0.009\n",
      "x210          -0.0064      0.007     -0.908      0.364      -0.020       0.007\n",
      "x211          -0.0002      0.007     -0.024      0.981      -0.014       0.014\n",
      "x212           0.0062      0.007      0.869      0.385      -0.008       0.020\n",
      "x213           0.0054      0.007      0.759      0.448      -0.009       0.019\n",
      "x214           0.0079      0.007      1.122      0.262      -0.006       0.022\n",
      "x215          -0.0024      0.007     -0.339      0.735      -0.016       0.012\n",
      "x216           0.0065      0.007      0.908      0.364      -0.008       0.020\n",
      "x217           0.0014      0.007      0.196      0.845      -0.013       0.015\n",
      "x218          -0.0135      0.007     -1.901      0.058      -0.027       0.000\n",
      "x219          -0.0095      0.007     -1.337      0.182      -0.023       0.004\n",
      "x220           0.0034      0.007      0.479      0.632      -0.011       0.017\n",
      "x221           0.0065      0.007      0.908      0.364      -0.008       0.020\n",
      "x222           0.0146      0.007      2.072      0.039       0.001       0.028\n",
      "x223           0.0067      0.007      0.950      0.343      -0.007       0.021\n",
      "x224           0.0165      0.007      2.303      0.022       0.002       0.031\n",
      "x225          -0.0062      0.007     -0.862      0.389      -0.020       0.008\n",
      "x226           0.0017      0.007      0.238      0.812      -0.012       0.016\n",
      "x227           0.0013      0.007      0.181      0.857      -0.013       0.015\n",
      "x228           0.0064      0.007      0.895      0.371      -0.008       0.020\n",
      "x229          -0.0061      0.007     -0.850      0.396      -0.020       0.008\n",
      "x230          -0.0017      0.007     -0.244      0.808      -0.016       0.012\n",
      "x231           0.0069      0.007      0.977      0.329      -0.007       0.021\n",
      "x232          -0.0072      0.007     -1.004      0.316      -0.021       0.007\n",
      "x233          -0.0066      0.007     -0.926      0.355      -0.020       0.007\n",
      "x234           0.0023      0.007      0.327      0.744      -0.012       0.016\n",
      "x235           0.0006      0.007      0.080      0.936      -0.013       0.014\n",
      "x236          -0.0075      0.007     -1.060      0.290      -0.022       0.006\n",
      "x237          -0.0087      0.007     -1.222      0.222      -0.023       0.005\n",
      "x238          -0.0098      0.007     -1.374      0.170      -0.024       0.004\n",
      "x239           0.0040      0.007      0.563      0.574      -0.010       0.018\n",
      "x240          -0.0015      0.007     -0.207      0.836      -0.015       0.012\n",
      "x241          -0.0029      0.007     -0.412      0.680      -0.017       0.011\n",
      "x242           0.0003      0.007      0.037      0.970      -0.014       0.014\n",
      "x243           0.0075      0.007      1.054      0.292      -0.006       0.021\n",
      "x244           0.0008      0.007      0.118      0.906      -0.013       0.015\n",
      "x245           0.0019      0.007      0.264      0.792      -0.012       0.016\n",
      "x246          -0.0037      0.007     -0.517      0.605      -0.018       0.010\n",
      "x247           0.0168      0.007      2.379      0.018       0.003       0.031\n",
      "x248          -0.0033      0.007     -0.472      0.637      -0.017       0.011\n",
      "x249           0.0130      0.007      1.831      0.068      -0.001       0.027\n",
      "x250          -0.0047      0.007     -0.666      0.506      -0.019       0.009\n",
      "x251           0.0032      0.007      0.444      0.657      -0.011       0.017\n",
      "x252           0.0003      0.007      0.041      0.967      -0.014       0.014\n",
      "x253          -0.0077      0.007     -1.094      0.274      -0.022       0.006\n",
      "x254           0.0145      0.007      2.037      0.042       0.001       0.028\n",
      "x255           0.0046      0.007      0.647      0.518      -0.009       0.019\n",
      "x256          -0.0067      0.007     -0.938      0.349      -0.021       0.007\n",
      "x257          -0.0041      0.007     -0.579      0.563      -0.018       0.010\n",
      "x258          -0.0061      0.007     -0.854      0.393      -0.020       0.008\n",
      "x259          -0.0067      0.007     -0.948      0.343      -0.021       0.007\n",
      "x260          -0.0116      0.007     -1.635      0.103      -0.025       0.002\n",
      "x261          -0.0097      0.007     -1.361      0.174      -0.024       0.004\n",
      "x262           0.0008      0.007      0.111      0.911      -0.013       0.015\n",
      "x263          -0.0017      0.007     -0.234      0.815      -0.016       0.012\n",
      "==============================================================================\n",
      "Omnibus:                      141.574   Durbin-Watson:                   1.962\n",
      "Prob(Omnibus):                  0.000   Jarque-Bera (JB):              397.037\n",
      "Skew:                           0.888   Prob(JB):                     6.09e-87\n",
      "Kurtosis:                       5.959   Cond. No.                     1.20e+16\n",
      "==============================================================================\n",
      "\n",
      "Warnings:\n",
      "[1] Standard Errors assume that the covariance matrix of the errors is correctly specified.\n",
      "[2] The smallest eigenvalue is 1.4e-29. This might indicate that there are\n",
      "strong multicollinearity problems or that the design matrix is singular.\n"
     ]
    }
   ],
   "source": [
    "import  statsmodels.api  as sm\n",
    "from scipy import stats\n",
    "\n",
    "X2   = sm.add_constant(X_train_std)\n",
    "est  = sm.OLS(y_train, X2)\n",
    "est2 = est.fit()\n",
    "print(est2.summary())"
   ]
  },
  {
   "cell_type": "markdown",
   "metadata": {},
   "source": [
    "We can see that the feature __Male(Gender)__ does not contribute to the model (i.e., see x4) so we can actually remove that variable from our model."
   ]
  },
  {
   "cell_type": "code",
   "execution_count": 39,
   "metadata": {},
   "outputs": [],
   "source": [
    "X = new_df.drop(['Clicked on Ad', 'Male'],1) \n",
    "y = new_df['Clicked on Ad']\n",
    "X_train, X_test, y_train, y_test = train_test_split(X, y, test_size=0.20, random_state=42)"
   ]
  },
  {
   "cell_type": "code",
   "execution_count": 40,
   "metadata": {},
   "outputs": [
    {
     "name": "stdout",
     "output_type": "stream",
     "text": [
      "                            OLS Regression Results                            \n",
      "==============================================================================\n",
      "Dep. Variable:          Clicked on Ad   R-squared:                       0.893\n",
      "Model:                            OLS   Adj. R-squared:                  0.843\n",
      "Method:                 Least Squares   F-statistic:                     17.75\n",
      "Date:                Sun, 05 Aug 2018   Prob (F-statistic):          8.68e-164\n",
      "Time:                        17:49:52   Log-Likelihood:                 314.62\n",
      "No. Observations:                 800   AIC:                            -115.2\n",
      "Df Residuals:                     543   BIC:                             1089.\n",
      "Df Model:                         256                                         \n",
      "Covariance Type:            nonrobust                                         \n",
      "==============================================================================\n",
      "                 coef    std err          t      P>|t|      [0.025      0.975]\n",
      "------------------------------------------------------------------------------\n",
      "const          0.4863      0.007     69.390      0.000       0.472       0.500\n",
      "x1            -0.1816      0.010    -17.728      0.000      -0.202      -0.161\n",
      "x2            -0.0932      0.009    -10.275      0.000      -0.111      -0.075\n",
      "x3            -0.2588      0.011    -24.497      0.000      -0.280      -0.238\n",
      "x4            -0.0166      0.008     -1.974      0.049      -0.033   -8.27e-05\n",
      "x5            -0.0059      0.007     -0.818      0.414      -0.020       0.008\n",
      "x6             0.0068      0.007      0.957      0.339      -0.007       0.021\n",
      "x7            -0.0134      0.007     -1.864      0.063      -0.027       0.001\n",
      "x8             0.0008      0.007      0.115      0.908      -0.013       0.015\n",
      "x9             0.0095      0.007      1.296      0.195      -0.005       0.024\n",
      "x10           -0.0092      0.007     -1.280      0.201      -0.023       0.005\n",
      "x11            0.0128      0.008      1.694      0.091      -0.002       0.028\n",
      "x12            0.0025      0.007      0.339      0.735      -0.012       0.017\n",
      "x13           -0.0040      0.007     -0.542      0.588      -0.018       0.010\n",
      "x14           -0.0028      0.007     -0.391      0.696      -0.017       0.011\n",
      "x15           -0.0011      0.007     -0.150      0.881      -0.015       0.013\n",
      "x16           -0.0045      0.007     -0.607      0.544      -0.019       0.010\n",
      "x17           -0.0007      0.008     -0.087      0.930      -0.016       0.014\n",
      "x18            0.0100      0.007      1.383      0.167      -0.004       0.024\n",
      "x19           -0.0002      0.006     -0.028      0.978      -0.013       0.013\n",
      "x20            0.0027      0.006      0.434      0.665      -0.010       0.015\n",
      "x21           -0.0084      0.006     -1.307      0.192      -0.021       0.004\n",
      "x22            0.0057      0.006      0.892      0.373      -0.007       0.018\n",
      "x23         1.326e-18    8.1e-18      0.164      0.870   -1.46e-17    1.72e-17\n",
      "x24           -0.0305      0.006     -5.329      0.000      -0.042      -0.019\n",
      "x25            0.0052      0.005      1.066      0.287      -0.004       0.015\n",
      "x26            0.0316      0.007      4.543      0.000       0.018       0.045\n",
      "x27           -0.0042      0.007     -0.599      0.550      -0.018       0.010\n",
      "x28            0.0036      0.007      0.506      0.613      -0.010       0.017\n",
      "x29            0.0055      0.007      0.775      0.438      -0.008       0.020\n",
      "x30            0.0010      0.007      0.138      0.891      -0.013       0.015\n",
      "x31            0.0132      0.007      1.848      0.065      -0.001       0.027\n",
      "x32           -0.0128      0.007     -1.802      0.072      -0.027       0.001\n",
      "x33            0.0025      0.007      0.346      0.729      -0.012       0.017\n",
      "x34           -0.0026      0.007     -0.359      0.720      -0.017       0.011\n",
      "x35            0.0036      0.007      0.512      0.609      -0.010       0.018\n",
      "x36           -0.0014      0.007     -0.194      0.846      -0.015       0.013\n",
      "x37           -0.0055      0.007     -0.771      0.441      -0.019       0.008\n",
      "x38           -0.0013      0.007     -0.188      0.851      -0.015       0.013\n",
      "x39            0.0195      0.007      2.745      0.006       0.006       0.033\n",
      "x40           -0.0066      0.007     -0.926      0.355      -0.021       0.007\n",
      "x41         -8.59e-05      0.007     -0.012      0.990      -0.014       0.014\n",
      "x42           -0.0008      0.007     -0.110      0.913      -0.015       0.013\n",
      "x43           -0.0020      0.007     -0.281      0.779      -0.016       0.012\n",
      "x44           -0.0056      0.007     -0.788      0.431      -0.020       0.008\n",
      "x45           -0.0031      0.007     -0.431      0.666      -0.017       0.011\n",
      "x46           -0.0059      0.007     -0.835      0.404      -0.020       0.008\n",
      "x47           -0.0078      0.007     -1.105      0.270      -0.022       0.006\n",
      "x48           -0.0033      0.007     -0.465      0.642      -0.017       0.011\n",
      "x49            0.0023      0.007      0.329      0.742      -0.012       0.016\n",
      "x50            0.0029      0.007      0.402      0.688      -0.011       0.017\n",
      "x51            0.0130      0.007      1.829      0.068      -0.001       0.027\n",
      "x52           -0.0084      0.007     -1.185      0.237      -0.022       0.006\n",
      "x53           -0.0021      0.007     -0.294      0.769      -0.016       0.012\n",
      "x54           -0.0111      0.007     -1.581      0.114      -0.025       0.003\n",
      "x55           -0.0004      0.007     -0.062      0.950      -0.015       0.014\n",
      "x56           -0.0058      0.007     -0.806      0.421      -0.020       0.008\n",
      "x57           -0.0036      0.007     -0.505      0.613      -0.018       0.010\n",
      "x58           -0.0042      0.007     -0.595      0.552      -0.018       0.010\n",
      "x59            0.0053      0.007      0.743      0.458      -0.009       0.019\n",
      "x60            0.0104      0.007      1.465      0.144      -0.004       0.024\n",
      "x61           -0.0079      0.007     -1.120      0.263      -0.022       0.006\n",
      "x62           -0.0031      0.007     -0.449      0.653      -0.017       0.011\n",
      "x63            0.0008      0.007      0.106      0.915      -0.013       0.015\n",
      "x64            0.0010      0.007      0.136      0.892      -0.013       0.015\n",
      "x65           -0.0065      0.007     -0.912      0.362      -0.020       0.007\n",
      "x66            0.0283      0.007      4.009      0.000       0.014       0.042\n",
      "x67         2.388e-18   7.73e-18      0.309      0.758   -1.28e-17    1.76e-17\n",
      "x68            0.0065      0.007      0.922      0.357      -0.007       0.020\n",
      "x69           -0.0039      0.007     -0.545      0.586      -0.018       0.010\n",
      "x70           -0.0082      0.007     -1.152      0.250      -0.022       0.006\n",
      "x71            0.0191      0.007      2.701      0.007       0.005       0.033\n",
      "x72           -0.0035      0.007     -0.488      0.625      -0.017       0.011\n",
      "x73           -0.0046      0.007     -0.639      0.523      -0.019       0.009\n",
      "x74            0.0002      0.007      0.024      0.981      -0.014       0.014\n",
      "x75           -0.0038      0.007     -0.533      0.594      -0.018       0.010\n",
      "x76           -0.0040      0.007     -0.563      0.573      -0.018       0.010\n",
      "x77           -0.0069      0.007     -0.971      0.332      -0.021       0.007\n",
      "x78           -0.0062      0.007     -0.866      0.387      -0.020       0.008\n",
      "x79            0.0230      0.007      3.188      0.002       0.009       0.037\n",
      "x80           -0.0169      0.007     -2.369      0.018      -0.031      -0.003\n",
      "x81           -0.0101      0.007     -1.428      0.154      -0.024       0.004\n",
      "x82            0.0014      0.007      0.196      0.845      -0.013       0.015\n",
      "x83           -0.0042      0.007     -0.586      0.558      -0.018       0.010\n",
      "x84            0.0055      0.007      0.783      0.434      -0.008       0.019\n",
      "x85            0.0030      0.007      0.425      0.671      -0.011       0.017\n",
      "x86           -0.0009      0.007     -0.124      0.901      -0.015       0.013\n",
      "x87            0.0045      0.007      0.635      0.526      -0.009       0.018\n",
      "x88            0.0069      0.007      0.978      0.329      -0.007       0.021\n",
      "x89           -0.0028      0.007     -0.391      0.696      -0.017       0.011\n",
      "x90           -0.0036      0.007     -0.506      0.613      -0.018       0.010\n",
      "x91           -0.0016      0.007     -0.228      0.820      -0.016       0.012\n",
      "x92            0.0021      0.007      0.298      0.766      -0.012       0.016\n",
      "x93            0.0028      0.007      0.390      0.696      -0.011       0.017\n",
      "x94            0.0003      0.007      0.046      0.963      -0.014       0.014\n",
      "x95           -0.0100      0.007     -1.406      0.160      -0.024       0.004\n",
      "x96            0.0002      0.007      0.029      0.977      -0.014       0.014\n",
      "x97           -0.0054      0.007     -0.762      0.446      -0.019       0.009\n",
      "x98            0.0004      0.007      0.050      0.961      -0.014       0.014\n",
      "x99           -0.0061      0.007     -0.863      0.389      -0.020       0.008\n",
      "x100          -0.0029      0.007     -0.403      0.687      -0.017       0.011\n",
      "x101          -0.0097      0.007     -1.370      0.171      -0.024       0.004\n",
      "x102           0.0054      0.007      0.755      0.451      -0.009       0.019\n",
      "x103          -0.0068      0.007     -0.956      0.339      -0.021       0.007\n",
      "x104           0.0195      0.007      2.712      0.007       0.005       0.034\n",
      "x105          -0.0189      0.007     -2.640      0.009      -0.033      -0.005\n",
      "x106          -0.0113      0.007     -1.585      0.113      -0.025       0.003\n",
      "x107          -0.0067      0.007     -0.947      0.344      -0.020       0.007\n",
      "x108          -0.0059      0.007     -0.828      0.408      -0.020       0.008\n",
      "x109          -0.0095      0.007     -1.346      0.179      -0.023       0.004\n",
      "x110           0.0089      0.007      1.242      0.215      -0.005       0.023\n",
      "x111          -0.0013      0.007     -0.189      0.850      -0.015       0.013\n",
      "x112           0.0138      0.007      1.949      0.052      -0.000       0.028\n",
      "x113          -0.0049      0.007     -0.687      0.492      -0.019       0.009\n",
      "x114          -0.0014      0.007     -0.200      0.841      -0.015       0.013\n",
      "x115           0.0070      0.007      0.980      0.327      -0.007       0.021\n",
      "x116          -0.0066      0.007     -0.934      0.351      -0.021       0.007\n",
      "x117           0.0085      0.007      1.203      0.230      -0.005       0.022\n",
      "x118        8.763e-07      0.007      0.000      1.000      -0.014       0.014\n",
      "x119           0.0015      0.007      0.217      0.828      -0.012       0.015\n",
      "x120          -0.0035      0.007     -0.498      0.619      -0.017       0.010\n",
      "x121          -0.0026      0.007     -0.367      0.713      -0.017       0.011\n",
      "x122           0.0230      0.007      3.212      0.001       0.009       0.037\n",
      "x123          -0.0062      0.007     -0.884      0.377      -0.020       0.008\n",
      "x124           0.0021      0.007      0.298      0.766      -0.012       0.016\n",
      "x125           0.0039      0.007      0.540      0.589      -0.010       0.018\n",
      "x126          -0.0010      0.007     -0.140      0.889      -0.015       0.013\n",
      "x127          -0.0068      0.007     -0.952      0.342      -0.021       0.007\n",
      "x128          -0.0020      0.007     -0.287      0.774      -0.016       0.012\n",
      "x129           0.0114      0.007      1.608      0.108      -0.003       0.025\n",
      "x130          -0.0041      0.007     -0.577      0.564      -0.018       0.010\n",
      "x131          -0.0012      0.007     -0.169      0.866      -0.015       0.013\n",
      "x132           0.0125      0.007      1.752      0.080      -0.002       0.027\n",
      "x133           0.0093      0.007      1.305      0.193      -0.005       0.023\n",
      "x134          -0.0093      0.007     -1.309      0.191      -0.023       0.005\n",
      "x135           0.0130      0.007      1.825      0.068      -0.001       0.027\n",
      "x136          -0.0032      0.007     -0.442      0.659      -0.017       0.011\n",
      "x137          -0.0025      0.007     -0.354      0.724      -0.017       0.011\n",
      "x138           0.0019      0.007      0.264      0.792      -0.012       0.016\n",
      "x139          -0.0128      0.007     -1.791      0.074      -0.027       0.001\n",
      "x140          -0.0030      0.007     -0.418      0.676      -0.017       0.011\n",
      "x141          -0.0035      0.007     -0.487      0.626      -0.017       0.010\n",
      "x142           0.0129      0.007      1.818      0.070      -0.001       0.027\n",
      "x143          -0.0015      0.007     -0.210      0.834      -0.015       0.012\n",
      "x144          -0.0044      0.007     -0.614      0.539      -0.018       0.010\n",
      "x145           0.0044      0.007      0.628      0.530      -0.009       0.018\n",
      "x146          -0.0028      0.007     -0.400      0.690      -0.017       0.011\n",
      "x147           0.0167      0.007      2.371      0.018       0.003       0.030\n",
      "x148          -0.0007      0.007     -0.104      0.917      -0.015       0.013\n",
      "x149           0.0078      0.007      1.087      0.277      -0.006       0.022\n",
      "x150          -0.0097      0.007     -1.364      0.173      -0.024       0.004\n",
      "x151           0.0008      0.007      0.110      0.912      -0.013       0.015\n",
      "x152          -0.0073      0.007     -1.037      0.300      -0.021       0.007\n",
      "x153          -0.0144      0.007     -1.990      0.047      -0.029      -0.000\n",
      "x154           0.0013      0.007      0.185      0.853      -0.013       0.015\n",
      "x155          -0.0004      0.007     -0.060      0.953      -0.014       0.014\n",
      "x156          -0.0036      0.007     -0.505      0.614      -0.018       0.010\n",
      "x157          -0.0017      0.007     -0.244      0.808      -0.016       0.012\n",
      "x158          -0.0043      0.007     -0.606      0.545      -0.018       0.010\n",
      "x159           0.0121      0.007      1.690      0.092      -0.002       0.026\n",
      "x160          -0.0046      0.007     -0.652      0.515      -0.019       0.009\n",
      "x161          -0.0013      0.007     -0.185      0.853      -0.015       0.013\n",
      "x162           0.0075      0.007      1.046      0.296      -0.007       0.021\n",
      "x163          -0.0036      0.007     -0.505      0.614      -0.018       0.010\n",
      "x164          -0.0029      0.007     -0.405      0.686      -0.017       0.011\n",
      "x165          -0.0034      0.007     -0.473      0.636      -0.017       0.011\n",
      "x166           0.0018      0.007      0.253      0.800      -0.012       0.016\n",
      "x167          -0.0042      0.007     -0.595      0.552      -0.018       0.010\n",
      "x168           0.0095      0.007      1.337      0.182      -0.004       0.024\n",
      "x169           0.0034      0.007      0.472      0.637      -0.011       0.017\n",
      "x170           0.0060      0.007      0.835      0.404      -0.008       0.020\n",
      "x171           0.0038      0.007      0.529      0.597      -0.010       0.018\n",
      "x172          -0.0067      0.007     -0.952      0.341      -0.021       0.007\n",
      "x173           0.0068      0.007      0.951      0.342      -0.007       0.021\n",
      "x174           0.0004      0.007      0.061      0.951      -0.013       0.014\n",
      "x175          -0.0026      0.007     -0.368      0.713      -0.017       0.011\n",
      "x176           0.0060      0.007      0.841      0.401      -0.008       0.020\n",
      "x177           0.0098      0.007      1.386      0.166      -0.004       0.024\n",
      "x178           0.0148      0.007      2.076      0.038       0.001       0.029\n",
      "x179          -0.0101      0.007     -1.424      0.155      -0.024       0.004\n",
      "x180          -0.0004      0.007     -0.062      0.951      -0.014       0.013\n",
      "x181          -0.0020      0.007     -0.274      0.784      -0.016       0.012\n",
      "x182          -0.0024      0.007     -0.338      0.736      -0.016       0.012\n",
      "x183          -0.0040      0.007     -0.569      0.569      -0.018       0.010\n",
      "x184           0.0015      0.007      0.212      0.832      -0.012       0.016\n",
      "x185          -0.0059      0.007     -0.828      0.408      -0.020       0.008\n",
      "x186          -0.0064      0.007     -0.903      0.367      -0.020       0.008\n",
      "x187          -0.0113      0.007     -1.595      0.111      -0.025       0.003\n",
      "x188          -0.0114      0.007     -1.588      0.113      -0.026       0.003\n",
      "x189          -0.0038      0.007     -0.538      0.591      -0.018       0.010\n",
      "x190          -0.0001      0.007     -0.018      0.986      -0.014       0.014\n",
      "x191           0.0018      0.007      0.253      0.800      -0.012       0.016\n",
      "x192           0.0032      0.007      0.454      0.650      -0.011       0.017\n",
      "x193           0.0068      0.007      0.962      0.336      -0.007       0.021\n",
      "x194           0.0003      0.007      0.041      0.967      -0.014       0.014\n",
      "x195           0.0026      0.007      0.368      0.713      -0.011       0.016\n",
      "x196           0.0010      0.007      0.142      0.887      -0.013       0.015\n",
      "x197           0.0011      0.007      0.161      0.872      -0.013       0.015\n",
      "x198          -0.0057      0.007     -0.801      0.424      -0.020       0.008\n",
      "x199          -0.0055      0.007     -0.765      0.444      -0.020       0.009\n",
      "x200           0.0011      0.007      0.157      0.876      -0.013       0.015\n",
      "x201           0.0013      0.007      0.184      0.854      -0.013       0.015\n",
      "x202          -0.0069      0.007     -0.969      0.333      -0.021       0.007\n",
      "x203           0.0050      0.007      0.697      0.486      -0.009       0.019\n",
      "x204           0.0117      0.007      1.641      0.101      -0.002       0.026\n",
      "x205           0.0236      0.007      3.309      0.001       0.010       0.038\n",
      "x206          -0.0012      0.007     -0.170      0.865      -0.015       0.013\n",
      "x207           0.0002      0.007      0.034      0.973      -0.014       0.014\n",
      "x208           0.0054      0.007      0.761      0.447      -0.009       0.019\n",
      "x209          -0.0046      0.007     -0.641      0.522      -0.019       0.009\n",
      "x210          -0.0064      0.007     -0.908      0.364      -0.020       0.007\n",
      "x211          -0.0002      0.007     -0.024      0.981      -0.014       0.014\n",
      "x212           0.0062      0.007      0.869      0.385      -0.008       0.020\n",
      "x213           0.0054      0.007      0.759      0.448      -0.009       0.019\n",
      "x214           0.0079      0.007      1.122      0.262      -0.006       0.022\n",
      "x215          -0.0024      0.007     -0.339      0.735      -0.016       0.012\n",
      "x216           0.0065      0.007      0.908      0.364      -0.008       0.020\n",
      "x217           0.0014      0.007      0.196      0.845      -0.013       0.015\n",
      "x218          -0.0135      0.007     -1.901      0.058      -0.027       0.000\n",
      "x219          -0.0095      0.007     -1.337      0.182      -0.023       0.004\n",
      "x220           0.0034      0.007      0.479      0.632      -0.011       0.017\n",
      "x221           0.0065      0.007      0.908      0.364      -0.008       0.020\n",
      "x222           0.0146      0.007      2.072      0.039       0.001       0.028\n",
      "x223           0.0067      0.007      0.950      0.343      -0.007       0.021\n",
      "x224           0.0165      0.007      2.303      0.022       0.002       0.031\n",
      "x225          -0.0062      0.007     -0.862      0.389      -0.020       0.008\n",
      "x226           0.0017      0.007      0.238      0.812      -0.012       0.016\n",
      "x227           0.0013      0.007      0.181      0.857      -0.013       0.015\n",
      "x228           0.0064      0.007      0.895      0.371      -0.008       0.020\n",
      "x229          -0.0061      0.007     -0.850      0.396      -0.020       0.008\n",
      "x230          -0.0017      0.007     -0.244      0.808      -0.016       0.012\n",
      "x231           0.0069      0.007      0.977      0.329      -0.007       0.021\n",
      "x232          -0.0072      0.007     -1.004      0.316      -0.021       0.007\n",
      "x233          -0.0066      0.007     -0.926      0.355      -0.020       0.007\n",
      "x234           0.0023      0.007      0.327      0.744      -0.012       0.016\n",
      "x235           0.0006      0.007      0.080      0.936      -0.013       0.014\n",
      "x236          -0.0075      0.007     -1.060      0.290      -0.022       0.006\n",
      "x237          -0.0087      0.007     -1.222      0.222      -0.023       0.005\n",
      "x238          -0.0098      0.007     -1.374      0.170      -0.024       0.004\n",
      "x239           0.0040      0.007      0.563      0.574      -0.010       0.018\n",
      "x240          -0.0015      0.007     -0.207      0.836      -0.015       0.012\n",
      "x241          -0.0029      0.007     -0.412      0.680      -0.017       0.011\n",
      "x242           0.0003      0.007      0.037      0.970      -0.014       0.014\n",
      "x243           0.0075      0.007      1.054      0.292      -0.006       0.021\n",
      "x244           0.0008      0.007      0.118      0.906      -0.013       0.015\n",
      "x245           0.0019      0.007      0.264      0.792      -0.012       0.016\n",
      "x246          -0.0037      0.007     -0.517      0.605      -0.018       0.010\n",
      "x247           0.0168      0.007      2.379      0.018       0.003       0.031\n",
      "x248          -0.0033      0.007     -0.472      0.637      -0.017       0.011\n",
      "x249           0.0130      0.007      1.831      0.068      -0.001       0.027\n",
      "x250          -0.0047      0.007     -0.666      0.506      -0.019       0.009\n",
      "x251           0.0032      0.007      0.444      0.657      -0.011       0.017\n",
      "x252           0.0003      0.007      0.041      0.967      -0.014       0.014\n",
      "x253          -0.0077      0.007     -1.094      0.274      -0.022       0.006\n",
      "x254           0.0145      0.007      2.037      0.042       0.001       0.028\n",
      "x255           0.0046      0.007      0.647      0.518      -0.009       0.019\n",
      "x256          -0.0067      0.007     -0.938      0.349      -0.021       0.007\n",
      "x257          -0.0041      0.007     -0.579      0.563      -0.018       0.010\n",
      "x258          -0.0061      0.007     -0.854      0.393      -0.020       0.008\n",
      "x259          -0.0067      0.007     -0.948      0.343      -0.021       0.007\n",
      "x260          -0.0116      0.007     -1.635      0.103      -0.025       0.002\n",
      "x261          -0.0097      0.007     -1.361      0.174      -0.024       0.004\n",
      "x262           0.0008      0.007      0.111      0.911      -0.013       0.015\n",
      "x263          -0.0017      0.007     -0.234      0.815      -0.016       0.012\n",
      "==============================================================================\n",
      "Omnibus:                      141.574   Durbin-Watson:                   1.962\n",
      "Prob(Omnibus):                  0.000   Jarque-Bera (JB):              397.037\n",
      "Skew:                           0.888   Prob(JB):                     6.09e-87\n",
      "Kurtosis:                       5.959   Cond. No.                     1.20e+16\n",
      "==============================================================================\n",
      "\n",
      "Warnings:\n",
      "[1] Standard Errors assume that the covariance matrix of the errors is correctly specified.\n",
      "[2] The smallest eigenvalue is 1.4e-29. This might indicate that there are\n",
      "strong multicollinearity problems or that the design matrix is singular.\n"
     ]
    }
   ],
   "source": [
    "X2   = sm.add_constant(X_train_std)\n",
    "est  = sm.OLS(y_train, X2)\n",
    "est2 = est.fit()\n",
    "print(est2.summary())"
   ]
  },
  {
   "cell_type": "markdown",
   "metadata": {},
   "source": [
    "After removing __male__ feature we can observe that __Adjusted R-squared has not changed__ from the previous model. Therefore we can conclude that gender was not contributing to our model and the main contributing features would be:\n",
    "\n",
    "- Daily Time Spent on site\n",
    "- Daily Internet Usage\n",
    "- Age\n",
    "- Country\n",
    "- Area income"
   ]
  },
  {
   "cell_type": "code",
   "execution_count": 28,
   "metadata": {},
   "outputs": [
    {
     "name": "stdout",
     "output_type": "stream",
     "text": [
      "Accuracy of Logistic regression training set: 0.992\n"
     ]
    }
   ],
   "source": [
    "# Applying logistic regression model to training data\n",
    "lr = LogisticRegression(penalty=\"l2\", C= 0.1, random_state=42)\n",
    "lr.fit(X_train_std, y_train)\n",
    "# Predict using model\n",
    "lr_training_pred = lr.predict(X_train_std)\n",
    "lr_training_prediction = accuracy_score(y_train, lr_training_pred)\n",
    "\n",
    "print( \"Accuracy of Logistic regression training set:\",   round(lr_training_prediction,3))"
   ]
  },
  {
   "cell_type": "code",
   "execution_count": 29,
   "metadata": {},
   "outputs": [
    {
     "name": "stdout",
     "output_type": "stream",
     "text": [
      "10 fold CV accuracy: 0.954 +/- 0.021\n"
     ]
    }
   ],
   "source": [
    "#Creating K fold Cross-validation \n",
    "from sklearn.model_selection import KFold\n",
    "kf = KFold(n_splits=10, shuffle=True, random_state=42)\n",
    "scores = cross_val_score(lr, # model\n",
    "                         X_train_std, # Feature matrix\n",
    "                         y_train, # Target vector\n",
    "                         cv=kf, # Cross-validation technique\n",
    "                         scoring=\"accuracy\", # Loss function\n",
    "                         n_jobs=-1) # Use all CPU scores\n",
    "print('10 fold CV accuracy: %.3f +/- %.3f' % (np.mean(scores), np.std(scores)))"
   ]
  },
  {
   "cell_type": "code",
   "execution_count": 30,
   "metadata": {},
   "outputs": [
    {
     "name": "stdout",
     "output_type": "stream",
     "text": [
      "The cross validated score for Logistic Regression Classifier is: 95.38\n"
     ]
    },
    {
     "data": {
      "text/plain": [
       "Text(0.5,1.05,'Confusion_matrix')"
      ]
     },
     "execution_count": 30,
     "metadata": {},
     "output_type": "execute_result"
    },
    {
     "data": {
      "image/png": "[encoded data removed]",
      "text/plain": [
       "<Figure size 432x288 with 2 Axes>"
      ]
     },
     "metadata": {},
     "output_type": "display_data"
    }
   ],
   "source": [
    "from sklearn.model_selection import cross_val_predict\n",
    "print('The cross validated score for Logistic Regression Classifier is:',round(scores.mean()*100,2))\n",
    "y_pred = cross_val_predict(lr,X_train_std,y_train,cv=10)\n",
    "sns.heatmap(confusion_matrix(y_train,y_pred),annot=True,fmt='3.0f',cmap=\"winter\")\n",
    "plt.title('Confusion_matrix', y=1.05, size=15)"
   ]
  },
  {
   "cell_type": "markdown",
   "metadata": {},
   "source": [
    "# Random Forest Model"
   ]
  },
  {
   "cell_type": "code",
   "execution_count": 31,
   "metadata": {},
   "outputs": [
    {
     "name": "stdout",
     "output_type": "stream",
     "text": [
      "Accuracy of Random Forest training set: 0.994\n"
     ]
    }
   ],
   "source": [
    "from sklearn.ensemble import RandomForestClassifier\n",
    "\n",
    "rf = RandomForestClassifier(criterion='gini', n_estimators=400,\n",
    "                             min_samples_split=10,min_samples_leaf=1,\n",
    "                             max_features='auto',oob_score=True,\n",
    "                             random_state=42,n_jobs=-1)\n",
    "rf.fit(X_train_std,y_train)\n",
    "# Predict using model\n",
    "rf_training_pred = rf.predict(X_train_std)\n",
    "rf_training_prediction = accuracy_score(y_train, rf_training_pred)\n",
    "\n",
    "print(\"Accuracy of Random Forest training set:\",   round(rf_training_prediction,3))"
   ]
  },
  {
   "cell_type": "code",
   "execution_count": 32,
   "metadata": {},
   "outputs": [
    {
     "name": "stdout",
     "output_type": "stream",
     "text": [
      "10 fold CV accuracy: 0.966 +/- 0.013\n"
     ]
    }
   ],
   "source": [
    "kf = KFold(n_splits=10, shuffle=True, random_state=42)\n",
    "scores = cross_val_score(rf, # model\n",
    "                         X_train_std, # Feature matrix\n",
    "                         y_train, # Target vector\n",
    "                         cv=kf, # Cross-validation technique\n",
    "                         scoring=\"accuracy\", # Loss function\n",
    "                         n_jobs=-1) # Use all CPU scores\n",
    "print('10 fold CV accuracy: %.3f +/- %.3f' % (np.mean(scores), np.std(scores)))"
   ]
  },
  {
   "cell_type": "code",
   "execution_count": 33,
   "metadata": {},
   "outputs": [
    {
     "name": "stdout",
     "output_type": "stream",
     "text": [
      "The cross validated score for Random Forest Classifier is: 96.62\n"
     ]
    },
    {
     "data": {
      "text/plain": [
       "Text(0.5,1.05,'Confusion_matrix')"
      ]
     },
     "execution_count": 33,
     "metadata": {},
     "output_type": "execute_result"
    },
    {
     "data": {
      "image/png": "[encoded data removed]",
      "text/plain": [
       "<Figure size 432x288 with 2 Axes>"
      ]
     },
     "metadata": {},
     "output_type": "display_data"
    }
   ],
   "source": [
    "from sklearn.model_selection import cross_val_predict\n",
    "print('The cross validated score for Random Forest Classifier is:',round(scores.mean()*100,2))\n",
    "y_pred = cross_val_predict(rf,X_train_std,y_train,cv=10)\n",
    "sns.heatmap(confusion_matrix(y_train,y_pred),annot=True,fmt='3.0f',cmap=\"winter\")\n",
    "plt.title('Confusion_matrix', y=1.05, size=15)"
   ]
  },
  {
   "cell_type": "markdown",
   "metadata": {},
   "source": [
    "# Test Models Performance"
   ]
  },
  {
   "cell_type": "code",
   "execution_count": 34,
   "metadata": {},
   "outputs": [
    {
     "name": "stdout",
     "output_type": "stream",
     "text": [
      "\n",
      "\n",
      " ---Logistic Regression Model---\n",
      "Logistic Regression AUC = 0.91\n",
      "             precision    recall  f1-score   support\n",
      "\n",
      "          0       0.84      0.97      0.90        89\n",
      "          1       0.97      0.86      0.91       111\n",
      "\n",
      "avg / total       0.91      0.91      0.91       200\n",
      "\n",
      "\n",
      "\n",
      " ---Random Forest Model---\n",
      "Random Forest AUC = 0.94\n",
      "             precision    recall  f1-score   support\n",
      "\n",
      "          0       0.94      0.92      0.93        89\n",
      "          1       0.94      0.95      0.95       111\n",
      "\n",
      "avg / total       0.94      0.94      0.94       200\n",
      "\n"
     ]
    }
   ],
   "source": [
    "print (\"\\n\\n ---Logistic Regression Model---\")\n",
    "lr_auc = roc_auc_score(y_test, lr.predict(X_test_std))\n",
    "\n",
    "print (\"Logistic Regression AUC = %2.2f\" % lr_auc)\n",
    "print(classification_report(y_test, lr.predict(X_test_std)))\n",
    "\n",
    "print (\"\\n\\n ---Random Forest Model---\")\n",
    "rf_roc_auc = roc_auc_score(y_test, rf.predict(X_test_std))\n",
    "\n",
    "print (\"Random Forest AUC = %2.2f\" % rf_roc_auc)\n",
    "print(classification_report(y_test, rf.predict(X_test_std)))"
   ]
  },
  {
   "cell_type": "markdown",
   "metadata": {},
   "source": [
    "We can observe that random forest has higher accuracy compared to logistic regression model in both test and train data sets "
   ]
  },
  {
   "cell_type": "markdown",
   "metadata": {},
   "source": [
    "# ROC Graph"
   ]
  },
  {
   "cell_type": "code",
   "execution_count": 35,
   "metadata": {},
   "outputs": [
    {
     "data": {
      "image/png": "[encoded data removed]",
      "text/plain": [
       "<Figure size 432x288 with 1 Axes>"
      ]
     },
     "metadata": {},
     "output_type": "display_data"
    }
   ],
   "source": [
    "# Create ROC Graph\n",
    "from sklearn.metrics import roc_curve\n",
    "fpr, tpr, thresholds = roc_curve(y_test, lr.predict_proba(X_test_std)[:,1])\n",
    "rf_fpr, rf_tpr, rf_thresholds = roc_curve(y_test, rf.predict_proba(X_test_std)[:,1])\n",
    "\n",
    "\n",
    "plt.figure()\n",
    "\n",
    "# Plot Logistic Regression ROC\n",
    "plt.plot(fpr, tpr, label='Logistic Regression (area = %0.2f)' % lr_auc)\n",
    "\n",
    "# Plot Random Forest ROC\n",
    "plt.plot(rf_fpr, rf_tpr, label='Random Forest Classifier (area = %0.2f)' % rf_roc_auc)\n",
    "\n",
    "\n",
    "# Plot Base Rate ROC\n",
    "plt.plot([0,1], [0,1],label='Base Rate')\n",
    "\n",
    "plt.xlim([0.0, 1.0])\n",
    "plt.ylim([0.0, 1.05])\n",
    "plt.xlabel('False Positive Rate')\n",
    "plt.ylabel('True Positive Rate')\n",
    "plt.title('ROC Graph')\n",
    "plt.legend(loc=\"lower right\")\n",
    "plt.show()"
   ]
  },
  {
   "cell_type": "markdown",
   "metadata": {},
   "source": [
    "# Random Forest Feature Importances"
   ]
  },
  {
   "cell_type": "code",
   "execution_count": 36,
   "metadata": {},
   "outputs": [],
   "source": [
    "columns = X.columns\n",
    "train = pd.DataFrame(np.atleast_2d(X_train_std), columns=columns) # Converting numpy array list into dataframes"
   ]
  },
  {
   "cell_type": "code",
   "execution_count": 37,
   "metadata": {},
   "outputs": [
    {
     "data": {
      "text/html": [
       "<div>\n",
       "<style scoped>\n",
       "    .dataframe tbody tr th:only-of-type {\n",
       "        vertical-align: middle;\n",
       "    }\n",
       "\n",
       "    .dataframe tbody tr th {\n",
       "        vertical-align: top;\n",
       "    }\n",
       "\n",
       "    .dataframe thead th {\n",
       "        text-align: right;\n",
       "    }\n",
       "</style>\n",
       "<table border=\"1\" class=\"dataframe\">\n",
       "  <thead>\n",
       "    <tr style=\"text-align: right;\">\n",
       "      <th></th>\n",
       "      <th>index</th>\n",
       "      <th>importance</th>\n",
       "    </tr>\n",
       "  </thead>\n",
       "  <tbody>\n",
       "    <tr>\n",
       "      <th>0</th>\n",
       "      <td>Daily Internet Usage</td>\n",
       "      <td>0.363155</td>\n",
       "    </tr>\n",
       "    <tr>\n",
       "      <th>1</th>\n",
       "      <td>Daily Time Spent on Site</td>\n",
       "      <td>0.283201</td>\n",
       "    </tr>\n",
       "    <tr>\n",
       "      <th>2</th>\n",
       "      <td>Area Income</td>\n",
       "      <td>0.113893</td>\n",
       "    </tr>\n",
       "    <tr>\n",
       "      <th>3</th>\n",
       "      <td>Age_Elder</td>\n",
       "      <td>0.039546</td>\n",
       "    </tr>\n",
       "    <tr>\n",
       "      <th>4</th>\n",
       "      <td>Age_Adult</td>\n",
       "      <td>0.028179</td>\n",
       "    </tr>\n",
       "    <tr>\n",
       "      <th>5</th>\n",
       "      <td>Age_Mid</td>\n",
       "      <td>0.008104</td>\n",
       "    </tr>\n",
       "    <tr>\n",
       "      <th>6</th>\n",
       "      <td>Country_Hungary</td>\n",
       "      <td>0.003655</td>\n",
       "    </tr>\n",
       "    <tr>\n",
       "      <th>7</th>\n",
       "      <td>Male</td>\n",
       "      <td>0.003080</td>\n",
       "    </tr>\n",
       "    <tr>\n",
       "      <th>8</th>\n",
       "      <td>Hour_Hour_6-11</td>\n",
       "      <td>0.003060</td>\n",
       "    </tr>\n",
       "    <tr>\n",
       "      <th>9</th>\n",
       "      <td>Country_Australia</td>\n",
       "      <td>0.002839</td>\n",
       "    </tr>\n",
       "  </tbody>\n",
       "</table>\n",
       "</div>"
      ],
      "text/plain": [
       "                      index  importance\n",
       "0      Daily Internet Usage    0.363155\n",
       "1  Daily Time Spent on Site    0.283201\n",
       "2               Area Income    0.113893\n",
       "3                 Age_Elder    0.039546\n",
       "4                 Age_Adult    0.028179\n",
       "5                   Age_Mid    0.008104\n",
       "6           Country_Hungary    0.003655\n",
       "7                      Male    0.003080\n",
       "8            Hour_Hour_6-11    0.003060\n",
       "9         Country_Australia    0.002839"
      ]
     },
     "execution_count": 37,
     "metadata": {},
     "output_type": "execute_result"
    }
   ],
   "source": [
    "# Get Feature Importances\n",
    "feature_importances = pd.DataFrame(rf.feature_importances_,\n",
    "                                   index = train.columns,\n",
    "                                    columns=['importance']).sort_values('importance', ascending=False)\n",
    "feature_importances = feature_importances.reset_index()\n",
    "feature_importances.head(10)"
   ]
  },
  {
   "cell_type": "code",
   "execution_count": 38,
   "metadata": {},
   "outputs": [
    {
     "data": {
      "text/plain": [
       "<matplotlib.axes._subplots.AxesSubplot at 0x16f9f570>"
      ]
     },
     "execution_count": 38,
     "metadata": {},
     "output_type": "execute_result"
    },
    {
     "data": {
      "image/png": "[encoded data removed]",
      "text/plain": [
       "<Figure size 936x504 with 1 Axes>"
      ]
     },
     "metadata": {},
     "output_type": "display_data"
    }
   ],
   "source": [
    "sns.set(style=\"whitegrid\")\n",
    "\n",
    "# Initialize the matplotlib figure\n",
    "f, ax = plt.subplots(figsize=(13, 7))\n",
    "\n",
    "# Plot the Feature Importance\n",
    "sns.set_color_codes(\"pastel\")\n",
    "sns.barplot(x=\"importance\", y='index', data=feature_importances[0:10],\n",
    "            label=\"Total\", color=\"b\")"
   ]
  },
  {
   "cell_type": "markdown",
   "metadata": {},
   "source": [
    "# Recommendations"
   ]
  },
  {
   "cell_type": "markdown",
   "metadata": {},
   "source": [
    "Above are the dominant features our model is predicting so our target population are the people:\n",
    "\n",
    "- Who Spends less time on the internet\n",
    "- Who spends less time on the website\n",
    "- Who has lower income\n",
    "- Who are older than our average sample (mean around 40 years old)"
   ]
  }
 ],
 "metadata": {
  "kernelspec": {
   "display_name": "Python 3",
   "language": "python",
   "name": "python3"
  },
  "language_info": {
   "codemirror_mode": {
    "name": "ipython",
    "version": 3
   },
   "file_extension": ".py",
   "mimetype": "text/x-python",
   "name": "python",
   "nbconvert_exporter": "python",
   "pygments_lexer": "ipython3",
   "version": "3.6.5"
  },
  "toc": {
   "base_numbering": 1,
   "nav_menu": {},
   "number_sections": true,
   "sideBar": true,
   "skip_h1_title": false,
   "title_cell": "Table of Contents",
   "title_sidebar": "Contents",
   "toc_cell": false,
   "toc_position": {},
   "toc_section_display": true,
   "toc_window_display": false
  }
 },
 "nbformat": 4,
 "nbformat_minor": 2
}
