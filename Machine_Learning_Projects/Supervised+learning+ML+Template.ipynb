{
 "cells": [
  {
   "cell_type": "markdown",
   "metadata": {},
   "source": [
    "# 1. Defining Problem"
   ]
  },
  {
   "cell_type": "markdown",
   "metadata": {},
   "source": [
    "### 1.1 Define/explain problem statement. Description on domain of the problem\n",
    "### 1.2 Previous work - research papers, blogposts, open sourced code \n",
    "### 1.3 Data description / data dictionary"
   ]
  },
  {
   "cell_type": "markdown",
   "metadata": {},
   "source": [
    "# 2. Importing Data"
   ]
  },
  {
   "cell_type": "markdown",
   "metadata": {},
   "source": [
    "### 2.1 Load data loading libraries then visualization libraries then Ml libraries\n",
    "### 2.2 Import helper functions\n",
    "### 2.3 Load data"
   ]
  },
  {
   "cell_type": "markdown",
   "metadata": {},
   "source": [
    "# 3 Understanding Data"
   ]
  },
  {
   "cell_type": "markdown",
   "metadata": {},
   "source": [
    "### 3.1 determine data type of columns and group  - Categorical | Numerical | Alphanumeric\n",
    "### 3.2 Write a function to determine data type. \n",
    "- I/P : dataset\n",
    "- O/P : column with their data type / list out data types with column names\n",
    "### 3.3 Split dataset into Train and Test\n",
    "- Overview of training data\n",
    "- overview of testing data"
   ]
  },
  {
   "cell_type": "markdown",
   "metadata": {},
   "source": [
    "# 4. Exploratory Data Analysis"
   ]
  },
  {
   "cell_type": "markdown",
   "metadata": {},
   "source": [
    "### 4.1 Response rate % -- Pie chart, bar charts \n",
    "### 4.2 Response rate distribution\n",
    "### 4.3 Individual feature viz -\n",
    "- seperate function for categorical - countplots, frequency plots\n",
    "- seperate function for Continous features - distribution plots\n",
    "\n",
    "### 4.4 Uni variate, Bi variate , Multi variate\n",
    "### 4.5 Hypothesis (possible reasons for the patterns which you see in the plots) - should check if it is true - add as a feature"
   ]
  },
  {
   "cell_type": "markdown",
   "metadata": {},
   "source": [
    "# 5. Correlation - Multi feature comparison"
   ]
  },
  {
   "cell_type": "markdown",
   "metadata": {},
   "source": [
    "### 5.1 Correlation heatmap - explore correlation between numerical features\n",
    "### 5.2 correlation b/w numerical and ordinal features\n",
    "### 5.3 correlation b/w categorical features\n",
    "### 5.4 correlation b/w categorical and numerical features"
   ]
  },
  {
   "cell_type": "markdown",
   "metadata": {},
   "source": [
    "# 6. Data Correction and Transformation"
   ]
  },
  {
   "cell_type": "markdown",
   "metadata": {},
   "source": [
    "### 6.1 check for issues in the dataset\n",
    "\n",
    "- any wrong inputs | wrong data found - human error, system error, encoding error\n",
    "- Rectify these issues\n",
    "\n",
    "### 6.2 Transforming data so that distributions of training and unseen data are the same - so that model works properly\n",
    "\n",
    "##Other related  feature transformations\n",
    "\n",
    " > - Box cox algorithm\n",
    " >  normalize the feature\n",
    " > - plot, find the number to standarize with\n",
    " \n",
    "##Label encoder\n",
    "##Dummy encoder (one hot encoder) \n",
    "##Combine multiple levels"
   ]
  },
  {
   "cell_type": "markdown",
   "metadata": {},
   "source": [
    "# 7. Missing Value Impution"
   ]
  },
  {
   "cell_type": "markdown",
   "metadata": {},
   "source": [
    "### 7.1 place holder(-1)\n",
    "### 7.2 missing value imputation by chained equations\n",
    "### 7.3 mean, median, mode - continous features\n",
    "### 7.4 add context - if you have time and date related features \n",
    "#choose n dates below and n dates afer that obs and impute\n",
    "### 7.5 fitting a model - linear model\n",
    "\n",
    "#Business rules\n",
    "-  if categorical - max, min, range value encoding\n",
    "-  completing / correcting numerical features - plot a distribution"
   ]
  },
  {
   "cell_type": "markdown",
   "metadata": {
    "collapsed": true
   },
   "source": [
    "## Missing Values Detection\n",
    "\n",
    "#Determining missing values in features (train and test)\n",
    "- write a fn to get % of missing values for each columns in the dataset\n",
    "\n",
    "#Identify the reason for missing data occurence\n",
    "\n",
    "> Understand data collection process\n",
    "\n",
    "> Missing completely at random\n",
    " - Nature of missing data is not related to any of the variables whether missing / observed . Missing completely unsystematic\n",
    "\n",
    "Example, let’s look at a study that involves determining the reason for obesity among K12 children. \n",
    "MCAR is when the parents forgot to take their kids to the clinic for the study.\n",
    "    \n",
    "> Missing at random\n",
    " - Nature of missing data is related to the observed data but not the missing data\n",
    "\n",
    "Missing data in this case is due to parents moving to a different city and hence,the children had to leave the study — missingness has nothing to do with the study.\n",
    "\n",
    "> Missing not at random\n",
    " - These exists when the missing values are neither MCAR / MAR. \n",
    " - The missing values are realted to both the observed and unobserved variable  \n",
    "\n",
    "An example of MNAR is that the parents are offended by the nature of the study and do not want their children to be bullied, \n",
    "so they withdrew kids from the study.\n"
   ]
  },
  {
   "cell_type": "markdown",
   "metadata": {
    "collapsed": true
   },
   "source": [
    "# 8. Feature Engineering\n",
    "\n",
    "#1. \n",
    "\n",
    " > - Scaling by Max-Min | - Box-Cox Algo\n",
    " > - Normalization using Std Deviation \n",
    " > - One hot encoding, Target encoding, Label encoding\n",
    "\n",
    "#2. \n",
    "\n",
    " > Date based features - Month, Year, Sales last month, Sales last week\n",
    " > Combine multiple common features to create a single class\n",
    "\n",
    "#3.\n",
    "\n",
    " > Interaction features - A B - A+B | A-B |A*B |A/B - decide on features to create interaction by plotting hierarchical clustering\n",
    "\n",
    "#4.\n",
    "\n",
    " > Business KPI's (look for target leaks)\n",
    "\n",
    "#5.\n",
    " > Recency - Signals how old certain event is\n",
    " > Frequency - Signals how often certain event occurs\n",
    " > Monetary - Numerical representation of direct or Indirect business value\n",
    " > Variety - How many distinct items for certain type of an example\n",
    " > Tenure - Time elapsed since the first appearanc  a certain example\n",
    "\n",
    "\n",
    "#6.\n",
    "\n",
    "#Clip values\n",
    "#Divison / combining multiple features - Sales for a particular product in last 6 months purchased by only IT professionals\n",
    "\n",
    " > Indicator variables\n",
    "#convering categorical into numeric\n",
    "\n",
    "- label encoder\n",
    "- dummy encoder / one hot encoding\n",
    "- combining based on frequency\n",
    "- bucketization / segments\n",
    "\n",
    "#7.\n",
    "\n",
    "#Domain dependant \n",
    "\n",
    "#8.\n",
    "\n",
    "#if variable is continous , create segementations\n"
   ]
  },
  {
   "cell_type": "markdown",
   "metadata": {},
   "source": [
    "# 9. Modeling"
   ]
  },
  {
   "cell_type": "markdown",
   "metadata": {},
   "source": [
    "### 9.1 Evaluation metric description\n",
    "- run checks if train and test data are proper\n",
    "- check if columns are in the same order in train and test\n",
    "- response column should be properly encoded - (Survived / Not-Survived) - (0/1)"
   ]
  },
  {
   "cell_type": "markdown",
   "metadata": {
    "collapsed": true
   },
   "source": [
    "> - create a holdout dataset - (created from training set)\n",
    "> - Feature selection\n",
    "> - Train multiple models (with cross validation (save cv results))\n",
    "> - Save the fold indices\n",
    "> - Save model outputs\n",
    "> - select best performing model and plot/show feature Importance \n",
    "> - Prediction on the test set\n",
    "> - Generate evaluation metric numbers on the training set and test set"
   ]
  },
  {
   "cell_type": "markdown",
   "metadata": {},
   "source": [
    "# 10. ML Deployment"
   ]
  },
  {
   "cell_type": "markdown",
   "metadata": {
    "collapsed": true
   },
   "source": [
    "### 10.1 Present your model results\n",
    "### 10.2 Deploy the model - RESTful api endpoints (ML model serving)\n",
    "### 10.3 export the model file - .pkl, pojo, mojo, pmml"
   ]
  },
  {
   "cell_type": "markdown",
   "metadata": {},
   "source": [
    "# Resources"
   ]
  },
  {
   "cell_type": "markdown",
   "metadata": {
    "collapsed": true
   },
   "source": [
    "1. Basics of machine learning\n",
    "\n",
    "   https://www.analyticsvidhya.com/blog/2015/06/machine-learning-basics/\n",
    "   https://towardsdatascience.com/the-7-steps-of-machine-learning-2877d7e5548e \n",
    "\n",
    "\n",
    "2. Applied Machine Learning Process\n",
    "\n",
    "   https://machinelearningmastery.com/4-steps-to-get-started-in-machine-learning/ \n",
    "\n",
    "\n",
    "3. Explains the different steps in the machine learning process\n",
    "\n",
    "   https://machinelearningmastery.com/process-for-working-through-machine-learning-problems/ - \n",
    "\n",
    "\n",
    "4. http://www.r2d3.us/visual-intro-to-machine-learning-part-1/\n",
    "    \n",
    "\n",
    "5. https://www.analyticsvidhya.com/blog/2016/01/guide-data-exploration/\n",
    "    \n",
    "6. https://www.analyticsvidhya.com/blog/2015/11/easy-methods-deal-categorical-variables-predictive-modeling/\n",
    "    \n",
    "7. https://www.analyticsvidhya.com/blog/2015/12/improve-machine-learning-results/\n",
    "    \n",
    "8. https://elitedatascience.com/machine-learning-iteration\n",
    "    \n",
    "9. http://scikit-learn.org/dev/auto_examples/preprocessing/plot_power_transformer.html\n",
    "    \n",
    "10. https://elitedatascience.com/bias-variance-tradeoff\n",
    "    \n",
    "11. https://machinelearningmastery.com/discover-feature-engineering-how-to-engineer-features-and-how-to-get-good-at-it/\n",
    "    \n",
    "12. https://elitedatascience.com/feature-engineering-best-practices\n",
    "    \n",
    "13. https://www.kdnuggets.com/2017/10/jmp-data-derived-variables.html\n",
    "    \n",
    "14. https://www.kdnuggets.com/tag/feature-engineering\n",
    "    \n",
    "15. https://www.quora.com/What-are-some-best-practices-in-Feature-Engineering\n",
    "\n",
    "16. https://medium.com/ibm-data-science-experience/missing-data-conundrum-exploration-and-imputation-techniques-9f40abe0fd87"
   ]
  },
  {
   "cell_type": "markdown",
   "metadata": {
    "collapsed": true
   },
   "source": [
    "# Project Scoping"
   ]
  }
 ],
 "metadata": {
  "kernelspec": {
   "display_name": "Python 3",
   "language": "python",
   "name": "python3"
  },
  "language_info": {
   "codemirror_mode": {
    "name": "ipython",
    "version": 3
   },
   "file_extension": ".py",
   "mimetype": "text/x-python",
   "name": "python",
   "nbconvert_exporter": "python",
   "pygments_lexer": "ipython3",
   "version": "3.6.0"
  }
 },
 "nbformat": 4,
 "nbformat_minor": 2
}
