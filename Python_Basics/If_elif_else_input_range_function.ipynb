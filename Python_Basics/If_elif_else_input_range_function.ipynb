{
 "cells": [
  {
   "cell_type": "markdown",
   "metadata": {},
   "source": [
    "# If_elif_else \n",
    "\n",
    "if, elif and else statements are logical expersions (Flow control statement)"
   ]
  },
  {
   "cell_type": "code",
   "execution_count": 1,
   "metadata": {
    "collapsed": false
   },
   "outputs": [
    {
     "name": "stdout",
     "output_type": "stream",
     "text": [
      "Odd Number\n"
     ]
    }
   ],
   "source": [
    "a = 99\n",
    "if a % 2 == 0:\n",
    "    print(\"Even Number\")\n",
    "else:\n",
    "    print(\"Odd Number\")     # simple if and else example"
   ]
  },
  {
   "cell_type": "code",
   "execution_count": 2,
   "metadata": {
    "collapsed": false
   },
   "outputs": [
    {
     "name": "stdout",
     "output_type": "stream",
     "text": [
      "b is between 100 and 40\n",
      "b is an multiple of 5\n"
     ]
    }
   ],
   "source": [
    "b = 50\n",
    "\n",
    "if b < 100 and b > 40:\n",
    "    print(\"b is between 100 and 40\")\n",
    "    if b % 5 == 0:\n",
    "        print(\"b is an multiple of 5\")\n",
    "    else:\n",
    "        print('b is not a mutiple of 5 and is also not in between 40 and 100') # nested if example"
   ]
  },
  {
   "cell_type": "code",
   "execution_count": 3,
   "metadata": {
    "collapsed": false
   },
   "outputs": [
    {
     "name": "stdout",
     "output_type": "stream",
     "text": [
      "Good Evening\n"
     ]
    }
   ],
   "source": [
    "hour = 18    # 6 pm \n",
    "\n",
    "if hour > 22 and hour < 5:\n",
    "    print(\"Good night!\")\n",
    "elif hour > 5 and hour < 11:\n",
    "    print(\"Good Morning!\")\n",
    "elif hour > 11 and hour < 15:\n",
    "    print(\"Good Afternoon!\")\n",
    "else:\n",
    "    print(\"Good Evening\")      # if_elif_else example"
   ]
  },
  {
   "cell_type": "markdown",
   "metadata": {},
   "source": [
    "Sample example can be used to demonstrate input function."
   ]
  },
  {
   "cell_type": "code",
   "execution_count": 4,
   "metadata": {
    "collapsed": false
   },
   "outputs": [
    {
     "name": "stdout",
     "output_type": "stream",
     "text": [
      "Enter the time: 8\n",
      "Good Morning!\n"
     ]
    }
   ],
   "source": [
    "Time = int(input(\"Enter the time: \"))\n",
    "\n",
    "if Time > 22 and Time < 5:\n",
    "    print(\"Good night!\")\n",
    "elif Time > 5 and Time < 11:\n",
    "    print(\"Good Morning!\")\n",
    "elif Time > 11 and Time < 15:\n",
    "    print(\"Good Afternoon!\")\n",
    "else:\n",
    "    print(\"Good Evening\") "
   ]
  },
  {
   "cell_type": "markdown",
   "metadata": {},
   "source": [
    "# ATM Withdrawal "
   ]
  },
  {
   "cell_type": "code",
   "execution_count": 5,
   "metadata": {
    "collapsed": true
   },
   "outputs": [],
   "source": [
    "balance = 5400\n",
    "password = 8999"
   ]
  },
  {
   "cell_type": "code",
   "execution_count": 6,
   "metadata": {
    "collapsed": false
   },
   "outputs": [
    {
     "name": "stdout",
     "output_type": "stream",
     "text": [
      "Please enter the password: 8999\n"
     ]
    }
   ],
   "source": [
    "Reqd_password = int(input(\"Please enter the password: \")) # input() is a dynamic function which allows users to interact."
   ]
  },
  {
   "cell_type": "code",
   "execution_count": 7,
   "metadata": {
    "collapsed": false
   },
   "outputs": [
    {
     "name": "stdout",
     "output_type": "stream",
     "text": [
      "Enter the amount to withdraw: 100\n"
     ]
    }
   ],
   "source": [
    "if Reqd_password == password:\n",
    "    amount = int(input(\"Enter the amount to withdraw: \")) # Here it will ask the user to enter the amount\n",
    "else:\n",
    "    print(\"Password is incorrect! Please try again!\")"
   ]
  },
  {
   "cell_type": "code",
   "execution_count": 8,
   "metadata": {
    "collapsed": false
   },
   "outputs": [
    {
     "name": "stdout",
     "output_type": "stream",
     "text": [
      "Your account balance is: 5300\n"
     ]
    }
   ],
   "source": [
    "if amount < balance:\n",
    "    balance = balance - amount\n",
    "    print(\"Your account balance is: \"+str(balance))\n",
    "else:\n",
    "    print('Insufficient funds!')"
   ]
  },
  {
   "cell_type": "markdown",
   "metadata": {},
   "source": [
    "# Range"
   ]
  },
  {
   "cell_type": "code",
   "execution_count": 9,
   "metadata": {
    "collapsed": false
   },
   "outputs": [
    {
     "name": "stdout",
     "output_type": "stream",
     "text": [
      "range(0, 100)\n"
     ]
    }
   ],
   "source": [
    "print(range(100)) # prints the range from 0 to 100"
   ]
  },
  {
   "cell_type": "code",
   "execution_count": 10,
   "metadata": {
    "collapsed": false
   },
   "outputs": [
    {
     "name": "stdout",
     "output_type": "stream",
     "text": [
      "[0, 1, 2, 3, 4, 5, 6, 7, 8, 9]\n"
     ]
    }
   ],
   "source": [
    "my_list = list(range(10))\n",
    "print(my_list)              # o to N-1 "
   ]
  },
  {
   "cell_type": "code",
   "execution_count": 11,
   "metadata": {
    "collapsed": true
   },
   "outputs": [],
   "source": [
    "even = list(range(0, 20, 2))\n",
    "odd = list(range(1, 30, 2))"
   ]
  },
  {
   "cell_type": "code",
   "execution_count": 12,
   "metadata": {
    "collapsed": false
   },
   "outputs": [
    {
     "name": "stdout",
     "output_type": "stream",
     "text": [
      "[0, 2, 4, 6, 8, 10, 12, 14, 16, 18]\n",
      "[1, 3, 5, 7, 9, 11, 13, 15, 17, 19, 21, 23, 25, 27, 29]\n"
     ]
    }
   ],
   "source": [
    "print(even)\n",
    "print(odd)"
   ]
  },
  {
   "cell_type": "code",
   "execution_count": 13,
   "metadata": {
    "collapsed": false
   },
   "outputs": [
    {
     "name": "stdout",
     "output_type": "stream",
     "text": [
      "5\n"
     ]
    }
   ],
   "source": [
    "my_range = range(0,7)\n",
    "print(my_range.index(5)) # Prints out '5'"
   ]
  },
  {
   "cell_type": "code",
   "execution_count": 14,
   "metadata": {
    "collapsed": true
   },
   "outputs": [],
   "source": [
    "decimals = range(0, 100)\n",
    "my_range = decimals[3:40:3]"
   ]
  },
  {
   "cell_type": "code",
   "execution_count": 15,
   "metadata": {
    "collapsed": false
   },
   "outputs": [
    {
     "name": "stdout",
     "output_type": "stream",
     "text": [
      "range(3, 40, 3)\n"
     ]
    }
   ],
   "source": [
    "print(my_range)"
   ]
  },
  {
   "cell_type": "code",
   "execution_count": 16,
   "metadata": {
    "collapsed": false
   },
   "outputs": [
    {
     "name": "stdout",
     "output_type": "stream",
     "text": [
      "True\n",
      "True\n"
     ]
    }
   ],
   "source": [
    "print(my_range == range(3, 40, 3))\n",
    "print(range(0, 5, 2) == range(0, 6, 2))"
   ]
  },
  {
   "cell_type": "code",
   "execution_count": 17,
   "metadata": {
    "collapsed": false
   },
   "outputs": [
    {
     "name": "stdout",
     "output_type": "stream",
     "text": [
      "range(0, 20)\n",
      "19\n",
      "16\n",
      "13\n",
      "10\n",
      "7\n",
      "4\n",
      "1\n"
     ]
    }
   ],
   "source": [
    "r = range(0, 20)\n",
    "print(r)\n",
    "\n",
    "# Helps in slicing the range in the descending order starting from 19 goes upto 1\n",
    "for i in r[::-3]:\n",
    "    print(i)"
   ]
  },
  {
   "cell_type": "code",
   "execution_count": 18,
   "metadata": {
    "collapsed": false
   },
   "outputs": [
    {
     "name": "stdout",
     "output_type": "stream",
     "text": [
      "True\n"
     ]
    }
   ],
   "source": [
    "print(range(0, 100)[::-2] == range(99, 0, -2)) # comparing different codes"
   ]
  }
 ],
 "metadata": {
  "kernelspec": {
   "display_name": "Python 3",
   "language": "python",
   "name": "python3"
  },
  "language_info": {
   "codemirror_mode": {
    "name": "ipython",
    "version": 3
   },
   "file_extension": ".py",
   "mimetype": "text/x-python",
   "name": "python",
   "nbconvert_exporter": "python",
   "pygments_lexer": "ipython3",
   "version": "3.6.0"
  }
 },
 "nbformat": 4,
 "nbformat_minor": 2
}
