{
 "cells": [
  {
   "cell_type": "markdown",
   "metadata": {},
   "source": [
    "# For Loops"
   ]
  },
  {
   "cell_type": "code",
   "execution_count": 14,
   "metadata": {
    "collapsed": true
   },
   "outputs": [],
   "source": [
    "my_list = [ 10, 20, \"for\", \"loop\", \"prints\", \"every\", \"element\", \"sequentially\"]"
   ]
  },
  {
   "cell_type": "code",
   "execution_count": 15,
   "metadata": {
    "collapsed": false
   },
   "outputs": [
    {
     "name": "stdout",
     "output_type": "stream",
     "text": [
      "10\n",
      "20\n",
      "for\n",
      "loop\n",
      "prints\n",
      "every\n",
      "element\n",
      "sequentially\n"
     ]
    }
   ],
   "source": [
    "for element in my_list:\n",
    "    print(element)"
   ]
  },
  {
   "cell_type": "code",
   "execution_count": 16,
   "metadata": {
    "collapsed": false
   },
   "outputs": [
    {
     "name": "stdout",
     "output_type": "stream",
     "text": [
      "20\n",
      "40\n"
     ]
    }
   ],
   "source": [
    "for element in my_list[:2]:\n",
    "    print(element + element)      # We can limit for loop as well"
   ]
  },
  {
   "cell_type": "code",
   "execution_count": 17,
   "metadata": {
    "collapsed": false
   },
   "outputs": [
    {
     "data": {
      "text/plain": [
       "[0, 5, 10, 15, 20, 25, 30, 35, 40, 45]"
      ]
     },
     "execution_count": 17,
     "metadata": {},
     "output_type": "execute_result"
    }
   ],
   "source": [
    "my_list2 = range(0, 50, 5)\n",
    "list(my_list2)"
   ]
  },
  {
   "cell_type": "code",
   "execution_count": 18,
   "metadata": {
    "collapsed": false
   },
   "outputs": [
    {
     "data": {
      "text/plain": [
       "235"
      ]
     },
     "execution_count": 18,
     "metadata": {},
     "output_type": "execute_result"
    }
   ],
   "source": [
    "sum = 10\n",
    "for value in my_list2:\n",
    "    sum = sum+value\n",
    "sum                      # It will add 10 to (0 + 10 + 15...50)"
   ]
  },
  {
   "cell_type": "code",
   "execution_count": 19,
   "metadata": {
    "collapsed": true
   },
   "outputs": [],
   "source": [
    "programming_languages = [\"R\", \"SQL\", \"Python\"]"
   ]
  },
  {
   "cell_type": "code",
   "execution_count": 20,
   "metadata": {
    "collapsed": false
   },
   "outputs": [],
   "source": [
    "pl_index = list(range(len(programming_languages))) "
   ]
  },
  {
   "cell_type": "code",
   "execution_count": 21,
   "metadata": {
    "collapsed": false
   },
   "outputs": [
    {
     "name": "stdout",
     "output_type": "stream",
     "text": [
      "R\n",
      "SQL\n",
      "Python\n"
     ]
    }
   ],
   "source": [
    "for index in pl_index:\n",
    "    print(programming_languages[index])  # Dynamically accessing elements through indexes intsead of traditional print(i)"
   ]
  },
  {
   "cell_type": "code",
   "execution_count": 22,
   "metadata": {
    "collapsed": true
   },
   "outputs": [],
   "source": [
    "cities_visited = [\"LA\", \"San Francisco\", \"Chicago\", \"St. Louis\"]"
   ]
  },
  {
   "cell_type": "code",
   "execution_count": 23,
   "metadata": {
    "collapsed": false
   },
   "outputs": [
    {
     "name": "stdout",
     "output_type": "stream",
     "text": [
      "I have visited LA\n",
      "I have visited San Francisco\n",
      "I have visited Chicago\n",
      "I have visited St. Louis\n"
     ]
    }
   ],
   "source": [
    "for city in range(len(cities_visited)):\n",
    "    print(\"I have visited {}\".format(cities_visited[city]))"
   ]
  },
  {
   "cell_type": "code",
   "execution_count": 24,
   "metadata": {
    "collapsed": true
   },
   "outputs": [],
   "source": [
    "my_string = \"Python\""
   ]
  },
  {
   "cell_type": "code",
   "execution_count": 25,
   "metadata": {
    "collapsed": false
   },
   "outputs": [],
   "source": [
    "index = list(range(len(my_string)))"
   ]
  },
  {
   "cell_type": "code",
   "execution_count": 26,
   "metadata": {
    "collapsed": false
   },
   "outputs": [
    {
     "name": "stdout",
     "output_type": "stream",
     "text": [
      "#1 letter of my string is P\n",
      "#2 letter of my string is y\n",
      "#3 letter of my string is t\n",
      "#4 letter of my string is h\n",
      "#5 letter of my string is o\n",
      "#6 letter of my string is n\n"
     ]
    }
   ],
   "source": [
    "index = 1\n",
    "for i in range(len(my_string)):\n",
    "    print(\"#{} letter of my string is {}\".format(index, my_string[i]))\n",
    "    index = index + 1"
   ]
  },
  {
   "cell_type": "code",
   "execution_count": 27,
   "metadata": {
    "collapsed": false
   },
   "outputs": [
    {
     "name": "stdout",
     "output_type": "stream",
     "text": [
      "n\n",
      "o\n",
      "h\n",
      "t\n",
      "y\n",
      "P\n"
     ]
    }
   ],
   "source": [
    "for ds in reversed(my_string):\n",
    "    print(ds)                      # using built function called reversed"
   ]
  },
  {
   "cell_type": "code",
   "execution_count": 28,
   "metadata": {
    "collapsed": false
   },
   "outputs": [
    {
     "name": "stdout",
     "output_type": "stream",
     "text": [
      "n\n",
      "o\n",
      "h\n",
      "t\n",
      "y\n",
      "P\n"
     ]
    }
   ],
   "source": [
    "for ds in my_string[::-1]:\n",
    "    print(ds)                              # the other way to print a word in reverse order"
   ]
  },
  {
   "cell_type": "code",
   "execution_count": 29,
   "metadata": {
    "collapsed": false
   },
   "outputs": [
    {
     "name": "stdout",
     "output_type": "stream",
     "text": [
      "P\n",
      "Py\n",
      "Pyt\n",
      "Pyth\n",
      "Pytho\n",
      "Python\n",
      "Pytho\n",
      "Pyth\n",
      "Pyt\n",
      "Py\n",
      "P\n",
      "\n"
     ]
    }
   ],
   "source": [
    "p = 0\n",
    "for i in my_string:\n",
    "    p = p + 1\n",
    "    print(my_string[0:p])\n",
    "    \n",
    "for i in my_string:\n",
    "    p = p - 1\n",
    "    print(my_string[0:p])       "
   ]
  },
  {
   "cell_type": "code",
   "execution_count": 30,
   "metadata": {
    "collapsed": false
   },
   "outputs": [],
   "source": [
    "number_list = range(1,30)"
   ]
  },
  {
   "cell_type": "code",
   "execution_count": 31,
   "metadata": {
    "collapsed": true
   },
   "outputs": [],
   "source": [
    "multiple_2 = []\n",
    "multiple_3 = []\n",
    "multiple_both = []\n",
    "multiple_none = []"
   ]
  },
  {
   "cell_type": "code",
   "execution_count": 32,
   "metadata": {
    "collapsed": false
   },
   "outputs": [],
   "source": [
    "for n in number_list:\n",
    "    if n%2 == 0:\n",
    "        multiple_2.append(n)\n",
    "    elif n%3 == 0:\n",
    "        multiple_3.append(n)\n",
    "    elif (n%2 == 0) and (n%3 == 0):\n",
    "        multiple_both.append(n)\n",
    "    else:\n",
    "        multiple_none.append(n)"
   ]
  },
  {
   "cell_type": "code",
   "execution_count": 33,
   "metadata": {
    "collapsed": false
   },
   "outputs": [
    {
     "name": "stdout",
     "output_type": "stream",
     "text": [
      "[2, 4, 6, 8, 10, 12, 14, 16, 18, 20, 22, 24, 26, 28]\n",
      "[3, 9, 15, 21, 27]\n",
      "[]\n",
      "[1, 5, 7, 11, 13, 17, 19, 23, 25, 29]\n"
     ]
    }
   ],
   "source": [
    "print(multiple_2)\n",
    "print(multiple_3)\n",
    "print(multiple_both)\n",
    "print(multiple_none)"
   ]
  },
  {
   "cell_type": "code",
   "execution_count": 34,
   "metadata": {
    "collapsed": false
   },
   "outputs": [
    {
     "name": "stdout",
     "output_type": "stream",
     "text": [
      "['Star Wars: The force Awakens', 'The Avengers', 'Star wars: The last jedi']\n",
      "['Avatar', 'Black Panther']\n",
      "['Furious 7', 'Avengers: Age of ultron', 'Frozen']\n"
     ]
    }
   ],
   "source": [
    "movies = [\"Avatar\", \"Star Wars: The force Awakens\", \"The Avengers\", \"Furious 7\", \"Avengers: Age of ultron\", \n",
    "          \"Star wars: The last jedi\", \"Frozen\", \"Black Panther\"]\n",
    "the_movies = []\n",
    "r_movies = []\n",
    "rest_movies = []\n",
    "\n",
    "for name in movies:\n",
    "    if \"The\" in name:\n",
    "        the_movies.append(name)\n",
    "    elif name.endswith(\"r\"):\n",
    "        r_movies.append(name)\n",
    "    else:\n",
    "        rest_movies.append(name)\n",
    "\n",
    "print(the_movies)\n",
    "print(r_movies)\n",
    "print(rest_movies)"
   ]
  },
  {
   "cell_type": "markdown",
   "metadata": {},
   "source": [
    "# While Loops"
   ]
  },
  {
   "cell_type": "code",
   "execution_count": 35,
   "metadata": {
    "collapsed": false
   },
   "outputs": [
    {
     "name": "stdout",
     "output_type": "stream",
     "text": [
      "the temperature is too hot!\n",
      "it's at 96\n",
      "the temperature is too hot!\n",
      "it's at 92\n",
      "the temperature is too hot!\n",
      "it's at 88\n",
      "the temperature is too hot!\n",
      "it's at 84\n",
      "the temperature is too hot!\n",
      "it's at 80\n"
     ]
    }
   ],
   "source": [
    "temp = 100\n",
    "while(temp > 80):\n",
    "    temp = temp - 4\n",
    "    print(\"the temperature is too hot!\")\n",
    "    print(\"it's at\", temp)"
   ]
  },
  {
   "cell_type": "code",
   "execution_count": 36,
   "metadata": {
    "collapsed": false
   },
   "outputs": [
    {
     "name": "stdout",
     "output_type": "stream",
     "text": [
      "[0, 1, 2, 3, 4, 5, 6, 7, 8, 9, 10, 11, 12, 13, 14, 15, 16, 17, 18, 19, 20]\n"
     ]
    }
   ],
   "source": [
    "twenty = list()\n",
    "i = 0\n",
    "while (i < 21):\n",
    "    twenty.append(i)\n",
    "    i = i+1\n",
    "print(twenty)"
   ]
  },
  {
   "cell_type": "code",
   "execution_count": 37,
   "metadata": {
    "collapsed": false
   },
   "outputs": [
    {
     "name": "stdout",
     "output_type": "stream",
     "text": [
      "enter your line: I'm learning loops in python!\n",
      "next line please: It will continue to execute until the user provides a blank statement.\n",
      "next line please: \n"
     ]
    }
   ],
   "source": [
    "lines = list()\n",
    "\n",
    "line = input(\"enter your line: \")\n",
    "\n",
    "while line != '':\n",
    "    lines.append(line)\n",
    "    line = (input('next line please: '))"
   ]
  },
  {
   "cell_type": "code",
   "execution_count": 38,
   "metadata": {
    "collapsed": false
   },
   "outputs": [
    {
     "name": "stdout",
     "output_type": "stream",
     "text": [
      "how many actors do you like?4\n",
      " who are your favourite actors? Morgan Freeman\n",
      " who are your favourite actors? Tom Hanks\n",
      " who are your favourite actors? Hugh Jackman\n",
      " who are your favourite actors? Leonardo Dicaprio\n",
      "your favourite actors are\n",
      "Morgan Freeman\n",
      "Tom Hanks\n",
      "Hugh Jackman\n",
      "Leonardo Dicaprio\n"
     ]
    }
   ],
   "source": [
    "favourite_actors = list() #create a list of favourite actors\n",
    "\n",
    "n = int(input(\"how many actors do you like?\"))\n",
    "for i in range(n):\n",
    "    actor = input(\" who are your favourite actors? \")  #stores an input actor into the variable actor\n",
    "    favourite_actors.append(actor)  #store the input actor into favorite actor list\n",
    "    \n",
    "print(\"your favourite actors are\")\n",
    "for actor in favourite_actors: \n",
    "    print(actor)"
   ]
  },
  {
   "cell_type": "code",
   "execution_count": 39,
   "metadata": {
    "collapsed": false
   },
   "outputs": [
    {
     "name": "stdout",
     "output_type": "stream",
     "text": [
      "Enter a word/sentence: Reverse of a string!\n",
      "!gnirts a fo esreveR"
     ]
    }
   ],
   "source": [
    "my_string = input(\"Enter a word/sentence: \")\n",
    "\n",
    "pos = len(my_string) - 1\n",
    "while pos >= 0:\n",
    "    print(my_string[pos], end=\"\")                 # Use end = \" \" to print horizontally   \n",
    "    pos -= 1                                      # Print reverse of a sentence"
   ]
  }
 ],
 "metadata": {
  "kernelspec": {
   "display_name": "Python 3",
   "language": "python",
   "name": "python3"
  },
  "language_info": {
   "codemirror_mode": {
    "name": "ipython",
    "version": 3
   },
   "file_extension": ".py",
   "mimetype": "text/x-python",
   "name": "python",
   "nbconvert_exporter": "python",
   "pygments_lexer": "ipython3",
   "version": "3.6.0"
  }
 },
 "nbformat": 4,
 "nbformat_minor": 2
}
