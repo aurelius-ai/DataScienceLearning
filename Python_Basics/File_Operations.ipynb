{
 "cells": [
  {
   "cell_type": "code",
   "execution_count": 1,
   "metadata": {
    "collapsed": false
   },
   "outputs": [],
   "source": [
    "file = open(\"C:/Users/SANTOSHSRINIVAS/Desktop/Data Science Learning/iris.data.txt\", \"r\")"
   ]
  },
  {
   "cell_type": "code",
   "execution_count": 2,
   "metadata": {
    "collapsed": false
   },
   "outputs": [
    {
     "data": {
      "text/plain": [
       "'5.1,3.5,1.4,0.2,Iris-setosa\\n'"
      ]
     },
     "execution_count": 2,
     "metadata": {},
     "output_type": "execute_result"
    }
   ],
   "source": [
    "file.readline()"
   ]
  },
  {
   "cell_type": "code",
   "execution_count": 3,
   "metadata": {
    "collapsed": false
   },
   "outputs": [],
   "source": [
    "Iris_setosa = [] # create empty list to hold Iris setosa containing lines\n",
    "Iris_versicolor = [] # create empty list to hold Iris versicolor containing lines\n",
    "Iris_virginica = [] # create empty list to hold Iris virginica containing lines"
   ]
  },
  {
   "cell_type": "code",
   "execution_count": 4,
   "metadata": {
    "collapsed": false
   },
   "outputs": [
    {
     "name": "stdout",
     "output_type": "stream",
     "text": [
      "6.3,3.3,6.0,2.5,Iris-virginica\n",
      "\n",
      "5.8,2.7,5.1,1.9,Iris-virginica\n",
      "\n",
      "7.1,3.0,5.9,2.1,Iris-virginica\n",
      "\n",
      "6.3,2.9,5.6,1.8,Iris-virginica\n",
      "\n",
      "6.5,3.0,5.8,2.2,Iris-virginica\n",
      "\n",
      "7.6,3.0,6.6,2.1,Iris-virginica\n",
      "\n",
      "4.9,2.5,4.5,1.7,Iris-virginica\n",
      "\n",
      "7.3,2.9,6.3,1.8,Iris-virginica\n",
      "\n",
      "6.7,2.5,5.8,1.8,Iris-virginica\n",
      "\n",
      "7.2,3.6,6.1,2.5,Iris-virginica\n",
      "\n",
      "6.5,3.2,5.1,2.0,Iris-virginica\n",
      "\n",
      "6.4,2.7,5.3,1.9,Iris-virginica\n",
      "\n",
      "6.8,3.0,5.5,2.1,Iris-virginica\n",
      "\n",
      "5.7,2.5,5.0,2.0,Iris-virginica\n",
      "\n",
      "5.8,2.8,5.1,2.4,Iris-virginica\n",
      "\n",
      "6.4,3.2,5.3,2.3,Iris-virginica\n",
      "\n",
      "6.5,3.0,5.5,1.8,Iris-virginica\n",
      "\n",
      "7.7,3.8,6.7,2.2,Iris-virginica\n",
      "\n",
      "7.7,2.6,6.9,2.3,Iris-virginica\n",
      "\n",
      "6.0,2.2,5.0,1.5,Iris-virginica\n",
      "\n",
      "6.9,3.2,5.7,2.3,Iris-virginica\n",
      "\n",
      "5.6,2.8,4.9,2.0,Iris-virginica\n",
      "\n",
      "7.7,2.8,6.7,2.0,Iris-virginica\n",
      "\n",
      "6.3,2.7,4.9,1.8,Iris-virginica\n",
      "\n",
      "6.7,3.3,5.7,2.1,Iris-virginica\n",
      "\n",
      "7.2,3.2,6.0,1.8,Iris-virginica\n",
      "\n",
      "6.2,2.8,4.8,1.8,Iris-virginica\n",
      "\n",
      "6.1,3.0,4.9,1.8,Iris-virginica\n",
      "\n",
      "6.4,2.8,5.6,2.1,Iris-virginica\n",
      "\n",
      "7.2,3.0,5.8,1.6,Iris-virginica\n",
      "\n",
      "7.4,2.8,6.1,1.9,Iris-virginica\n",
      "\n",
      "7.9,3.8,6.4,2.0,Iris-virginica\n",
      "\n",
      "6.4,2.8,5.6,2.2,Iris-virginica\n",
      "\n",
      "6.3,2.8,5.1,1.5,Iris-virginica\n",
      "\n",
      "6.1,2.6,5.6,1.4,Iris-virginica\n",
      "\n",
      "7.7,3.0,6.1,2.3,Iris-virginica\n",
      "\n",
      "6.3,3.4,5.6,2.4,Iris-virginica\n",
      "\n",
      "6.4,3.1,5.5,1.8,Iris-virginica\n",
      "\n",
      "6.0,3.0,4.8,1.8,Iris-virginica\n",
      "\n",
      "6.9,3.1,5.4,2.1,Iris-virginica\n",
      "\n",
      "6.7,3.1,5.6,2.4,Iris-virginica\n",
      "\n",
      "6.9,3.1,5.1,2.3,Iris-virginica\n",
      "\n",
      "5.8,2.7,5.1,1.9,Iris-virginica\n",
      "\n",
      "6.8,3.2,5.9,2.3,Iris-virginica\n",
      "\n",
      "6.7,3.3,5.7,2.5,Iris-virginica\n",
      "\n",
      "6.7,3.0,5.2,2.3,Iris-virginica\n",
      "\n",
      "6.3,2.5,5.0,1.9,Iris-virginica\n",
      "\n",
      "6.5,3.0,5.2,2.0,Iris-virginica\n",
      "\n",
      "6.2,3.4,5.4,2.3,Iris-virginica\n",
      "\n",
      "5.9,3.0,5.1,1.8,Iris-virginica\n",
      "\n",
      "\n",
      "\n"
     ]
    }
   ],
   "source": [
    "for IS in file:\n",
    "    if \"Iris-setosa\" in IS:\n",
    "        Iris_setosa.append(IS)\n",
    "    elif \"Iris-versicolor\" in IS:\n",
    "        Iris_versicolor.append(IS)\n",
    "    else:\n",
    "        Iris_virginica.append(IS)        \n",
    "        print(IS)"
   ]
  },
  {
   "cell_type": "code",
   "execution_count": 5,
   "metadata": {
    "collapsed": false
   },
   "outputs": [
    {
     "data": {
      "text/plain": [
       "49"
      ]
     },
     "execution_count": 5,
     "metadata": {},
     "output_type": "execute_result"
    }
   ],
   "source": [
    "len(Iris_setosa)  # Number of lines containing Iris-setosa"
   ]
  },
  {
   "cell_type": "code",
   "execution_count": 6,
   "metadata": {
    "collapsed": false
   },
   "outputs": [
    {
     "data": {
      "text/plain": [
       "50"
      ]
     },
     "execution_count": 6,
     "metadata": {},
     "output_type": "execute_result"
    }
   ],
   "source": [
    "len(Iris_versicolor)  # Number of lines containing Iris-versicolor"
   ]
  },
  {
   "cell_type": "code",
   "execution_count": 7,
   "metadata": {
    "collapsed": false
   },
   "outputs": [
    {
     "data": {
      "text/plain": [
       "51"
      ]
     },
     "execution_count": 7,
     "metadata": {},
     "output_type": "execute_result"
    }
   ],
   "source": [
    "len(Iris_virginica)  # Number of lines containing Iris-virginica"
   ]
  },
  {
   "cell_type": "code",
   "execution_count": 8,
   "metadata": {
    "collapsed": false
   },
   "outputs": [
    {
     "data": {
      "text/plain": [
       "'4.9,3.0,1.4,0.2,Iris-setosa\\n'"
      ]
     },
     "execution_count": 8,
     "metadata": {},
     "output_type": "execute_result"
    }
   ],
   "source": [
    "Iris_setosa[0]"
   ]
  },
  {
   "cell_type": "code",
   "execution_count": 9,
   "metadata": {
    "collapsed": true
   },
   "outputs": [],
   "source": [
    "first_col = []\n",
    "for line in Iris_setosa:\n",
    "    words = line.split(\",\")\n",
    "    first_col.append(words[0])   "
   ]
  },
  {
   "cell_type": "code",
   "execution_count": 10,
   "metadata": {
    "collapsed": true
   },
   "outputs": [],
   "source": [
    "clean_first_col = first_col[:150]"
   ]
  },
  {
   "cell_type": "code",
   "execution_count": 11,
   "metadata": {
    "collapsed": false
   },
   "outputs": [
    {
     "name": "stdout",
     "output_type": "stream",
     "text": [
      "['4.9', '4.7', '4.6', '5.0', '5.4', '4.6', '5.0', '4.4', '4.9', '5.4', '4.8', '4.8', '4.3', '5.8', '5.7', '5.4', '5.1', '5.7', '5.1', '5.4', '5.1', '4.6', '5.1', '4.8', '5.0', '5.0', '5.2', '5.2', '4.7', '4.8', '5.4', '5.2', '5.5', '4.9', '5.0', '5.5', '4.9', '4.4', '5.1', '5.0', '4.5', '4.4', '5.0', '5.1', '4.8', '5.1', '4.6', '5.3', '5.0']\n"
     ]
    }
   ],
   "source": [
    "print(clean_first_col)"
   ]
  },
  {
   "cell_type": "code",
   "execution_count": 12,
   "metadata": {
    "collapsed": false
   },
   "outputs": [
    {
     "data": {
      "text/plain": [
       "'5.0'"
      ]
     },
     "execution_count": 12,
     "metadata": {},
     "output_type": "execute_result"
    }
   ],
   "source": [
    "words[0]"
   ]
  },
  {
   "cell_type": "code",
   "execution_count": 13,
   "metadata": {
    "collapsed": false
   },
   "outputs": [
    {
     "data": {
      "text/plain": [
       "'4.3'"
      ]
     },
     "execution_count": 13,
     "metadata": {},
     "output_type": "execute_result"
    }
   ],
   "source": [
    "min(clean_first_col)"
   ]
  },
  {
   "cell_type": "code",
   "execution_count": 14,
   "metadata": {
    "collapsed": false
   },
   "outputs": [
    {
     "data": {
      "text/plain": [
       "'5.8'"
      ]
     },
     "execution_count": 14,
     "metadata": {},
     "output_type": "execute_result"
    }
   ],
   "source": [
    "max(clean_first_col)"
   ]
  },
  {
   "cell_type": "code",
   "execution_count": 15,
   "metadata": {
    "collapsed": true
   },
   "outputs": [],
   "source": [
    "file.close()"
   ]
  }
 ],
 "metadata": {
  "kernelspec": {
   "display_name": "Python 3",
   "language": "python",
   "name": "python3"
  },
  "language_info": {
   "codemirror_mode": {
    "name": "ipython",
    "version": 3
   },
   "file_extension": ".py",
   "mimetype": "text/x-python",
   "name": "python",
   "nbconvert_exporter": "python",
   "pygments_lexer": "ipython3",
   "version": "3.6.0"
  }
 },
 "nbformat": 4,
 "nbformat_minor": 2
}
