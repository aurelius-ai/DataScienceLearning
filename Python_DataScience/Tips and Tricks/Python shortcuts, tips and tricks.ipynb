{
 "cells": [
  {
   "cell_type": "markdown",
   "metadata": {
    "heading_collapsed": true
   },
   "source": [
    "<h1><center>Python Tips and Tricks</center></h1>"
   ]
  },
  {
   "cell_type": "markdown",
   "metadata": {
    "collapsed": true
   },
   "source": [
    "## Table of Contents\n",
    "***"
   ]
  },
  {
   "cell_type": "markdown",
   "metadata": {
    "collapsed": true
   },
   "source": [
    "## [Everything about conda](#All-about-Virtual-Environments)\n",
    "\n",
    "- [Create new conda environment](#1.-Create-a-new-conda-environment)\n",
    "- [Activate new environment](#2.-To-activate-the-virtual-environment)\n",
    "- [Deactivate environment](#3.To-Leave/Deactivate-the-virtual-environment)\n",
    "- [list available environments](#4.-To-list-available-environments)\n",
    "- [Search available environments](#5.-To-search-for-all-the-available-versions-of-a-package)\n",
    "- [Install specific version of package](#6.-To-install-a-specific-version-of-a-package)\n",
    "- [Remove a package](#7.-To-remove-a-package)\n",
    "- [Check current version of a package installed](#8.-To-check-current-version-of-a-package)\n",
    "- [Update a package](#9.-To-update-a-package)\n",
    "- [Search for available package versions](#10.-To-search-for-available-packages-in-conda)\n",
    "- [Find dependencies of a package](#11.-To-find-dependecies-of-a-package)\n",
    "- [Clean Cache after uninstalling a package](#12.-To-clean-Cache-after-uninstalling-packages)\n",
    "- [List of useful conda commands](#List-of-useful-conda-commands)\n",
    "\n",
    "\n",
    "## [Package Installation](#Package-Installation)\n",
    "\n",
    "- [Check location of installed packages](#1.-To-list-the-location-of-a-package-where-it-is-installed)\n",
    "\n",
    "- [Check version of installed packages using pip](#2.-To-check-the-list-of-packages-and-respective-versions-installed)\n",
    "\n",
    "- [Install list of packages from Requirement.txt File](#3.-Install-list-of-packages-for-a-project-from-a-requirements-file)\n",
    "\n",
    "\n",
    "## [Pip Vs Conda Best Practices](#Pip-vs-Conda-Best-Practices)\n",
    "\n",
    "\n",
    "## [Everything about Sys Module](#Sys-Module)\n",
    "\n",
    "- [Check python and anaconda version](#1.-To-check-python-and-anaconda-version)\n",
    "- [Check python path](#2.-To-check-path-where-python-is-installed)\n",
    "\n",
    "\n",
    "## [Everything about OS Module](#Os-Module)\n",
    "\n",
    "- [Check, make, and Remove directory](#1.-To-check,-make-and-remove-directories-using-os)\n",
    "- [OS path Sub module](#Os-path-sub-module)\n",
    "\n",
    "\n",
    "\n",
    "## [Magic Commands](#Magic-Commands)\n",
    "\n",
    "- [Execution time of a cell/function](#1.-To-find-the-execution-time-of-a-cell)\n",
    "- [Print current date](#2.-To-get-current-date)\n",
    "- [List variables present in current environment](#3.-To-list-the-variables-present-in-the-current-environment)\n",
    "- [Clear cache memory ](#4.-To-remove-the-variables-and-clear-the-cache-memory)\n",
    "- [List al magic commands](#5.-List-all-magic-commands)\n",
    "\n",
    "\n",
    "\n",
    "\n",
    "## [Jupyter Themes](#Jupyter-Themes)\n",
    "\n",
    "- [Install jupyter themes](#1.-To-install-Jupyter-Themes)\n",
    "- [List available jupyter themes](#2.-To-list-the-available-Jupyter-Themes)\n",
    "- [Selecting a theme](#3.-selecting-a-particular-theme)\n",
    "- [Revert to original theme](#4.-reverting-to-original-theme)\n",
    "\n",
    "\n",
    "## [Notebook Extensions](#Notebook-Extensions)\n",
    "\n",
    "- [Install notebook extensions](#1.-To-install-notebook-extensions)\n",
    "- [Extensions you may want to enable](#2.-Handy-extensions-you-may-want-to-enable)\n",
    "\n",
    "\n",
    "## [References](#References)"
   ]
  },
  {
   "cell_type": "markdown",
   "metadata": {},
   "source": [
    "# All about Virtual Environments"
   ]
  },
  {
   "cell_type": "markdown",
   "metadata": {
    "heading_collapsed": true
   },
   "source": [
    "### 1. Create a new conda environment\n",
    "\n",
    "__Note:__ Root environment is always activated"
   ]
  },
  {
   "cell_type": "markdown",
   "metadata": {
    "collapsed": true,
    "hidden": true
   },
   "source": [
    "conda create --name mynewenv python=3.6"
   ]
  },
  {
   "cell_type": "markdown",
   "metadata": {
    "hidden": true
   },
   "source": [
    "![conda_env](Images/conda_env.png)"
   ]
  },
  {
   "cell_type": "markdown",
   "metadata": {},
   "source": [
    "### 2. To activate the virtual environment"
   ]
  },
  {
   "cell_type": "markdown",
   "metadata": {
    "collapsed": true
   },
   "source": [
    "activate mynewenv"
   ]
  },
  {
   "cell_type": "markdown",
   "metadata": {},
   "source": [
    "![activate](Images\\activate.png)"
   ]
  },
  {
   "cell_type": "markdown",
   "metadata": {},
   "source": [
    "The directories of the active environment’s executable files are added to the system path.\n",
    "\n",
    "### 3. To Leave/Deactivate the virtual environment"
   ]
  },
  {
   "cell_type": "markdown",
   "metadata": {
    "collapsed": true
   },
   "source": [
    "deactivate"
   ]
  },
  {
   "cell_type": "markdown",
   "metadata": {},
   "source": [
    "![deactivate](Images\\deactivate.png)"
   ]
  },
  {
   "cell_type": "markdown",
   "metadata": {},
   "source": [
    "It is a good practice to deactivate an environment before activating another.\n",
    "\n",
    "It needs to be mentioned that upon deactivating an environment, the root environment becomes active automatically."
   ]
  },
  {
   "cell_type": "markdown",
   "metadata": {},
   "source": [
    "### 4. To list available envirnoments"
   ]
  },
  {
   "cell_type": "code",
   "execution_count": null,
   "metadata": {
    "collapsed": true
   },
   "outputs": [],
   "source": [
    "conda env list"
   ]
  },
  {
   "cell_type": "markdown",
   "metadata": {},
   "source": [
    "![env_list](Images\\env_list.png)"
   ]
  },
  {
   "cell_type": "markdown",
   "metadata": {},
   "source": [
    "The active environment is marked with an asterisk (at each given moment, there can be only one active environment)."
   ]
  },
  {
   "cell_type": "markdown",
   "metadata": {},
   "source": [
    "### 5. To search for all the available versions of a package\n",
    "\n",
    "__Note:__ version marked with * is the current version which is being used"
   ]
  },
  {
   "cell_type": "code",
   "execution_count": null,
   "metadata": {
    "collapsed": true
   },
   "outputs": [],
   "source": [
    "conda search -f seaborn"
   ]
  },
  {
   "cell_type": "markdown",
   "metadata": {},
   "source": [
    "![p_version](Images/p_version.png)"
   ]
  },
  {
   "cell_type": "markdown",
   "metadata": {},
   "source": [
    "### 6. To install a specific version of a package\n",
    "\n",
    "__Note:__ conda will automatically install the latest version of a package "
   ]
  },
  {
   "cell_type": "markdown",
   "metadata": {},
   "source": [
    "conda install seaborn=0.7.0\n",
    "conda install seaborn"
   ]
  },
  {
   "cell_type": "markdown",
   "metadata": {},
   "source": [
    "### 7. To remove a package"
   ]
  },
  {
   "cell_type": "code",
   "execution_count": null,
   "metadata": {
    "collapsed": true
   },
   "outputs": [],
   "source": [
    "conda remove packagename"
   ]
  },
  {
   "cell_type": "markdown",
   "metadata": {
    "collapsed": true
   },
   "source": [
    "### 8. To check current version of a package\n",
    "\n",
    "\n",
    "__Note:__ To run shell commands in jupyter Notebook we need to mention __!__ before the regular shell command"
   ]
  },
  {
   "cell_type": "code",
   "execution_count": 42,
   "metadata": {},
   "outputs": [
    {
     "name": "stdout",
     "output_type": "stream",
     "text": [
      "# packages in environment at C:\\Users\\skonchad\\AppData\\Local\\Continuum\\Anaconda3:\n",
      "#\n",
      "# Name                    Version                   Build  Channel\n",
      "pandas                    0.20.1              np112py36_0  \n"
     ]
    }
   ],
   "source": [
    "!conda list pandas"
   ]
  },
  {
   "cell_type": "markdown",
   "metadata": {},
   "source": [
    "### 9. To update a package"
   ]
  },
  {
   "cell_type": "markdown",
   "metadata": {},
   "source": [
    "conda update pandas"
   ]
  },
  {
   "cell_type": "markdown",
   "metadata": {},
   "source": [
    "### 10. To search for available packages in conda"
   ]
  },
  {
   "cell_type": "code",
   "execution_count": 45,
   "metadata": {},
   "outputs": [
    {
     "name": "stdout",
     "output_type": "stream",
     "text": [
      "Loading channels: ...working... done\n",
      "# Name                  Version           Build  Channel             \n",
      "attrs                    15.2.0          py27_0  pkgs/free           \n",
      "attrs                    15.2.0          py34_0  pkgs/free           \n",
      "attrs                    15.2.0          py35_0  pkgs/free           \n",
      "attrs                    15.2.0          py36_0  pkgs/free           \n",
      "attrs                    17.2.0  py27h5f83b9e_0  pkgs/main           \n",
      "attrs                    17.2.0  py35h4e6749b_0  pkgs/main           \n",
      "attrs                    17.2.0  py36hf9f1a87_0  pkgs/main           \n",
      "attrs                    17.3.0  py27hc6c0fab_0  pkgs/main           \n",
      "attrs                    17.3.0  py35hdfbe3a1_0  pkgs/main           \n",
      "attrs                    17.3.0  py36hc87868e_0  pkgs/main           \n",
      "attrs                    17.4.0          py27_0  pkgs/main           \n",
      "attrs                    17.4.0          py35_0  pkgs/main           \n",
      "attrs                    17.4.0          py36_0  pkgs/main           \n",
      "attrs                    18.1.0          py27_0  pkgs/main           \n",
      "attrs                    18.1.0          py35_0  pkgs/main           \n",
      "attrs                    18.1.0          py36_0  pkgs/main           \n",
      "attrs                    18.1.0          py37_0  pkgs/main           \n",
      "attrs                    18.2.0  py27h28b3542_0  pkgs/main           \n",
      "attrs                    18.2.0  py35h28b3542_0  pkgs/main           \n",
      "attrs                    18.2.0  py36h28b3542_0  pkgs/main           \n",
      "attrs                    18.2.0  py37h28b3542_0  pkgs/main           \n"
     ]
    }
   ],
   "source": [
    "!conda search attrs"
   ]
  },
  {
   "cell_type": "markdown",
   "metadata": {},
   "source": [
    "### 11. To find dependecies of a package"
   ]
  },
  {
   "cell_type": "markdown",
   "metadata": {},
   "source": [
    "conda info numpy=0.13.1=py36*"
   ]
  },
  {
   "cell_type": "markdown",
   "metadata": {},
   "source": [
    "## 12. To clean Cache after uninstalling packages "
   ]
  },
  {
   "cell_type": "markdown",
   "metadata": {},
   "source": [
    "conda clean -tipsy"
   ]
  },
  {
   "cell_type": "markdown",
   "metadata": {},
   "source": [
    "### List of useful conda commands"
   ]
  },
  {
   "cell_type": "markdown",
   "metadata": {},
   "source": [
    "- conda -V  -                                                    Prints the version of anaconda\n",
    "- conda info   -                                                 prints envirnoment and version details\n",
    "- conda env remove --name bio-env   -                            Removes the virtual environment\n",
    "- conda update                      -                            updates the active environment, all the packages in it\n",
    "- conda update python               -                            updates python to latest version\n",
    "- conda install --help              -                            check conda package installation documentation\n",
    "- conda list --help"
   ]
  },
  {
   "cell_type": "markdown",
   "metadata": {},
   "source": [
    "# Package Installation"
   ]
  },
  {
   "cell_type": "markdown",
   "metadata": {},
   "source": [
    "## 1. To list the location of a package where it is installed"
   ]
  },
  {
   "cell_type": "code",
   "execution_count": 5,
   "metadata": {},
   "outputs": [
    {
     "name": "stdout",
     "output_type": "stream",
     "text": [
      "C:\\Users\\skonchad\\AppData\\Local\\Continuum\\Anaconda3\\lib\\site-packages\\pandas\\__init__.py\n",
      "C:\\Users\\skonchad\\AppData\\Local\\Continuum\\Anaconda3\\lib\\site-packages\\seaborn\\__init__.py\n"
     ]
    }
   ],
   "source": [
    "import pandas as pd\n",
    "import seaborn as sns\n",
    "print(pd.__file__)\n",
    "print(sns.__file__)"
   ]
  },
  {
   "cell_type": "markdown",
   "metadata": {},
   "source": [
    "## 2. To check the list of packages and respective versions installed"
   ]
  },
  {
   "cell_type": "code",
   "execution_count": 14,
   "metadata": {},
   "outputs": [
    {
     "name": "stdout",
     "output_type": "stream",
     "text": [
      "alabaster==0.7.10\n",
      "anaconda-client==1.6.3\n",
      "anaconda-navigator==1.6.2\n",
      "anaconda-project==0.8.2\n",
      "asn1crypto==0.22.0\n",
      "astroid==1.4.9\n",
      "astropy==1.3.2\n",
      "Babel==2.4.0\n",
      "backports.shutil-get-terminal-size==1.0.0\n",
      "beautifulsoup4==4.6.0\n",
      "bitarray==0.8.1\n",
      "blaze==0.10.1\n",
      "bleach==1.5.0\n",
      "bokeh==0.12.5\n",
      "bootstrap-difflib==0.0.1\n",
      "boto==2.46.1\n",
      "Bottleneck==1.2.1\n",
      "certifi==2018.11.29\n",
      "cffi==1.10.0\n",
      "chardet==3.0.3\n",
      "click==6.7\n",
      "cloudpickle==0.2.2\n",
      "clyent==1.2.2\n",
      "colorama==0.3.9\n",
      "comtypes==1.1.2\n",
      "conda==4.5.12\n",
      "contextlib2==0.5.5\n",
      "cryptography==1.8.1\n",
      "cycler==0.10.0\n",
      "Cython==0.25.2\n",
      "cytoolz==0.8.2\n",
      "dask==0.14.3\n",
      "datashape==0.5.4\n",
      "decorator==4.0.11\n",
      "distributed==1.16.3\n",
      "docutils==0.13.1\n",
      "entrypoints==0.2.2\n",
      "et-xmlfile==1.0.1\n",
      "fastcache==1.0.2\n",
      "Flask==0.12.2\n",
      "Flask-Cors==3.0.2\n",
      "gevent==1.2.1\n",
      "greenlet==0.4.12\n",
      "h5py==2.7.0\n",
      "HeapDict==1.0.0\n",
      "html5lib==0.999\n",
      "httpretty==0.9.6\n",
      "idna==2.5\n",
      "ijson==2.3\n",
      "imagesize==0.7.1\n",
      "imbalanced-learn==0.4.3\n",
      "imblearn==0.0\n",
      "ipykernel==4.6.1\n",
      "ipynb==0.5.1\n",
      "ipython==5.3.0\n",
      "ipython-genutils==0.2.0\n",
      "ipywidgets==6.0.0\n",
      "isort==4.2.5\n",
      "itsdangerous==0.24\n",
      "jdcal==1.3\n",
      "jedi==0.10.2\n",
      "Jinja2==2.9.6\n",
      "jsonschema==2.6.0\n",
      "jupyter==1.0.0\n",
      "jupyter-client==5.0.1\n",
      "jupyter-console==5.1.0\n",
      "jupyter-contrib-core==0.3.3\n",
      "jupyter-contrib-nbextensions==0.5.0\n",
      "jupyter-core==4.3.0\n",
      "jupyter-highlight-selected-word==0.2.0\n",
      "jupyter-latex-envs==1.4.6\n",
      "jupyter-nbextensions-configurator==0.4.0\n",
      "lazy-object-proxy==1.2.2\n",
      "llvmlite==0.18.0\n",
      "locket==0.2.0\n",
      "lxml==3.7.3\n",
      "MarkupSafe==0.23\n",
      "matplotlib==2.0.2\n",
      "menuinst==1.4.7\n",
      "mistune==0.7.4\n",
      "mpmath==0.19\n",
      "msgpack-python==0.4.8\n",
      "multipledispatch==0.4.9\n",
      "navigator-updater==0.1.0\n",
      "nb-anacondacloud==1.4.0\n",
      "nb-conda==2.2.0\n",
      "nb-conda-kernels==2.1.0\n",
      "nbconvert==5.1.1\n",
      "nbformat==4.3.0\n",
      "nbpresent==3.0.2\n",
      "networkx==1.11\n",
      "nltk==3.2.3\n",
      "nose==1.3.7\n",
      "notebook==5.0.0\n",
      "numba==0.33.0\n",
      "numexpr==2.6.2\n",
      "numpy==1.12.1\n",
      "numpydoc==0.6.0\n",
      "oauthlib==2.1.0\n",
      "odo==0.5.0\n",
      "olefile==0.44\n",
      "openpyxl==2.4.7\n",
      "packaging==16.8\n",
      "pandas==0.20.1\n",
      "pandocfilters==1.4.1\n",
      "partd==0.3.8\n",
      "path.py==10.3.1\n",
      "pathlib2==2.2.1\n",
      "patsy==0.4.1\n",
      "pep8==1.7.0\n",
      "pickleshare==0.7.4\n",
      "Pillow==4.1.1\n",
      "plotly==3.4.2\n",
      "ply==3.10\n",
      "prompt-toolkit==1.0.14\n",
      "psutil==5.2.2\n",
      "py==1.4.33\n",
      "pycosat==0.6.3\n",
      "pycparser==2.17\n",
      "pycrypto==2.6.1\n",
      "pycurl==7.43.0\n",
      "pyflakes==1.5.0\n",
      "Pygments==2.2.0\n",
      "pylint==1.6.4\n",
      "pyodbc==4.0.16\n",
      "pyOpenSSL==17.0.0\n",
      "pyparsing==2.1.4\n",
      "pypyodbc==1.3.4\n",
      "pysnow==0.7.5\n",
      "pytest==3.0.7\n",
      "python-dateutil==2.6.0\n",
      "pytz==2017.2\n",
      "PyWavelets==0.5.2\n",
      "pywin32==220\n",
      "PyYAML==3.12\n",
      "pyzmq==16.0.2\n",
      "QtAwesome==0.4.4\n",
      "qtconsole==4.3.0\n",
      "QtPy==1.2.1\n",
      "requests==2.14.2\n",
      "requests-oauthlib==1.0.0\n",
      "retrying==1.3.3\n",
      "rope-py3k==0.9.4.post1\n",
      "scikit-image==0.13.0\n",
      "scikit-learn==0.20.1\n",
      "scipy==0.19.0\n",
      "seaborn==0.7.1\n",
      "simplegeneric==0.8.1\n",
      "singledispatch==3.4.0.3\n",
      "six==1.10.0\n",
      "snowballstemmer==1.2.1\n",
      "sortedcollections==0.5.3\n",
      "sortedcontainers==1.5.7\n",
      "sphinx==1.5.6\n",
      "spyder==3.1.4\n",
      "SQLAlchemy==1.1.9\n",
      "statsmodels==0.8.0\n",
      "sympy==1.0\n",
      "tables==3.2.2\n",
      "tblib==1.3.2\n",
      "testpath==0.3\n",
      "textblob==0.15.2\n",
      "toolz==0.8.2\n",
      "tornado==4.5.1\n",
      "traitlets==4.3.2\n",
      "unicodecsv==0.14.1\n",
      "wcwidth==0.1.7\n",
      "Werkzeug==0.12.2\n",
      "widgetsnbextension==2.0.0\n",
      "win-unicode-console==0.5\n",
      "wincertstore==0.2\n",
      "wordcloud==1.5.0\n",
      "wrapt==1.10.10\n",
      "xlrd==1.0.0\n",
      "XlsxWriter==0.9.6\n",
      "xlwings==0.10.4\n",
      "xlwt==1.2.0\n",
      "zict==0.1.2\n"
     ]
    }
   ],
   "source": [
    "!pip freeze"
   ]
  },
  {
   "cell_type": "markdown",
   "metadata": {},
   "source": [
    "## 3. Install list of packages for a project from a requirements file"
   ]
  },
  {
   "cell_type": "markdown",
   "metadata": {},
   "source": [
    "pip install -r requirements.txt"
   ]
  },
  {
   "cell_type": "markdown",
   "metadata": {},
   "source": [
    "# Pip vs Conda Best Practices"
   ]
  },
  {
   "cell_type": "markdown",
   "metadata": {},
   "source": [
    "![Best_Practices](Images/Best Practices.png)"
   ]
  },
  {
   "cell_type": "markdown",
   "metadata": {},
   "source": [
    "# Sys Module"
   ]
  },
  {
   "cell_type": "markdown",
   "metadata": {},
   "source": [
    "### 1. To check python and anaconda version"
   ]
  },
  {
   "cell_type": "code",
   "execution_count": 4,
   "metadata": {},
   "outputs": [
    {
     "name": "stdout",
     "output_type": "stream",
     "text": [
      "3.6.1 |Anaconda 4.4.0 (64-bit)| (default, May 11 2017, 13:25:24) [MSC v.1900 64 bit (AMD64)]\n"
     ]
    }
   ],
   "source": [
    "import sys\n",
    "print(sys.version)"
   ]
  },
  {
   "cell_type": "markdown",
   "metadata": {},
   "source": [
    "### 2. To check path where python is installed"
   ]
  },
  {
   "cell_type": "code",
   "execution_count": 7,
   "metadata": {},
   "outputs": [
    {
     "name": "stdout",
     "output_type": "stream",
     "text": [
      "C:\\Users\\skonchad\\AppData\\Local\\Continuum\\Anaconda3\\python.exe\n"
     ]
    }
   ],
   "source": [
    "print(sys.executable)"
   ]
  },
  {
   "cell_type": "code",
   "execution_count": 8,
   "metadata": {},
   "outputs": [
    {
     "name": "stdout",
     "output_type": "stream",
     "text": [
      "['', 'C:\\\\Users\\\\skonchad\\\\AppData\\\\Local\\\\Continuum\\\\Anaconda3\\\\python36.zip', 'C:\\\\Users\\\\skonchad\\\\AppData\\\\Local\\\\Continuum\\\\Anaconda3\\\\DLLs', 'C:\\\\Users\\\\skonchad\\\\AppData\\\\Local\\\\Continuum\\\\Anaconda3\\\\lib', 'C:\\\\Users\\\\skonchad\\\\AppData\\\\Local\\\\Continuum\\\\Anaconda3', 'C:\\\\Users\\\\skonchad\\\\AppData\\\\Local\\\\Continuum\\\\Anaconda3\\\\lib\\\\site-packages', 'C:\\\\Users\\\\skonchad\\\\AppData\\\\Local\\\\Continuum\\\\Anaconda3\\\\lib\\\\site-packages\\\\Sphinx-1.5.6-py3.6.egg', 'C:\\\\Users\\\\skonchad\\\\AppData\\\\Local\\\\Continuum\\\\Anaconda3\\\\lib\\\\site-packages\\\\win32', 'C:\\\\Users\\\\skonchad\\\\AppData\\\\Local\\\\Continuum\\\\Anaconda3\\\\lib\\\\site-packages\\\\win32\\\\lib', 'C:\\\\Users\\\\skonchad\\\\AppData\\\\Local\\\\Continuum\\\\Anaconda3\\\\lib\\\\site-packages\\\\Pythonwin', 'C:\\\\Users\\\\skonchad\\\\AppData\\\\Local\\\\Continuum\\\\Anaconda3\\\\lib\\\\site-packages\\\\setuptools-27.2.0-py3.6.egg', 'C:\\\\Users\\\\skonchad\\\\AppData\\\\Local\\\\Continuum\\\\Anaconda3\\\\lib\\\\site-packages\\\\IPython\\\\extensions', 'C:\\\\Users\\\\skonchad\\\\.ipython']\n"
     ]
    }
   ],
   "source": [
    "print(sys.path)"
   ]
  },
  {
   "cell_type": "markdown",
   "metadata": {},
   "source": [
    "sys.exit() #exits python script "
   ]
  },
  {
   "cell_type": "markdown",
   "metadata": {},
   "source": [
    "# Os Module"
   ]
  },
  {
   "cell_type": "code",
   "execution_count": 5,
   "metadata": {},
   "outputs": [],
   "source": [
    "import os"
   ]
  },
  {
   "cell_type": "code",
   "execution_count": 40,
   "metadata": {},
   "outputs": [
    {
     "data": {
      "text/plain": [
       "['DirEntry',\n",
       " 'F_OK',\n",
       " 'MutableMapping',\n",
       " 'O_APPEND',\n",
       " 'O_BINARY',\n",
       " 'O_CREAT',\n",
       " 'O_EXCL',\n",
       " 'O_NOINHERIT',\n",
       " 'O_RANDOM',\n",
       " 'O_RDONLY',\n",
       " 'O_RDWR',\n",
       " 'O_SEQUENTIAL',\n",
       " 'O_SHORT_LIVED',\n",
       " 'O_TEMPORARY',\n",
       " 'O_TEXT',\n",
       " 'O_TRUNC',\n",
       " 'O_WRONLY',\n",
       " 'P_DETACH',\n",
       " 'P_NOWAIT',\n",
       " 'P_NOWAITO',\n",
       " 'P_OVERLAY',\n",
       " 'P_WAIT',\n",
       " 'PathLike',\n",
       " 'R_OK',\n",
       " 'SEEK_CUR',\n",
       " 'SEEK_END',\n",
       " 'SEEK_SET',\n",
       " 'TMP_MAX',\n",
       " 'W_OK',\n",
       " 'X_OK',\n",
       " '_Environ',\n",
       " '__all__',\n",
       " '__builtins__',\n",
       " '__cached__',\n",
       " '__doc__',\n",
       " '__file__',\n",
       " '__loader__',\n",
       " '__name__',\n",
       " '__package__',\n",
       " '__spec__',\n",
       " '_execvpe',\n",
       " '_exists',\n",
       " '_exit',\n",
       " '_fspath',\n",
       " '_get_exports_list',\n",
       " '_putenv',\n",
       " '_unsetenv',\n",
       " '_wrap_close',\n",
       " 'abc',\n",
       " 'abort',\n",
       " 'access',\n",
       " 'altsep',\n",
       " 'chdir',\n",
       " 'chmod',\n",
       " 'close',\n",
       " 'closerange',\n",
       " 'cpu_count',\n",
       " 'curdir',\n",
       " 'defpath',\n",
       " 'device_encoding',\n",
       " 'devnull',\n",
       " 'dup',\n",
       " 'dup2',\n",
       " 'environ',\n",
       " 'errno',\n",
       " 'error',\n",
       " 'execl',\n",
       " 'execle',\n",
       " 'execlp',\n",
       " 'execlpe',\n",
       " 'execv',\n",
       " 'execve',\n",
       " 'execvp',\n",
       " 'execvpe',\n",
       " 'extsep',\n",
       " 'fdopen',\n",
       " 'fsdecode',\n",
       " 'fsencode',\n",
       " 'fspath',\n",
       " 'fstat',\n",
       " 'fsync',\n",
       " 'ftruncate',\n",
       " 'get_exec_path',\n",
       " 'get_handle_inheritable',\n",
       " 'get_inheritable',\n",
       " 'get_terminal_size',\n",
       " 'getcwd',\n",
       " 'getcwdb',\n",
       " 'getenv',\n",
       " 'getlogin',\n",
       " 'getpid',\n",
       " 'getppid',\n",
       " 'isatty',\n",
       " 'kill',\n",
       " 'linesep',\n",
       " 'link',\n",
       " 'listdir',\n",
       " 'lseek',\n",
       " 'lstat',\n",
       " 'makedirs',\n",
       " 'mkdir',\n",
       " 'name',\n",
       " 'open',\n",
       " 'pardir',\n",
       " 'path',\n",
       " 'pathsep',\n",
       " 'pipe',\n",
       " 'popen',\n",
       " 'putenv',\n",
       " 'read',\n",
       " 'readlink',\n",
       " 'remove',\n",
       " 'removedirs',\n",
       " 'rename',\n",
       " 'renames',\n",
       " 'replace',\n",
       " 'rmdir',\n",
       " 'scandir',\n",
       " 'sep',\n",
       " 'set_handle_inheritable',\n",
       " 'set_inheritable',\n",
       " 'spawnl',\n",
       " 'spawnle',\n",
       " 'spawnv',\n",
       " 'spawnve',\n",
       " 'st',\n",
       " 'startfile',\n",
       " 'stat',\n",
       " 'stat_float_times',\n",
       " 'stat_result',\n",
       " 'statvfs_result',\n",
       " 'strerror',\n",
       " 'supports_bytes_environ',\n",
       " 'supports_dir_fd',\n",
       " 'supports_effective_ids',\n",
       " 'supports_fd',\n",
       " 'supports_follow_symlinks',\n",
       " 'symlink',\n",
       " 'sys',\n",
       " 'system',\n",
       " 'terminal_size',\n",
       " 'times',\n",
       " 'times_result',\n",
       " 'truncate',\n",
       " 'umask',\n",
       " 'uname_result',\n",
       " 'unlink',\n",
       " 'urandom',\n",
       " 'utime',\n",
       " 'waitpid',\n",
       " 'walk',\n",
       " 'write']"
      ]
     },
     "execution_count": 40,
     "metadata": {},
     "output_type": "execute_result"
    }
   ],
   "source": [
    "dir(os)"
   ]
  },
  {
   "cell_type": "markdown",
   "metadata": {},
   "source": [
    "## 1. To check, make and remove directories using os"
   ]
  },
  {
   "cell_type": "code",
   "execution_count": 6,
   "metadata": {},
   "outputs": [
    {
     "data": {
      "text/plain": [
       "'C:\\\\Users\\\\skonchad\\\\Desktop\\\\DS_Projects\\\\Tricks_and_tips'"
      ]
     },
     "execution_count": 6,
     "metadata": {},
     "output_type": "execute_result"
    }
   ],
   "source": [
    "os.getcwd()"
   ]
  },
  {
   "cell_type": "code",
   "execution_count": 4,
   "metadata": {
    "collapsed": true
   },
   "outputs": [],
   "source": [
    "os.mkdir('C:\\\\Users\\\\skonchad\\\\Desktop\\\\DS_Projects\\\\Test')"
   ]
  },
  {
   "cell_type": "code",
   "execution_count": 7,
   "metadata": {},
   "outputs": [
    {
     "data": {
      "text/plain": [
       "'C:\\\\Users\\\\skonchad\\\\Desktop\\\\DS_Projects\\\\Test'"
      ]
     },
     "execution_count": 7,
     "metadata": {},
     "output_type": "execute_result"
    }
   ],
   "source": [
    "os.chdir('C:\\\\Users\\\\skonchad\\\\Desktop\\\\DS_Projects\\\\Test')\n",
    "os.getcwd()"
   ]
  },
  {
   "cell_type": "code",
   "execution_count": 14,
   "metadata": {
    "collapsed": true
   },
   "outputs": [],
   "source": [
    "# os.makedirs('C:/Users/skonchad/Desktop/DS_Projects/Test2', 0777)\n",
    "# print(\"Path is created\")"
   ]
  },
  {
   "cell_type": "code",
   "execution_count": 22,
   "metadata": {},
   "outputs": [
    {
     "name": "stdout",
     "output_type": "stream",
     "text": [
      "test.txt\n"
     ]
    }
   ],
   "source": [
    "!ls"
   ]
  },
  {
   "cell_type": "code",
   "execution_count": 23,
   "metadata": {
    "collapsed": true
   },
   "outputs": [],
   "source": [
    "os.remove('C:\\\\Users\\\\skonchad\\\\Desktop\\\\DS_Projects\\\\Test\\\\test.txt')"
   ]
  },
  {
   "cell_type": "code",
   "execution_count": 25,
   "metadata": {
    "collapsed": true
   },
   "outputs": [],
   "source": [
    "#os.rmdir('C:\\\\Users\\\\skonchad\\\\Desktop\\\\DS_Projects\\\\Test')"
   ]
  },
  {
   "cell_type": "code",
   "execution_count": null,
   "metadata": {
    "collapsed": true
   },
   "outputs": [],
   "source": [
    "#os.removedirs(C:\\\\Users\\\\skonchad\\\\Desktop\\\\DS_Projects\\\\Test\\\\Test2')\n",
    "# Remove multiple directories"
   ]
  },
  {
   "cell_type": "code",
   "execution_count": 3,
   "metadata": {},
   "outputs": [
    {
     "data": {
      "text/plain": [
       "True"
      ]
     },
     "execution_count": 3,
     "metadata": {},
     "output_type": "execute_result"
    }
   ],
   "source": [
    "os.access('C:\\\\Users\\\\skonchad\\\\Desktop\\\\DS_Projects\\\\Test', os.F_OK) # Tests existence of the path\n",
    "#R_OK, W_OK,X_OK (path can be executed)"
   ]
  },
  {
   "cell_type": "code",
   "execution_count": 10,
   "metadata": {},
   "outputs": [
    {
     "data": {
      "text/plain": [
       "True"
      ]
     },
     "execution_count": 10,
     "metadata": {},
     "output_type": "execute_result"
    }
   ],
   "source": [
    "os.access('F:\\\\Support Organization\\\\Analytics\\\\Interface', os.X_OK)"
   ]
  },
  {
   "cell_type": "markdown",
   "metadata": {},
   "source": [
    "### Os path sub module"
   ]
  },
  {
   "cell_type": "code",
   "execution_count": 27,
   "metadata": {},
   "outputs": [
    {
     "data": {
      "text/plain": [
       "'C:\\\\Users\\\\skonchad\\\\Desktop\\\\DS_Projects'"
      ]
     },
     "execution_count": 27,
     "metadata": {},
     "output_type": "execute_result"
    }
   ],
   "source": [
    "os.path.join('C:\\\\Users\\\\skonchad\\\\Desktop\\\\DS_Projects\\\\Tricks_and_tips', 'C:\\\\Users\\\\skonchad\\\\Desktop\\\\DS_Projects') \n",
    "# Join 2 or more paths"
   ]
  },
  {
   "cell_type": "code",
   "execution_count": 29,
   "metadata": {},
   "outputs": [
    {
     "data": {
      "text/plain": [
       "'C:\\\\Users\\\\skonchad\\\\Desktop\\\\DS_Projects\\\\Test\\\\Desktop\\\\DS_Projects\\\\Tricks_and_tips'"
      ]
     },
     "execution_count": 29,
     "metadata": {},
     "output_type": "execute_result"
    }
   ],
   "source": [
    "os.path.abspath('Desktop\\\\DS_Projects\\\\Tricks_and_tips') \n",
    "# takes a relative path and returns absolute path"
   ]
  },
  {
   "cell_type": "code",
   "execution_count": 30,
   "metadata": {},
   "outputs": [
    {
     "data": {
      "text/plain": [
       "True"
      ]
     },
     "execution_count": 30,
     "metadata": {},
     "output_type": "execute_result"
    }
   ],
   "source": [
    "os.path.exists('C:\\\\Users\\\\skonchad\\\\Desktop\\\\DS_Projects\\\\Test')"
   ]
  },
  {
   "cell_type": "code",
   "execution_count": 31,
   "metadata": {},
   "outputs": [
    {
     "data": {
      "text/plain": [
       "True"
      ]
     },
     "execution_count": 31,
     "metadata": {},
     "output_type": "execute_result"
    }
   ],
   "source": [
    "os.path.isdir('C:\\\\Users\\\\skonchad\\\\Desktop\\\\DS_Projects\\\\Test')"
   ]
  },
  {
   "cell_type": "code",
   "execution_count": 33,
   "metadata": {},
   "outputs": [
    {
     "data": {
      "text/plain": [
       "False"
      ]
     },
     "execution_count": 33,
     "metadata": {},
     "output_type": "execute_result"
    }
   ],
   "source": [
    "os.path.isdir('C://Users//skonchad//Desktop//DS_Projects//Tricks_and_tips//code_snippets.ipynb')"
   ]
  },
  {
   "cell_type": "code",
   "execution_count": 36,
   "metadata": {},
   "outputs": [
    {
     "data": {
      "text/plain": [
       "'C:\\\\Users\\\\skonchad\\\\Desktop\\\\DS_Projects\\\\Test'"
      ]
     },
     "execution_count": 36,
     "metadata": {},
     "output_type": "execute_result"
    }
   ],
   "source": [
    "os.path.normpath('C:\\\\Users\\\\skonchad\\\\Desktop\\\\DS_Projects\\\\Test')"
   ]
  },
  {
   "cell_type": "code",
   "execution_count": 37,
   "metadata": {},
   "outputs": [
    {
     "data": {
      "text/plain": [
       "('C://Users//skonchad//Desktop//DS_Projects//Tricks_and_tips',\n",
       " 'code_snippets.ipynb')"
      ]
     },
     "execution_count": 37,
     "metadata": {},
     "output_type": "execute_result"
    }
   ],
   "source": [
    "os.path.split('C://Users//skonchad//Desktop//DS_Projects//Tricks_and_tips\\\\code_snippets.ipynb')"
   ]
  },
  {
   "cell_type": "code",
   "execution_count": 2,
   "metadata": {},
   "outputs": [
    {
     "name": "stdout",
     "output_type": "stream",
     "text": [
      "['Categorical', 'CategoricalIndex', 'DataFrame', 'DateOffset', 'DatetimeIndex', 'ExcelFile', 'ExcelWriter', 'Expr', 'Float64Index', 'Grouper', 'HDFStore', 'Index', 'IndexSlice', 'Int64Index', 'Interval', 'IntervalIndex', 'MultiIndex', 'NaT', 'Panel', 'Panel4D', 'Period', 'PeriodIndex', 'RangeIndex', 'Series', 'SparseArray', 'SparseDataFrame', 'SparseList', 'SparseSeries', 'Term', 'TimeGrouper', 'Timedelta', 'TimedeltaIndex', 'Timestamp', 'UInt64Index', 'WidePanel', '_DeprecatedModule', '__builtins__', '__cached__', '__doc__', '__docformat__', '__file__', '__loader__', '__name__', '__package__', '__path__', '__spec__', '__version__', '_hashtable', '_lib', '_libs', '_np_version_under1p10', '_np_version_under1p11', '_np_version_under1p12', '_np_version_under1p8', '_np_version_under1p9', '_tslib', '_version', 'api', 'bdate_range', 'compat', 'concat', 'core', 'crosstab', 'cut', 'date_range', 'datetime', 'datetools', 'describe_option', 'errors', 'eval', 'ewma', 'ewmcorr', 'ewmcov', 'ewmstd', 'ewmvar', 'ewmvol', 'expanding_apply', 'expanding_corr', 'expanding_count', 'expanding_cov', 'expanding_kurt', 'expanding_max', 'expanding_mean', 'expanding_median', 'expanding_min', 'expanding_quantile', 'expanding_skew', 'expanding_std', 'expanding_sum', 'expanding_var', 'factorize', 'get_dummies', 'get_option', 'get_store', 'groupby', 'infer_freq', 'interval_range', 'io', 'isnull', 'json', 'lib', 'lreshape', 'match', 'melt', 'merge', 'merge_asof', 'merge_ordered', 'notnull', 'np', 'offsets', 'option_context', 'options', 'ordered_merge', 'pandas', 'parser', 'period_range', 'pivot', 'pivot_table', 'plot_params', 'plotting', 'pnow', 'qcut', 'read_clipboard', 'read_csv', 'read_excel', 'read_feather', 'read_fwf', 'read_gbq', 'read_hdf', 'read_html', 'read_json', 'read_msgpack', 'read_pickle', 'read_sas', 'read_sql', 'read_sql_query', 'read_sql_table', 'read_stata', 'read_table', 'reset_option', 'rolling_apply', 'rolling_corr', 'rolling_count', 'rolling_cov', 'rolling_kurt', 'rolling_max', 'rolling_mean', 'rolling_median', 'rolling_min', 'rolling_quantile', 'rolling_skew', 'rolling_std', 'rolling_sum', 'rolling_var', 'rolling_window', 'scatter_matrix', 'set_eng_float_format', 'set_option', 'show_versions', 'stats', 'test', 'testing', 'timedelta_range', 'to_datetime', 'to_msgpack', 'to_numeric', 'to_pickle', 'to_timedelta', 'tools', 'tseries', 'tslib', 'unique', 'util', 'value_counts', 'wide_to_long']\n"
     ]
    }
   ],
   "source": [
    "import pandas as pd\n",
    "print(dir(pd))    # to  list all functions of a package"
   ]
  },
  {
   "cell_type": "markdown",
   "metadata": {},
   "source": [
    "# Magic Commands"
   ]
  },
  {
   "cell_type": "markdown",
   "metadata": {},
   "source": [
    "## 1. To find the execution time of a cell"
   ]
  },
  {
   "cell_type": "code",
   "execution_count": 12,
   "metadata": {},
   "outputs": [
    {
     "name": "stdout",
     "output_type": "stream",
     "text": [
      "Wall time: 0 ns\n"
     ]
    }
   ],
   "source": [
    "%%time\n",
    "import numpy\n",
    "numpy.random.normal(size=100)"
   ]
  },
  {
   "cell_type": "code",
   "execution_count": 11,
   "metadata": {},
   "outputs": [
    {
     "name": "stdout",
     "output_type": "stream",
     "text": [
      "10.9 µs ± 955 ns per loop (mean ± std. dev. of 7 runs, 100000 loops each)\n"
     ]
    }
   ],
   "source": [
    "%timeit numpy.random.normal(size=100)"
   ]
  },
  {
   "cell_type": "markdown",
   "metadata": {},
   "source": [
    "## 2. To get current date "
   ]
  },
  {
   "cell_type": "code",
   "execution_count": 5,
   "metadata": {},
   "outputs": [
    {
     "data": {
      "text/plain": [
       "['The current date is: Mon 12/24/2018 ', 'Enter the new date: (mm-dd-yy) ']"
      ]
     },
     "execution_count": 5,
     "metadata": {},
     "output_type": "execute_result"
    }
   ],
   "source": [
    "%system date"
   ]
  },
  {
   "cell_type": "code",
   "execution_count": 6,
   "metadata": {},
   "outputs": [
    {
     "data": {
      "text/plain": [
       "['The current date is: Mon 12/24/2018 ', 'Enter the new date: (mm-dd-yy) ']"
      ]
     },
     "execution_count": 6,
     "metadata": {},
     "output_type": "execute_result"
    }
   ],
   "source": [
    "!!date"
   ]
  },
  {
   "cell_type": "markdown",
   "metadata": {},
   "source": [
    "## 3. To list the variables present in the current environment"
   ]
  },
  {
   "cell_type": "code",
   "execution_count": 7,
   "metadata": {},
   "outputs": [
    {
     "data": {
      "text/plain": [
       "['os']"
      ]
     },
     "execution_count": 7,
     "metadata": {},
     "output_type": "execute_result"
    }
   ],
   "source": [
    "%who_ls"
   ]
  },
  {
   "cell_type": "markdown",
   "metadata": {},
   "source": [
    "## 4. To remove the variables and clear the cache memory"
   ]
  },
  {
   "cell_type": "code",
   "execution_count": 8,
   "metadata": {},
   "outputs": [
    {
     "name": "stdout",
     "output_type": "stream",
     "text": [
      "Once deleted, variables cannot be recovered. Proceed (y/[n])? n\n",
      "Nothing done.\n"
     ]
    }
   ],
   "source": [
    "%reset"
   ]
  },
  {
   "cell_type": "markdown",
   "metadata": {},
   "source": [
    "## 5. List all magic commands"
   ]
  },
  {
   "cell_type": "code",
   "execution_count": 9,
   "metadata": {},
   "outputs": [
    {
     "data": {
      "application/json": {
       "cell": {
        "!": "OSMagics",
        "HTML": "Other",
        "SVG": "Other",
        "bash": "Other",
        "capture": "ExecutionMagics",
        "cmd": "Other",
        "debug": "ExecutionMagics",
        "file": "Other",
        "html": "DisplayMagics",
        "javascript": "DisplayMagics",
        "js": "DisplayMagics",
        "latex": "DisplayMagics",
        "markdown": "DisplayMagics",
        "perl": "Other",
        "prun": "ExecutionMagics",
        "pypy": "Other",
        "python": "Other",
        "python2": "Other",
        "python3": "Other",
        "ruby": "Other",
        "script": "ScriptMagics",
        "sh": "Other",
        "svg": "DisplayMagics",
        "sx": "OSMagics",
        "system": "OSMagics",
        "time": "ExecutionMagics",
        "timeit": "ExecutionMagics",
        "writefile": "OSMagics"
       },
       "line": {
        "alias": "OSMagics",
        "alias_magic": "BasicMagics",
        "autoawait": "AsyncMagics",
        "autocall": "AutoMagics",
        "automagic": "AutoMagics",
        "autosave": "KernelMagics",
        "bookmark": "OSMagics",
        "cd": "OSMagics",
        "clear": "KernelMagics",
        "cls": "KernelMagics",
        "colors": "BasicMagics",
        "config": "ConfigMagics",
        "connect_info": "KernelMagics",
        "copy": "Other",
        "ddir": "Other",
        "debug": "ExecutionMagics",
        "dhist": "OSMagics",
        "dirs": "OSMagics",
        "doctest_mode": "BasicMagics",
        "echo": "Other",
        "ed": "Other",
        "edit": "KernelMagics",
        "env": "OSMagics",
        "gui": "BasicMagics",
        "hist": "Other",
        "history": "HistoryMagics",
        "killbgscripts": "ScriptMagics",
        "ldir": "Other",
        "less": "KernelMagics",
        "load": "CodeMagics",
        "load_ext": "ExtensionMagics",
        "loadpy": "CodeMagics",
        "logoff": "LoggingMagics",
        "logon": "LoggingMagics",
        "logstart": "LoggingMagics",
        "logstate": "LoggingMagics",
        "logstop": "LoggingMagics",
        "ls": "Other",
        "lsmagic": "BasicMagics",
        "macro": "ExecutionMagics",
        "magic": "BasicMagics",
        "matplotlib": "PylabMagics",
        "mkdir": "Other",
        "more": "KernelMagics",
        "notebook": "BasicMagics",
        "page": "BasicMagics",
        "pastebin": "CodeMagics",
        "pdb": "ExecutionMagics",
        "pdef": "NamespaceMagics",
        "pdoc": "NamespaceMagics",
        "pfile": "NamespaceMagics",
        "pinfo": "NamespaceMagics",
        "pinfo2": "NamespaceMagics",
        "pip": "BasicMagics",
        "popd": "OSMagics",
        "pprint": "BasicMagics",
        "precision": "BasicMagics",
        "prun": "ExecutionMagics",
        "psearch": "NamespaceMagics",
        "psource": "NamespaceMagics",
        "pushd": "OSMagics",
        "pwd": "OSMagics",
        "pycat": "OSMagics",
        "pylab": "PylabMagics",
        "qtconsole": "KernelMagics",
        "quickref": "BasicMagics",
        "recall": "HistoryMagics",
        "rehashx": "OSMagics",
        "reload_ext": "ExtensionMagics",
        "ren": "Other",
        "rep": "Other",
        "rerun": "HistoryMagics",
        "reset": "NamespaceMagics",
        "reset_selective": "NamespaceMagics",
        "rmdir": "Other",
        "run": "ExecutionMagics",
        "save": "CodeMagics",
        "sc": "OSMagics",
        "set_env": "OSMagics",
        "store": "StoreMagics",
        "sx": "OSMagics",
        "system": "OSMagics",
        "tb": "ExecutionMagics",
        "time": "ExecutionMagics",
        "timeit": "ExecutionMagics",
        "unalias": "OSMagics",
        "unload_ext": "ExtensionMagics",
        "who": "NamespaceMagics",
        "who_ls": "NamespaceMagics",
        "whos": "NamespaceMagics",
        "xdel": "NamespaceMagics",
        "xmode": "BasicMagics"
       }
      },
      "text/plain": [
       "Available line magics:\n",
       "%alias  %alias_magic  %autoawait  %autocall  %automagic  %autosave  %bookmark  %cd  %clear  %cls  %colors  %config  %connect_info  %copy  %ddir  %debug  %dhist  %dirs  %doctest_mode  %echo  %ed  %edit  %env  %gui  %hist  %history  %killbgscripts  %ldir  %less  %load  %load_ext  %loadpy  %logoff  %logon  %logstart  %logstate  %logstop  %ls  %lsmagic  %macro  %magic  %matplotlib  %mkdir  %more  %notebook  %page  %pastebin  %pdb  %pdef  %pdoc  %pfile  %pinfo  %pinfo2  %popd  %pprint  %precision  %prun  %psearch  %psource  %pushd  %pwd  %pycat  %pylab  %qtconsole  %quickref  %recall  %rehashx  %reload_ext  %ren  %rep  %rerun  %reset  %reset_selective  %rmdir  %run  %save  %sc  %set_env  %store  %sx  %system  %tb  %time  %timeit  %unalias  %unload_ext  %who  %who_ls  %whos  %xdel  %xmode\n",
       "\n",
       "Available cell magics:\n",
       "%%!  %%HTML  %%SVG  %%bash  %%capture  %%cmd  %%debug  %%file  %%html  %%javascript  %%js  %%latex  %%markdown  %%perl  %%prun  %%pypy  %%python  %%python2  %%python3  %%ruby  %%script  %%sh  %%svg  %%sx  %%system  %%time  %%timeit  %%writefile\n",
       "\n",
       "Automagic is ON, % prefix IS NOT needed for line magics."
      ]
     },
     "execution_count": 9,
     "metadata": {},
     "output_type": "execute_result"
    }
   ],
   "source": [
    "%lsmagic"
   ]
  },
  {
   "cell_type": "markdown",
   "metadata": {},
   "source": [
    "## 6. To list environment Variables"
   ]
  },
  {
   "cell_type": "code",
   "execution_count": 14,
   "metadata": {},
   "outputs": [],
   "source": [
    "#%env"
   ]
  },
  {
   "cell_type": "markdown",
   "metadata": {},
   "source": [
    "## Other useful Magic commands"
   ]
  },
  {
   "cell_type": "markdown",
   "metadata": {},
   "source": [
    "%run myscript.py     # runs python script from jupyter notebook\n",
    "%run ./two-histograms.ipynb #this will execute and show the output from , #all code cells of the specified notebook"
   ]
  },
  {
   "cell_type": "markdown",
   "metadata": {},
   "source": [
    "# Jupyter Themes\n",
    "\n",
    "\n",
    "## 1. To install Jupyter Themes"
   ]
  },
  {
   "cell_type": "markdown",
   "metadata": {},
   "source": [
    "conda install -c conda-forge jupyterthemes"
   ]
  },
  {
   "cell_type": "markdown",
   "metadata": {},
   "source": [
    "## 2. To list the available Jupyter Themes"
   ]
  },
  {
   "cell_type": "code",
   "execution_count": 13,
   "metadata": {},
   "outputs": [
    {
     "name": "stdout",
     "output_type": "stream",
     "text": [
      "Available Themes: \n",
      "   chesterish\n",
      "   grade3\n",
      "   gruvboxd\n",
      "   gruvboxl\n",
      "   monokai\n",
      "   oceans16\n",
      "   onedork\n",
      "   solarizedd\n",
      "   solarizedl\n"
     ]
    }
   ],
   "source": [
    "!jt -l"
   ]
  },
  {
   "cell_type": "markdown",
   "metadata": {},
   "source": [
    "## 3. selecting a particular theme"
   ]
  },
  {
   "cell_type": "markdown",
   "metadata": {},
   "source": [
    "jt -t chesterish"
   ]
  },
  {
   "cell_type": "markdown",
   "metadata": {},
   "source": [
    "__Note:__ You will have to reload the jupyter notebook everytime you change the theme, to see the effect take place."
   ]
  },
  {
   "cell_type": "markdown",
   "metadata": {},
   "source": [
    "## 4. reverting to original theme"
   ]
  },
  {
   "cell_type": "markdown",
   "metadata": {},
   "source": [
    "jt -r"
   ]
  },
  {
   "cell_type": "markdown",
   "metadata": {},
   "source": [
    "![JT](Images/JT.png)\n",
    "\n",
    "\n",
    "__If you face any issues with jupyter themese such as unable to restart kernel please follow this [link](https://github.com/jupyter/notebook/issues/1892) to resolve. This mainly happens due to dependencies. __"
   ]
  },
  {
   "cell_type": "markdown",
   "metadata": {
    "collapsed": true
   },
   "source": [
    "# Notebook Extensions"
   ]
  },
  {
   "cell_type": "markdown",
   "metadata": {
    "collapsed": true
   },
   "source": [
    "## 1. To install notebook extensions"
   ]
  },
  {
   "cell_type": "markdown",
   "metadata": {},
   "source": [
    "conda install -c conda-forge jupyter_nbextensions_configurator\n",
    "\n",
    "jupyter contrib nbextension install --user"
   ]
  },
  {
   "cell_type": "markdown",
   "metadata": {},
   "source": [
    "## 2. Handy extensions you may want to enable\n",
    "\n",
    "- Hinterland (ode Autocompletion..just type and tab and it will provide you hints)\n",
    "- snippets (allows you to add code snippets)\n",
    "- Autopep (Beautifies Code)"
   ]
  },
  {
   "cell_type": "markdown",
   "metadata": {},
   "source": [
    "# References"
   ]
  },
  {
   "cell_type": "markdown",
   "metadata": {},
   "source": [
    "- [Set up Environments using conda](https://medium.freecodecamp.org/why-you-need-python-environments-and-how-to-manage-them-with-conda-85f155f4353c)\n",
    "- [conda cheatsheet](https://conda.io/docs/_downloads/conda-cheatsheet.pdf)\n",
    "- [28 jupyter notebook shortcuts, tips and tricks](https://www.dataquest.io/blog/jupyter-notebook-tips-tricks-shortcuts/)\n",
    "- https://www.earthdatascience.org/workshops/setup-earth-analytics-python/setup-git-bash-anaconda/\n",
    "- https://www.geeksforgeeks.org/python-os-access-method/\n",
    "- [Magic Commands Docs](https://ipython.readthedocs.io/en/stable/interactive/magics.html)\n",
    "- [Get the best out of jupyter notebook](https://towardsdatascience.com/bringing-the-best-out-of-jupyter-notebooks-for-data-science-f0871519ca29)\n",
    "- [Solve issue with nbextensions](https://github.com/ipython-contrib/jupyter_contrib_nbextensions/issues/1297)\n",
    "- [Timing and Profiling](http://pynash.org/2013/03/06/timing-and-profiling/)\n",
    "- [More about Jupyter Themes](https://github.com/dunovank/jupyter-themes)"
   ]
  }
 ],
 "metadata": {
  "kernelspec": {
   "display_name": "Python 3",
   "language": "python",
   "name": "python3"
  },
  "language_info": {
   "codemirror_mode": {
    "name": "ipython",
    "version": 3
   },
   "file_extension": ".py",
   "mimetype": "text/x-python",
   "name": "python",
   "nbconvert_exporter": "python",
   "pygments_lexer": "ipython3",
   "version": "3.6.7"
  },
  "toc": {
   "base_numbering": 1,
   "nav_menu": {},
   "number_sections": true,
   "sideBar": true,
   "skip_h1_title": false,
   "title_cell": "Table of Contents",
   "title_sidebar": "Contents",
   "toc_cell": false,
   "toc_position": {},
   "toc_section_display": true,
   "toc_window_display": false
  }
 },
 "nbformat": 4,
 "nbformat_minor": 2
}
